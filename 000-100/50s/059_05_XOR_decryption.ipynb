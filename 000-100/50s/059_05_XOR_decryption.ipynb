{
 "cells": [
  {
   "cell_type": "markdown",
   "metadata": {},
   "source": [
    "## XOR decryption\n",
    "\n",
    "\n",
    "  [Show HTML problem content]  \n",
    "Problem 59\n",
    "\n",
    "Each character on a computer is assigned a unique code and the preferred standard is ASCII (American Standard Code for Information Interchange). For example, uppercase A = 65, asterisk (*) = 42, and lowercase k = 107.\n",
    "\n",
    "A modern encryption method is to take a text file, convert the bytes to ASCII, then XOR each byte with a given value, taken from a secret key. The advantage with the XOR function is that using the same encryption key on the cipher text, restores the plain text; for example, 65 XOR 42 = 107, then 107 XOR 42 = 65.\n",
    "\n",
    "For unbreakable encryption, the key is the same length as the plain text message, and the key is made up of random bytes. The user would keep the encrypted message and the encryption key in different locations, and without both \"halves\", it is impossible to decrypt the message.\n",
    "\n",
    "Unfortunately, this method is impractical for most users, so the modified method is to use a password as a key. If the password is shorter than the message, which is likely, the key is repeated cyclically throughout the message. The balance for this method is using a sufficiently long password key for security, but short enough to be memorable.\n",
    "\n",
    "Your task has been made easy, as the encryption key consists of three lower case characters. Using p059_cipher.txt (right click and 'Save Link/Target As...'), a file containing the encrypted ASCII codes, and the knowledge that the plain text must contain common English words, decrypt the message and find the sum of the ASCII values in the original text.\n",
    "\n",
    "Link: https://projecteuler.net/problem=59\n",
    "\n",
    "Date solved:  \n",
    "2022/07/26"
   ]
  },
  {
   "cell_type": "code",
   "execution_count": 1,
   "metadata": {},
   "outputs": [],
   "source": [
    "# imports\n",
    "from maths import product\n",
    "import string"
   ]
  },
  {
   "cell_type": "code",
   "execution_count": 2,
   "metadata": {},
   "outputs": [
    {
     "data": {
      "text/plain": [
       "129448"
      ]
     },
     "execution_count": 2,
     "metadata": {},
     "output_type": "execute_result"
    }
   ],
   "source": [
    "file_name = '../../problem_files/p059_cipher.txt'\n",
    "with open(file_name,'r') as f:\n",
    "    message = f.read()\n",
    "message = message.split(',')\n",
    "message = list(map(int,message))\n",
    "\n",
    "\n",
    "\n",
    "def decrypt(message,key):\n",
    "    key_len = len(key)\n",
    "    i = 0\n",
    "    decrypted = []\n",
    "    for char in message:\n",
    "        new_val = char ^ key[i]\n",
    "        decrypted.append(new_val)\n",
    "        i = (i+1) % key_len\n",
    "    return decrypted\n",
    "\n",
    "def to_ascii(list):\n",
    "    return ''.join(chr(n) for n in list)\n",
    "def from_ascii(string):\n",
    "    return [ord(n) for n in string]\n",
    "\n",
    "def find_reasonable_message(message):\n",
    "    \n",
    "    alphebet = string.ascii_lowercase\n",
    "\n",
    "    space_count = 0\n",
    "    for key in product(*[alphebet]*3):\n",
    "        key = list(map(ord,key))\n",
    "        decrypted = decrypt(message,key)\n",
    "\n",
    "        count = sum((x == 32) for x in decrypted) # count the number of spaces in the decrypted message\n",
    "        if count > space_count:\n",
    "            best_message = decrypted\n",
    "            space_count = count\n",
    "    return best_message\n",
    "\n",
    "\n",
    "sum(find_reasonable_message(message))"
   ]
  },
  {
   "cell_type": "markdown",
   "metadata": {},
   "source": [
    "## ANSWER = 129448"
   ]
  }
 ],
 "metadata": {
  "kernelspec": {
   "display_name": "Python 3.10.4 ('project_euler-n_y2k3fO')",
   "language": "python",
   "name": "python3"
  },
  "language_info": {
   "codemirror_mode": {
    "name": "ipython",
    "version": 3
   },
   "file_extension": ".py",
   "mimetype": "text/x-python",
   "name": "python",
   "nbconvert_exporter": "python",
   "pygments_lexer": "ipython3",
   "version": "3.10.4"
  },
  "orig_nbformat": 4,
  "vscode": {
   "interpreter": {
    "hash": "2458aa9317e3ad091dce09405bd27e58e704aecbe1f7d76e8b0c3a84d1557548"
   }
  }
 },
 "nbformat": 4,
 "nbformat_minor": 2
}
