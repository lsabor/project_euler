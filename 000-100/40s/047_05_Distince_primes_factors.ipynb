{
 "cells": [
  {
   "cell_type": "markdown",
   "metadata": {},
   "source": [
    "## Distinct primes factors\n",
    "Problem 47\n",
    "\n",
    "The first two consecutive numbers to have two distinct prime factors are:\n",
    "\n",
    "14 = 2 × 7\n",
    "15 = 3 × 5\n",
    "\n",
    "The first three consecutive numbers to have three distinct prime factors are:\n",
    "\n",
    "644 = 2² × 7 × 23\n",
    "645 = 3 × 5 × 43\n",
    "646 = 2 × 17 × 19.\n",
    "\n",
    "Find the first four consecutive integers to have four distinct prime factors each. What is the first of these numbers?\n",
    "\n",
    "\n",
    "\n",
    "Link: https://projecteuler.net/problem=47\n",
    "\n",
    "Date solved:  \n",
    "2022/07/24"
   ]
  },
  {
   "cell_type": "code",
   "execution_count": 4,
   "metadata": {},
   "outputs": [],
   "source": [
    "# imports\n",
    "from sequences.compound import PrimeFactorSeq\n",
    "from primes import numFromPFCounter"
   ]
  },
  {
   "cell_type": "code",
   "execution_count": 6,
   "metadata": {},
   "outputs": [
    {
     "data": {
      "text/plain": [
       "134043"
      ]
     },
     "execution_count": 6,
     "metadata": {},
     "output_type": "execute_result"
    }
   ],
   "source": [
    "pfs = PrimeFactorSeq()\n",
    "\n",
    "def find_consecutive_pf_counts(n):\n",
    "    count = 0\n",
    "    current = 0\n",
    "\n",
    "    i = 0\n",
    "    for pf in pfs:\n",
    "        if len(pf) == n:\n",
    "            if count == 0:\n",
    "                current = numFromPFCounter(pf)\n",
    "            count +=1\n",
    "            if count == n:\n",
    "                return current\n",
    "        else:\n",
    "            count = 0\n",
    "\n",
    "\n",
    "find_consecutive_pf_counts(4)"
   ]
  },
  {
   "cell_type": "markdown",
   "metadata": {},
   "source": [
    "## ANSWER = 134043"
   ]
  }
 ],
 "metadata": {
  "kernelspec": {
   "display_name": "Python 3.10.4 ('project_euler-n_y2k3fO')",
   "language": "python",
   "name": "python3"
  },
  "language_info": {
   "codemirror_mode": {
    "name": "ipython",
    "version": 3
   },
   "file_extension": ".py",
   "mimetype": "text/x-python",
   "name": "python",
   "nbconvert_exporter": "python",
   "pygments_lexer": "ipython3",
   "version": "3.10.4"
  },
  "orig_nbformat": 4,
  "vscode": {
   "interpreter": {
    "hash": "2458aa9317e3ad091dce09405bd27e58e704aecbe1f7d76e8b0c3a84d1557548"
   }
  }
 },
 "nbformat": 4,
 "nbformat_minor": 2
}
