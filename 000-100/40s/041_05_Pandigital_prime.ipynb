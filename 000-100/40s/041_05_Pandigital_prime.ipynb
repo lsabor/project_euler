{
    "cells": [
        {
            "cell_type": "markdown",
            "metadata": {},
            "source": [
                "## Pandigital prime\n",
                "Problem 41\n",
                "\n",
                "We shall say that an n-digit number is pandigital if it makes use of all the digits 1 to n exactly once. For example, 2143 is a 4-digit pandigital and is also prime.\n",
                "\n",
                "What is the largest n-digit pandigital prime that exists?\n",
                "\n",
                "\n",
                "\n",
                "Link: https://projecteuler.net/problem=41\n",
                "\n",
                "Date solved:  \n",
                "2022/07/06"
            ]
        },
        {
            "cell_type": "code",
            "execution_count": 1,
            "metadata": {},
            "outputs": [],
            "source": [
                "# imports\n",
                "from maths.primes import isPrime\n",
                "from maths.math import permutations\n",
                "from functools import reduce\n",
                "from operator import add"
            ]
        },
        {
            "cell_type": "code",
            "execution_count": 3,
            "metadata": {},
            "outputs": [
                {
                    "data": {
                        "text/plain": [
                            "7652413"
                        ]
                    },
                    "execution_count": 3,
                    "metadata": {},
                    "output_type": "execute_result"
                }
            ],
            "source": [
                "\n",
                "\n",
                "def find_largest_pandigital():\n",
                "    pandigital = \"987654321\"\n",
                "    while True:\n",
                "        for n in permutations(pandigital):\n",
                "            # permutations should list the numbers in strictly decending order\n",
                "            p = int(reduce(add,n))\n",
                "            # print(p)\n",
                "            if isPrime(p):\n",
                "                return p\n",
                "        pandigital = pandigital[1:]\n",
                "\n",
                "find_largest_pandigital()\n"
            ]
        },
        {
            "cell_type": "markdown",
            "metadata": {},
            "source": [
                "## ANSWER = 7652413"
            ]
        }
    ],
    "metadata": {
        "kernelspec": {
            "display_name": "Python 3.10.4 ('project_euler-n_y2k3fO')",
            "language": "python",
            "name": "python3"
        },
        "language_info": {
            "codemirror_mode": {
                "name": "ipython",
                "version": 3
            },
            "file_extension": ".py",
            "mimetype": "text/x-python",
            "name": "python",
            "nbconvert_exporter": "python",
            "pygments_lexer": "ipython3",
            "version": "3.10.4"
        },
        "orig_nbformat": 4,
        "vscode": {
            "interpreter": {
                "hash": "2458aa9317e3ad091dce09405bd27e58e704aecbe1f7d76e8b0c3a84d1557548"
            }
        }
    },
    "nbformat": 4,
    "nbformat_minor": 2
}