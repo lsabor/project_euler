{
    "cells": [
        {
            "cell_type": "markdown",
            "metadata": {},
            "source": [
                "## Pandigital products\n",
                "\n",
                "Problem 32\n",
                "\n",
                "We shall say that an n-digit number is pandigital if it makes use of all the digits 1 to n exactly once; for example, the 5-digit number, 15234, is 1 through 5 pandigital.\n",
                "\n",
                "The product 7254 is unusual, as the identity, 39 × 186 = 7254, containing multiplicand, multiplier, and product is 1 through 9 pandigital.\n",
                "\n",
                "Find the sum of all products whose multiplicand/multiplier/product identity can be written as a 1 through 9 pandigital. HINT: Some products can be obtained in more than one way so be sure to only include it once in your sum.\n",
                "\n",
                "Link: https://projecteuler.net/problem=32\n",
                "\n",
                "Date solved:\n",
                "2022/06/01\n"
            ]
        },
        {
            "cell_type": "code",
            "execution_count": 1,
            "metadata": {},
            "outputs": [],
            "source": [
                "# imports\n",
                "from maths.math import permutations"
            ]
        },
        {
            "cell_type": "code",
            "execution_count": 2,
            "metadata": {},
            "outputs": [
                {
                    "data": {
                        "text/plain": [
                            "45228"
                        ]
                    },
                    "execution_count": 2,
                    "metadata": {},
                    "output_type": "execute_result"
                }
            ],
            "source": [
                "# runtime is 1m 15s\n",
                "\n",
                "digits = [1,2,3,4,5,6,7,8,9]\n",
                "\n",
                "def num_from_list(ls):\n",
                "    num = 0\n",
                "    for i,digit in enumerate(ls):\n",
                "        num += digit*(10**i)\n",
                "    return num\n",
                "\n",
                "vals = set()\n",
                "for perm in permutations(digits):\n",
                "    for mult_loc in range(1,len(digits)-1):\n",
                "        for equal_loc in range(mult_loc,len(digits)):\n",
                "            multiplicand = num_from_list(perm[          : mult_loc ])\n",
                "            multiplier   = num_from_list(perm[mult_loc  : equal_loc])\n",
                "            product      = num_from_list(perm[equal_loc :          ])\n",
                "            if multiplicand * multiplier == product:\n",
                "                vals.add(product)\n",
                "\n",
                "sum(vals)"
            ]
        },
        {
            "cell_type": "markdown",
            "metadata": {},
            "source": [
                "## ANSWER = 45228"
            ]
        }
    ],
    "metadata": {
        "kernelspec": {
            "display_name": "Python 3.10.4 ('project_euler-n_y2k3fO')",
            "language": "python",
            "name": "python3"
        },
        "language_info": {
            "codemirror_mode": {
                "name": "ipython",
                "version": 3
            },
            "file_extension": ".py",
            "mimetype": "text/x-python",
            "name": "python",
            "nbconvert_exporter": "python",
            "pygments_lexer": "ipython3",
            "version": "3.10.4"
        },
        "orig_nbformat": 4,
        "vscode": {
            "interpreter": {
                "hash": "2458aa9317e3ad091dce09405bd27e58e704aecbe1f7d76e8b0c3a84d1557548"
            }
        }
    },
    "nbformat": 4,
    "nbformat_minor": 2
}