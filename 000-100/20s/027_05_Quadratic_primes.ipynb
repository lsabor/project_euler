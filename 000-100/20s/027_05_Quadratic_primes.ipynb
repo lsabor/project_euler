{
    "cells": [
        {
            "cell_type": "markdown",
            "metadata": {},
            "source": [
                "## Quadratic primes\n",
                "Problem 27\n",
                "\n",
                "Euler discovered the remarkable quadratic formula:\n",
                "\n",
                "n^^2+n+41\n",
                "\n",
                "It turns out that the formula will produce 40 primes for the consecutive integer values 0 <= n <= 39>. However, when n=40, 40^^2 + 40 + 41 = 40(40+1) + 41 is divisible by 41, and certainly when n = 41, 41^^2 + 41 + 41 is clearly divisible by 41.\n",
                "\n",
                "The incredible formula n^^2 -79*n + 1601 was discovered, which produces 80 primes for the consecutive values 0 <= n <= 79. The product of the coefficients, −79 and 1601, is −126479.\n",
                "\n",
                "Considering quadratics of the form: n^^2+ a*n + b, where |a| < 1000 and |b| <= 1000\n",
                "\n",
                "where |n| is the modulus/absolute value of n\n",
                "e.g. |11| = 11 and |-4| = 4\n",
                "\n",
                "Find the product of the coefficients, a and b, for the quadratic expression that produces the maximum number of primes for consecutive values of n, starting with n=0.\n",
                "\n",
                "Link: https://projecteuler.net/problem=27\n",
                "\n",
                "Date solved:  \n",
                "2022/04/23"
            ]
        },
        {
            "cell_type": "code",
            "execution_count": 1,
            "metadata": {},
            "outputs": [],
            "source": [
                "# imports\n",
                "from maths.sequences import PrimesSeq\n",
                "from maths.math import product"
            ]
        },
        {
            "cell_type": "code",
            "execution_count": 2,
            "metadata": {},
            "outputs": [
                {
                    "data": {
                        "text/plain": [
                            "-59231"
                        ]
                    },
                    "execution_count": 2,
                    "metadata": {},
                    "output_type": "execute_result"
                }
            ],
            "source": [
                "\n",
                "search = 1000\n",
                "\n",
                "P = PrimesSeq().set()\n",
                "\n",
                "def f(n,a,b):\n",
                "    return n**2 + a*n + b\n",
                "\n",
                "ab = 0\n",
                "consecutive = 0\n",
                "for a,b in product(range(-search,search),range(-(search+1),search+1)):\n",
                "    n = 0\n",
                "    while f(n,a,b) in P:\n",
                "        n += 1\n",
                "    if n > consecutive:\n",
                "        consecutive = n\n",
                "        ab = a*b\n",
                "\n",
                "ab\n",
                "\n",
                "\n",
                "\n"
            ]
        },
        {
            "cell_type": "markdown",
            "metadata": {},
            "source": [
                "## ANSWER = -59231"
            ]
        }
    ],
    "metadata": {
        "kernelspec": {
            "display_name": "Python 3.10.4 ('project_euler-n_y2k3fO')",
            "language": "python",
            "name": "python3"
        },
        "language_info": {
            "codemirror_mode": {
                "name": "ipython",
                "version": 3
            },
            "file_extension": ".py",
            "mimetype": "text/x-python",
            "name": "python",
            "nbconvert_exporter": "python",
            "pygments_lexer": "ipython3",
            "version": "3.10.4"
        },
        "orig_nbformat": 4,
        "vscode": {
            "interpreter": {
                "hash": "2458aa9317e3ad091dce09405bd27e58e704aecbe1f7d76e8b0c3a84d1557548"
            }
        }
    },
    "nbformat": 4,
    "nbformat_minor": 2
}
