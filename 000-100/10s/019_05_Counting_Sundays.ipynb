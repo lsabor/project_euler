{
 "cells": [
  {
   "cell_type": "markdown",
   "metadata": {},
   "source": [
    "## Counting Sundays\n",
    "\n",
    "Problem 19\n",
    "\n",
    "You are given the following information, but you may prefer to do some research for yourself.\n",
    "\n",
    "    1 Jan 1900 was a Monday.\n",
    "    Thirty days has September,\n",
    "    April, June and November.\n",
    "    All the rest have thirty-one,\n",
    "    Saving February alone,\n",
    "    Which has twenty-eight, rain or shine.\n",
    "    And on leap years, twenty-nine.\n",
    "    A leap year occurs on any year evenly divisible by 4, but not on a century unless it is divisible by 400.\n",
    "\n",
    "How many Sundays fell on the first of the month during the twentieth century (1 Jan 1901 to 31 Dec 2000)?\n",
    "\n",
    "\n",
    "\n",
    "Link: https://projecteuler.net/problem=19\n",
    "\n",
    "Date solved:  \n",
    "2022/03/21"
   ]
  },
  {
   "cell_type": "code",
   "execution_count": 1,
   "metadata": {},
   "outputs": [],
   "source": [
    "# imports"
   ]
  },
  {
   "cell_type": "code",
   "execution_count": 3,
   "metadata": {},
   "outputs": [
    {
     "data": {
      "text/plain": [
       "171"
      ]
     },
     "execution_count": 3,
     "metadata": {},
     "output_type": "execute_result"
    }
   ],
   "source": [
    "\n",
    "def isLeapYear(year:int) -> bool:\n",
    "    if year % 100 == 0:           # year is a century year\n",
    "        if year % 400 == 0:       # year is a centry year divisible by 400\n",
    "            return True           # is a leap year\n",
    "        return False              # isn't a leap year\n",
    "    if year % 4 == 0:\n",
    "        return True               # is a leap year\n",
    "    return False                  # isn't a leap year\n",
    "\n",
    "def monLen(month:int,year:int) -> int:\n",
    "    if month in [0,2,4,6,7,9,11]:\n",
    "        return 31\n",
    "    elif month == 1:\n",
    "        return 29 if isLeapYear(year) else 28\n",
    "    return 30\n",
    "\n",
    "# find day of week Jan 1 1901\n",
    "len_1900 = 366 if isLeapYear(1900) else 365\n",
    "jan1_1901_day_of_week = (len_1900+1) % 7      # 0: Sunday, 1: Monday, ...\n",
    "\n",
    "sundays_on_first = 0                          # our counter\n",
    "day_of_week = jan1_1901_day_of_week           # starting point\n",
    "for year in range(1901,2001):\n",
    "    for month in range(0,12):\n",
    "        for day in range(0,monLen(month,year)):\n",
    "            if day == 0 and day_of_week == 0:\n",
    "                sundays_on_first += 1\n",
    "            day_of_week = (day_of_week+1)%7\n",
    "\n",
    "sundays_on_first"
   ]
  },
  {
   "cell_type": "markdown",
   "metadata": {},
   "source": [
    "## ANSWER = 171"
   ]
  }
 ],
 "metadata": {
  "kernelspec": {
   "display_name": "Python 3.10.4 ('project_euler-n_y2k3fO')",
   "language": "python",
   "name": "python3"
  },
  "language_info": {
   "codemirror_mode": {
    "name": "ipython",
    "version": 3
   },
   "file_extension": ".py",
   "mimetype": "text/x-python",
   "name": "python",
   "nbconvert_exporter": "python",
   "pygments_lexer": "ipython3",
   "version": "3.10.4"
  },
  "orig_nbformat": 4,
  "vscode": {
   "interpreter": {
    "hash": "2458aa9317e3ad091dce09405bd27e58e704aecbe1f7d76e8b0c3a84d1557548"
   }
  }
 },
 "nbformat": 4,
 "nbformat_minor": 2
}
