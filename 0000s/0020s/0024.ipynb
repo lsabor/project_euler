{
 "cells": [
  {
   "cell_type": "markdown",
   "metadata": {},
   "source": [
    "## \n",
    "\n",
    "Link: https://projecteuler.net/problem=\n",
    "\n",
    "Date solved:  \n",
    "2022/04/??"
   ]
  },
  {
   "cell_type": "code",
   "execution_count": 1,
   "metadata": {},
   "outputs": [],
   "source": [
    "# imports\n",
    "import sys\n",
    "sys.path.append('../../modules')\n",
    "\n",
    "import sequences\n",
    "import sequences_compound\n",
    "\n",
    "# import sequences\n",
    "# from collections import Counter\n",
    "# from primes import num_from_pf_counter\n",
    "# import copy"
   ]
  },
  {
   "cell_type": "code",
   "execution_count": 2,
   "metadata": {},
   "outputs": [],
   "source": [
    "PF = sequences.Prime_Factorizations()\n",
    "DN = sequences_compound.Divisors_Positive_Integers()\n",
    "PDS = sequences_compound.Proper_Divisor_Sum_Positive_Integers()"
   ]
  },
  {
   "cell_type": "code",
   "execution_count": null,
   "metadata": {},
   "outputs": [],
   "source": []
  },
  {
   "cell_type": "code",
   "execution_count": 10,
   "metadata": {},
   "outputs": [
    {
     "data": {
      "text/plain": [
       "(65537, 4606, 4606)"
      ]
     },
     "execution_count": 10,
     "metadata": {},
     "output_type": "execute_result"
    }
   ],
   "source": [
    "len(PF), len(DN), len(PDS)"
   ]
  },
  {
   "cell_type": "code",
   "execution_count": 13,
   "metadata": {},
   "outputs": [
    {
     "name": "stdout",
     "output_type": "stream",
     "text": [
      "compound/Proper_Divisor_Sum_Positive_Integers cache updated. New length = 4700\n",
      "compound/Proper_Divisor_Sum_Positive_Integers cache updated. New length = 4800\n"
     ]
    },
    {
     "ename": "KeyboardInterrupt",
     "evalue": "",
     "output_type": "error",
     "traceback": [
      "\u001b[1;31m---------------------------------------------------------------------------\u001b[0m",
      "\u001b[1;31mKeyboardInterrupt\u001b[0m                         Traceback (most recent call last)",
      "\u001b[1;32mc:\\Users\\lukes\\OneDrive\\Documents\\coding\\project_euler\\0000s\\0020s\\0024.ipynb Cell 5'\u001b[0m in \u001b[0;36m<cell line: 1>\u001b[1;34m()\u001b[0m\n\u001b[1;32m----> <a href='vscode-notebook-cell:/c%3A/Users/lukes/OneDrive/Documents/coding/project_euler/0000s/0020s/0024.ipynb#ch0000006?line=0'>1</a>\u001b[0m PDS[\u001b[39m4850\u001b[39;49m]\n",
      "File \u001b[1;32mc:\\Users\\lukes\\OneDrive\\Documents\\coding\\project_euler\\0000s\\0020s\\../../modules\\sequences.py:29\u001b[0m, in \u001b[0;36mSequence.__getitem__\u001b[1;34m(self, key)\u001b[0m\n\u001b[0;32m     <a href='file:///c%3A/Users/lukes/OneDrive/Documents/coding/project_euler/0000s/0020s/../../modules/sequences.py?line=26'>27</a>\u001b[0m     \u001b[39mreturn\u001b[39;00m \u001b[39mself\u001b[39m\u001b[39m.\u001b[39mseq[key]\n\u001b[0;32m     <a href='file:///c%3A/Users/lukes/OneDrive/Documents/coding/project_euler/0000s/0020s/../../modules/sequences.py?line=27'>28</a>\u001b[0m \u001b[39melse\u001b[39;00m:\n\u001b[1;32m---> <a href='file:///c%3A/Users/lukes/OneDrive/Documents/coding/project_euler/0000s/0020s/../../modules/sequences.py?line=28'>29</a>\u001b[0m     \u001b[39mself\u001b[39;49m\u001b[39m.\u001b[39;49mextend_seq(\u001b[39mmax\u001b[39;49m\u001b[39m-\u001b[39;49mlength\u001b[39m+\u001b[39;49m\u001b[39m1\u001b[39;49m)\n\u001b[0;32m     <a href='file:///c%3A/Users/lukes/OneDrive/Documents/coding/project_euler/0000s/0020s/../../modules/sequences.py?line=29'>30</a>\u001b[0m     \u001b[39mreturn\u001b[39;00m \u001b[39mself\u001b[39m\u001b[39m.\u001b[39mseq[key]\n",
      "File \u001b[1;32mc:\\Users\\lukes\\OneDrive\\Documents\\coding\\project_euler\\0000s\\0020s\\../../modules\\sequences.py:74\u001b[0m, in \u001b[0;36mSequence.extend_seq\u001b[1;34m(self, n)\u001b[0m\n\u001b[0;32m     <a href='file:///c%3A/Users/lukes/OneDrive/Documents/coding/project_euler/0000s/0020s/../../modules/sequences.py?line=70'>71</a>\u001b[0m \u001b[39mdef\u001b[39;00m \u001b[39mextend_seq\u001b[39m(\u001b[39mself\u001b[39m,n: \u001b[39mint\u001b[39m):\n\u001b[0;32m     <a href='file:///c%3A/Users/lukes/OneDrive/Documents/coding/project_euler/0000s/0020s/../../modules/sequences.py?line=71'>72</a>\u001b[0m     \u001b[39m# appends at least n values to current seq\u001b[39;00m\n\u001b[0;32m     <a href='file:///c%3A/Users/lukes/OneDrive/Documents/coding/project_euler/0000s/0020s/../../modules/sequences.py?line=72'>73</a>\u001b[0m     \u001b[39mwhile\u001b[39;00m n \u001b[39m>\u001b[39m \u001b[39m0\u001b[39m:\n\u001b[1;32m---> <a href='file:///c%3A/Users/lukes/OneDrive/Documents/coding/project_euler/0000s/0020s/../../modules/sequences.py?line=73'>74</a>\u001b[0m         added \u001b[39m=\u001b[39m \u001b[39mself\u001b[39;49m\u001b[39m.\u001b[39;49madd_items()\n\u001b[0;32m     <a href='file:///c%3A/Users/lukes/OneDrive/Documents/coding/project_euler/0000s/0020s/../../modules/sequences.py?line=74'>75</a>\u001b[0m         n \u001b[39m-\u001b[39m\u001b[39m=\u001b[39m \u001b[39mlen\u001b[39m(added)\n\u001b[0;32m     <a href='file:///c%3A/Users/lukes/OneDrive/Documents/coding/project_euler/0000s/0020s/../../modules/sequences.py?line=75'>76</a>\u001b[0m     \u001b[39mreturn\u001b[39;00m \u001b[39mself\u001b[39m\n",
      "File \u001b[1;32mc:\\Users\\lukes\\OneDrive\\Documents\\coding\\project_euler\\0000s\\0020s\\../../modules\\sequences.py:64\u001b[0m, in \u001b[0;36mSequence.add_items\u001b[1;34m(self)\u001b[0m\n\u001b[0;32m     <a href='file:///c%3A/Users/lukes/OneDrive/Documents/coding/project_euler/0000s/0020s/../../modules/sequences.py?line=61'>62</a>\u001b[0m \u001b[39mdef\u001b[39;00m \u001b[39madd_items\u001b[39m(\u001b[39mself\u001b[39m):\n\u001b[0;32m     <a href='file:///c%3A/Users/lukes/OneDrive/Documents/coding/project_euler/0000s/0020s/../../modules/sequences.py?line=62'>63</a>\u001b[0m     \u001b[39m# appends next seq vals to current seq\u001b[39;00m\n\u001b[1;32m---> <a href='file:///c%3A/Users/lukes/OneDrive/Documents/coding/project_euler/0000s/0020s/../../modules/sequences.py?line=63'>64</a>\u001b[0m     nxts \u001b[39m=\u001b[39m \u001b[39mself\u001b[39;49m\u001b[39m.\u001b[39;49mnexts()\n\u001b[0;32m     <a href='file:///c%3A/Users/lukes/OneDrive/Documents/coding/project_euler/0000s/0020s/../../modules/sequences.py?line=64'>65</a>\u001b[0m     \u001b[39mself\u001b[39m\u001b[39m.\u001b[39mseq \u001b[39m+\u001b[39m\u001b[39m=\u001b[39m nxts\n\u001b[0;32m     <a href='file:///c%3A/Users/lukes/OneDrive/Documents/coding/project_euler/0000s/0020s/../../modules/sequences.py?line=65'>66</a>\u001b[0m     \u001b[39mif\u001b[39;00m \u001b[39mlen\u001b[39m(\u001b[39mself\u001b[39m)\u001b[39m%\u001b[39m\u001b[39m100\u001b[39m\u001b[39m==\u001b[39m\u001b[39m0\u001b[39m \u001b[39mor\u001b[39;00m \u001b[39mlen\u001b[39m(nxts)\u001b[39m>\u001b[39m\u001b[39m100\u001b[39m:\n",
      "File \u001b[1;32mc:\\Users\\lukes\\OneDrive\\Documents\\coding\\project_euler\\0000s\\0020s\\../../modules\\sequences.py:60\u001b[0m, in \u001b[0;36mSequence.nexts\u001b[1;34m(self)\u001b[0m\n\u001b[0;32m     <a href='file:///c%3A/Users/lukes/OneDrive/Documents/coding/project_euler/0000s/0020s/../../modules/sequences.py?line=57'>58</a>\u001b[0m \u001b[39mdef\u001b[39;00m \u001b[39mnexts\u001b[39m(\u001b[39mself\u001b[39m):\n\u001b[0;32m     <a href='file:///c%3A/Users/lukes/OneDrive/Documents/coding/project_euler/0000s/0020s/../../modules/sequences.py?line=58'>59</a>\u001b[0m     \u001b[39m# gets the next values of seq from subclass func\u001b[39;00m\n\u001b[1;32m---> <a href='file:///c%3A/Users/lukes/OneDrive/Documents/coding/project_euler/0000s/0020s/../../modules/sequences.py?line=59'>60</a>\u001b[0m     \u001b[39mreturn\u001b[39;00m \u001b[39mself\u001b[39;49m\u001b[39m.\u001b[39;49mnext_item_batch()\n",
      "File \u001b[1;32mc:\\Users\\lukes\\OneDrive\\Documents\\coding\\project_euler\\0000s\\0020s\\../../modules\\sequences_compound.py:45\u001b[0m, in \u001b[0;36mProper_Divisor_Sum_Positive_Integers.next_item_batch\u001b[1;34m(self)\u001b[0m\n\u001b[0;32m     <a href='file:///c%3A/Users/lukes/OneDrive/Documents/coding/project_euler/0000s/0020s/../../modules/sequences_compound.py?line=43'>44</a>\u001b[0m \u001b[39mdef\u001b[39;00m \u001b[39mnext_item_batch\u001b[39m(\u001b[39mself\u001b[39m):\n\u001b[1;32m---> <a href='file:///c%3A/Users/lukes/OneDrive/Documents/coding/project_euler/0000s/0020s/../../modules/sequences_compound.py?line=44'>45</a>\u001b[0m     \u001b[39mreturn\u001b[39;00m [\u001b[39mself\u001b[39;49m\u001b[39m.\u001b[39;49mnext_item()]\n",
      "File \u001b[1;32mc:\\Users\\lukes\\OneDrive\\Documents\\coding\\project_euler\\0000s\\0020s\\../../modules\\sequences_compound.py:43\u001b[0m, in \u001b[0;36mProper_Divisor_Sum_Positive_Integers.next_item\u001b[1;34m(self)\u001b[0m\n\u001b[0;32m     <a href='file:///c%3A/Users/lukes/OneDrive/Documents/coding/project_euler/0000s/0020s/../../modules/sequences_compound.py?line=41'>42</a>\u001b[0m \u001b[39mdef\u001b[39;00m \u001b[39mnext_item\u001b[39m(\u001b[39mself\u001b[39m):\n\u001b[1;32m---> <a href='file:///c%3A/Users/lukes/OneDrive/Documents/coding/project_euler/0000s/0020s/../../modules/sequences_compound.py?line=42'>43</a>\u001b[0m     \u001b[39mreturn\u001b[39;00m \u001b[39msum\u001b[39m(Divisors_Positive_Integers()[\u001b[39mlen\u001b[39;49m(\u001b[39mself\u001b[39;49m)][:\u001b[39m-\u001b[39m\u001b[39m1\u001b[39m])\n",
      "File \u001b[1;32mc:\\Users\\lukes\\OneDrive\\Documents\\coding\\project_euler\\0000s\\0020s\\../../modules\\sequences.py:29\u001b[0m, in \u001b[0;36mSequence.__getitem__\u001b[1;34m(self, key)\u001b[0m\n\u001b[0;32m     <a href='file:///c%3A/Users/lukes/OneDrive/Documents/coding/project_euler/0000s/0020s/../../modules/sequences.py?line=26'>27</a>\u001b[0m     \u001b[39mreturn\u001b[39;00m \u001b[39mself\u001b[39m\u001b[39m.\u001b[39mseq[key]\n\u001b[0;32m     <a href='file:///c%3A/Users/lukes/OneDrive/Documents/coding/project_euler/0000s/0020s/../../modules/sequences.py?line=27'>28</a>\u001b[0m \u001b[39melse\u001b[39;00m:\n\u001b[1;32m---> <a href='file:///c%3A/Users/lukes/OneDrive/Documents/coding/project_euler/0000s/0020s/../../modules/sequences.py?line=28'>29</a>\u001b[0m     \u001b[39mself\u001b[39;49m\u001b[39m.\u001b[39;49mextend_seq(\u001b[39mmax\u001b[39;49m\u001b[39m-\u001b[39;49mlength\u001b[39m+\u001b[39;49m\u001b[39m1\u001b[39;49m)\n\u001b[0;32m     <a href='file:///c%3A/Users/lukes/OneDrive/Documents/coding/project_euler/0000s/0020s/../../modules/sequences.py?line=29'>30</a>\u001b[0m     \u001b[39mreturn\u001b[39;00m \u001b[39mself\u001b[39m\u001b[39m.\u001b[39mseq[key]\n",
      "File \u001b[1;32mc:\\Users\\lukes\\OneDrive\\Documents\\coding\\project_euler\\0000s\\0020s\\../../modules\\sequences.py:74\u001b[0m, in \u001b[0;36mSequence.extend_seq\u001b[1;34m(self, n)\u001b[0m\n\u001b[0;32m     <a href='file:///c%3A/Users/lukes/OneDrive/Documents/coding/project_euler/0000s/0020s/../../modules/sequences.py?line=70'>71</a>\u001b[0m \u001b[39mdef\u001b[39;00m \u001b[39mextend_seq\u001b[39m(\u001b[39mself\u001b[39m,n: \u001b[39mint\u001b[39m):\n\u001b[0;32m     <a href='file:///c%3A/Users/lukes/OneDrive/Documents/coding/project_euler/0000s/0020s/../../modules/sequences.py?line=71'>72</a>\u001b[0m     \u001b[39m# appends at least n values to current seq\u001b[39;00m\n\u001b[0;32m     <a href='file:///c%3A/Users/lukes/OneDrive/Documents/coding/project_euler/0000s/0020s/../../modules/sequences.py?line=72'>73</a>\u001b[0m     \u001b[39mwhile\u001b[39;00m n \u001b[39m>\u001b[39m \u001b[39m0\u001b[39m:\n\u001b[1;32m---> <a href='file:///c%3A/Users/lukes/OneDrive/Documents/coding/project_euler/0000s/0020s/../../modules/sequences.py?line=73'>74</a>\u001b[0m         added \u001b[39m=\u001b[39m \u001b[39mself\u001b[39;49m\u001b[39m.\u001b[39;49madd_items()\n\u001b[0;32m     <a href='file:///c%3A/Users/lukes/OneDrive/Documents/coding/project_euler/0000s/0020s/../../modules/sequences.py?line=74'>75</a>\u001b[0m         n \u001b[39m-\u001b[39m\u001b[39m=\u001b[39m \u001b[39mlen\u001b[39m(added)\n\u001b[0;32m     <a href='file:///c%3A/Users/lukes/OneDrive/Documents/coding/project_euler/0000s/0020s/../../modules/sequences.py?line=75'>76</a>\u001b[0m     \u001b[39mreturn\u001b[39;00m \u001b[39mself\u001b[39m\n",
      "File \u001b[1;32mc:\\Users\\lukes\\OneDrive\\Documents\\coding\\project_euler\\0000s\\0020s\\../../modules\\sequences.py:64\u001b[0m, in \u001b[0;36mSequence.add_items\u001b[1;34m(self)\u001b[0m\n\u001b[0;32m     <a href='file:///c%3A/Users/lukes/OneDrive/Documents/coding/project_euler/0000s/0020s/../../modules/sequences.py?line=61'>62</a>\u001b[0m \u001b[39mdef\u001b[39;00m \u001b[39madd_items\u001b[39m(\u001b[39mself\u001b[39m):\n\u001b[0;32m     <a href='file:///c%3A/Users/lukes/OneDrive/Documents/coding/project_euler/0000s/0020s/../../modules/sequences.py?line=62'>63</a>\u001b[0m     \u001b[39m# appends next seq vals to current seq\u001b[39;00m\n\u001b[1;32m---> <a href='file:///c%3A/Users/lukes/OneDrive/Documents/coding/project_euler/0000s/0020s/../../modules/sequences.py?line=63'>64</a>\u001b[0m     nxts \u001b[39m=\u001b[39m \u001b[39mself\u001b[39;49m\u001b[39m.\u001b[39;49mnexts()\n\u001b[0;32m     <a href='file:///c%3A/Users/lukes/OneDrive/Documents/coding/project_euler/0000s/0020s/../../modules/sequences.py?line=64'>65</a>\u001b[0m     \u001b[39mself\u001b[39m\u001b[39m.\u001b[39mseq \u001b[39m+\u001b[39m\u001b[39m=\u001b[39m nxts\n\u001b[0;32m     <a href='file:///c%3A/Users/lukes/OneDrive/Documents/coding/project_euler/0000s/0020s/../../modules/sequences.py?line=65'>66</a>\u001b[0m     \u001b[39mif\u001b[39;00m \u001b[39mlen\u001b[39m(\u001b[39mself\u001b[39m)\u001b[39m%\u001b[39m\u001b[39m100\u001b[39m\u001b[39m==\u001b[39m\u001b[39m0\u001b[39m \u001b[39mor\u001b[39;00m \u001b[39mlen\u001b[39m(nxts)\u001b[39m>\u001b[39m\u001b[39m100\u001b[39m:\n",
      "File \u001b[1;32mc:\\Users\\lukes\\OneDrive\\Documents\\coding\\project_euler\\0000s\\0020s\\../../modules\\sequences.py:60\u001b[0m, in \u001b[0;36mSequence.nexts\u001b[1;34m(self)\u001b[0m\n\u001b[0;32m     <a href='file:///c%3A/Users/lukes/OneDrive/Documents/coding/project_euler/0000s/0020s/../../modules/sequences.py?line=57'>58</a>\u001b[0m \u001b[39mdef\u001b[39;00m \u001b[39mnexts\u001b[39m(\u001b[39mself\u001b[39m):\n\u001b[0;32m     <a href='file:///c%3A/Users/lukes/OneDrive/Documents/coding/project_euler/0000s/0020s/../../modules/sequences.py?line=58'>59</a>\u001b[0m     \u001b[39m# gets the next values of seq from subclass func\u001b[39;00m\n\u001b[1;32m---> <a href='file:///c%3A/Users/lukes/OneDrive/Documents/coding/project_euler/0000s/0020s/../../modules/sequences.py?line=59'>60</a>\u001b[0m     \u001b[39mreturn\u001b[39;00m \u001b[39mself\u001b[39;49m\u001b[39m.\u001b[39;49mnext_item_batch()\n",
      "File \u001b[1;32mc:\\Users\\lukes\\OneDrive\\Documents\\coding\\project_euler\\0000s\\0020s\\../../modules\\sequences_compound.py:33\u001b[0m, in \u001b[0;36mDivisors_Positive_Integers.next_item_batch\u001b[1;34m(self)\u001b[0m\n\u001b[0;32m     <a href='file:///c%3A/Users/lukes/OneDrive/Documents/coding/project_euler/0000s/0020s/../../modules/sequences_compound.py?line=31'>32</a>\u001b[0m \u001b[39mdef\u001b[39;00m \u001b[39mnext_item_batch\u001b[39m(\u001b[39mself\u001b[39m):\n\u001b[1;32m---> <a href='file:///c%3A/Users/lukes/OneDrive/Documents/coding/project_euler/0000s/0020s/../../modules/sequences_compound.py?line=32'>33</a>\u001b[0m     \u001b[39mreturn\u001b[39;00m [\u001b[39mself\u001b[39;49m\u001b[39m.\u001b[39;49mnext_item()]\n",
      "File \u001b[1;32mc:\\Users\\lukes\\OneDrive\\Documents\\coding\\project_euler\\0000s\\0020s\\../../modules\\sequences_compound.py:31\u001b[0m, in \u001b[0;36mDivisors_Positive_Integers.next_item\u001b[1;34m(self)\u001b[0m\n\u001b[0;32m     <a href='file:///c%3A/Users/lukes/OneDrive/Documents/coding/project_euler/0000s/0020s/../../modules/sequences_compound.py?line=29'>30</a>\u001b[0m \u001b[39mdef\u001b[39;00m \u001b[39mnext_item\u001b[39m(\u001b[39mself\u001b[39m):\n\u001b[1;32m---> <a href='file:///c%3A/Users/lukes/OneDrive/Documents/coding/project_euler/0000s/0020s/../../modules/sequences_compound.py?line=30'>31</a>\u001b[0m     \u001b[39mreturn\u001b[39;00m divisors_from_pf_counter(sequences\u001b[39m.\u001b[39;49mPrime_Factorizations()[\u001b[39mlen\u001b[39m(\u001b[39mself\u001b[39m)\u001b[39m+\u001b[39m\u001b[39m1\u001b[39m])\n",
      "File \u001b[1;32mc:\\Users\\lukes\\OneDrive\\Documents\\coding\\project_euler\\0000s\\0020s\\../../modules\\sequences.py:160\u001b[0m, in \u001b[0;36mPrime_Factorizations.__init__\u001b[1;34m(self, n)\u001b[0m\n\u001b[0;32m    <a href='file:///c%3A/Users/lukes/OneDrive/Documents/coding/project_euler/0000s/0020s/../../modules/sequences.py?line=157'>158</a>\u001b[0m \u001b[39mself\u001b[39m\u001b[39m.\u001b[39mname \u001b[39m=\u001b[39m \u001b[39m'\u001b[39m\u001b[39mPrime_Factorizations\u001b[39m\u001b[39m'\u001b[39m\n\u001b[0;32m    <a href='file:///c%3A/Users/lukes/OneDrive/Documents/coding/project_euler/0000s/0020s/../../modules/sequences.py?line=158'>159</a>\u001b[0m \u001b[39mself\u001b[39m\u001b[39m.\u001b[39mstarter_seq \u001b[39m=\u001b[39m [Counter()]\u001b[39m*\u001b[39m\u001b[39m2\u001b[39m\n\u001b[1;32m--> <a href='file:///c%3A/Users/lukes/OneDrive/Documents/coding/project_euler/0000s/0020s/../../modules/sequences.py?line=159'>160</a>\u001b[0m \u001b[39msuper\u001b[39;49m()\u001b[39m.\u001b[39;49m\u001b[39m__init__\u001b[39;49m(n)\n",
      "File \u001b[1;32mc:\\Users\\lukes\\OneDrive\\Documents\\coding\\project_euler\\0000s\\0020s\\../../modules\\sequences.py:14\u001b[0m, in \u001b[0;36mSequence.__init__\u001b[1;34m(self, n)\u001b[0m\n\u001b[0;32m     <a href='file:///c%3A/Users/lukes/OneDrive/Documents/coding/project_euler/0000s/0020s/../../modules/sequences.py?line=11'>12</a>\u001b[0m \u001b[39mdef\u001b[39;00m \u001b[39m__init__\u001b[39m(\u001b[39mself\u001b[39m,n: \u001b[39mint\u001b[39m):\n\u001b[0;32m     <a href='file:///c%3A/Users/lukes/OneDrive/Documents/coding/project_euler/0000s/0020s/../../modules/sequences.py?line=12'>13</a>\u001b[0m     \u001b[39mself\u001b[39m\u001b[39m.\u001b[39mcache_file \u001b[39m=\u001b[39m \u001b[39m'\u001b[39m\u001b[39m../../caches/sequences/\u001b[39m\u001b[39m'\u001b[39m\u001b[39m+\u001b[39m\u001b[39mself\u001b[39m\u001b[39m.\u001b[39mname\u001b[39m+\u001b[39m\u001b[39m'\u001b[39m\u001b[39m.json\u001b[39m\u001b[39m'\u001b[39m\n\u001b[1;32m---> <a href='file:///c%3A/Users/lukes/OneDrive/Documents/coding/project_euler/0000s/0020s/../../modules/sequences.py?line=13'>14</a>\u001b[0m     \u001b[39mself\u001b[39;49m\u001b[39m.\u001b[39;49mread_cache()\n\u001b[0;32m     <a href='file:///c%3A/Users/lukes/OneDrive/Documents/coding/project_euler/0000s/0020s/../../modules/sequences.py?line=14'>15</a>\u001b[0m     \u001b[39mif\u001b[39;00m \u001b[39mlen\u001b[39m(\u001b[39mself\u001b[39m\u001b[39m.\u001b[39mseq) \u001b[39m<\u001b[39m n:\n\u001b[0;32m     <a href='file:///c%3A/Users/lukes/OneDrive/Documents/coding/project_euler/0000s/0020s/../../modules/sequences.py?line=15'>16</a>\u001b[0m         \u001b[39mself\u001b[39m\u001b[39m.\u001b[39mextend_seq(n\u001b[39m-\u001b[39m\u001b[39mlen\u001b[39m(\u001b[39mself\u001b[39m\u001b[39m.\u001b[39mseq))\n",
      "File \u001b[1;32mc:\\Users\\lukes\\OneDrive\\Documents\\coding\\project_euler\\0000s\\0020s\\../../modules\\sequences.py:45\u001b[0m, in \u001b[0;36mSequence.read_cache\u001b[1;34m(self)\u001b[0m\n\u001b[0;32m     <a href='file:///c%3A/Users/lukes/OneDrive/Documents/coding/project_euler/0000s/0020s/../../modules/sequences.py?line=42'>43</a>\u001b[0m \u001b[39mif\u001b[39;00m os\u001b[39m.\u001b[39mpath\u001b[39m.\u001b[39mexists(\u001b[39mself\u001b[39m\u001b[39m.\u001b[39mcache_file):\n\u001b[0;32m     <a href='file:///c%3A/Users/lukes/OneDrive/Documents/coding/project_euler/0000s/0020s/../../modules/sequences.py?line=43'>44</a>\u001b[0m     \u001b[39mwith\u001b[39;00m \u001b[39mopen\u001b[39m(\u001b[39mself\u001b[39m\u001b[39m.\u001b[39mcache_file,\u001b[39m'\u001b[39m\u001b[39mr\u001b[39m\u001b[39m'\u001b[39m) \u001b[39mas\u001b[39;00m cache:\n\u001b[1;32m---> <a href='file:///c%3A/Users/lukes/OneDrive/Documents/coding/project_euler/0000s/0020s/../../modules/sequences.py?line=44'>45</a>\u001b[0m         \u001b[39mself\u001b[39m\u001b[39m.\u001b[39mseq \u001b[39m=\u001b[39m json\u001b[39m.\u001b[39;49mload(cache)\n\u001b[0;32m     <a href='file:///c%3A/Users/lukes/OneDrive/Documents/coding/project_euler/0000s/0020s/../../modules/sequences.py?line=45'>46</a>\u001b[0m \u001b[39melse\u001b[39;00m:\n\u001b[0;32m     <a href='file:///c%3A/Users/lukes/OneDrive/Documents/coding/project_euler/0000s/0020s/../../modules/sequences.py?line=46'>47</a>\u001b[0m     \u001b[39mself\u001b[39m\u001b[39m.\u001b[39mseq \u001b[39m=\u001b[39m \u001b[39mself\u001b[39m\u001b[39m.\u001b[39mstarter_seq\n",
      "File \u001b[1;32m~\\AppData\\Local\\Programs\\Python\\Python310\\lib\\json\\__init__.py:293\u001b[0m, in \u001b[0;36mload\u001b[1;34m(fp, cls, object_hook, parse_float, parse_int, parse_constant, object_pairs_hook, **kw)\u001b[0m\n\u001b[0;32m    <a href='file:///c%3A/Users/lukes/AppData/Local/Programs/Python/Python310/lib/json/__init__.py?line=273'>274</a>\u001b[0m \u001b[39mdef\u001b[39;00m \u001b[39mload\u001b[39m(fp, \u001b[39m*\u001b[39m, \u001b[39mcls\u001b[39m\u001b[39m=\u001b[39m\u001b[39mNone\u001b[39;00m, object_hook\u001b[39m=\u001b[39m\u001b[39mNone\u001b[39;00m, parse_float\u001b[39m=\u001b[39m\u001b[39mNone\u001b[39;00m,\n\u001b[0;32m    <a href='file:///c%3A/Users/lukes/AppData/Local/Programs/Python/Python310/lib/json/__init__.py?line=274'>275</a>\u001b[0m         parse_int\u001b[39m=\u001b[39m\u001b[39mNone\u001b[39;00m, parse_constant\u001b[39m=\u001b[39m\u001b[39mNone\u001b[39;00m, object_pairs_hook\u001b[39m=\u001b[39m\u001b[39mNone\u001b[39;00m, \u001b[39m*\u001b[39m\u001b[39m*\u001b[39mkw):\n\u001b[0;32m    <a href='file:///c%3A/Users/lukes/AppData/Local/Programs/Python/Python310/lib/json/__init__.py?line=275'>276</a>\u001b[0m     \u001b[39m\"\"\"Deserialize ``fp`` (a ``.read()``-supporting file-like object containing\u001b[39;00m\n\u001b[0;32m    <a href='file:///c%3A/Users/lukes/AppData/Local/Programs/Python/Python310/lib/json/__init__.py?line=276'>277</a>\u001b[0m \u001b[39m    a JSON document) to a Python object.\u001b[39;00m\n\u001b[0;32m    <a href='file:///c%3A/Users/lukes/AppData/Local/Programs/Python/Python310/lib/json/__init__.py?line=277'>278</a>\u001b[0m \n\u001b[1;32m   (...)\u001b[0m\n\u001b[0;32m    <a href='file:///c%3A/Users/lukes/AppData/Local/Programs/Python/Python310/lib/json/__init__.py?line=290'>291</a>\u001b[0m \u001b[39m    kwarg; otherwise ``JSONDecoder`` is used.\u001b[39;00m\n\u001b[0;32m    <a href='file:///c%3A/Users/lukes/AppData/Local/Programs/Python/Python310/lib/json/__init__.py?line=291'>292</a>\u001b[0m \u001b[39m    \"\"\"\u001b[39;00m\n\u001b[1;32m--> <a href='file:///c%3A/Users/lukes/AppData/Local/Programs/Python/Python310/lib/json/__init__.py?line=292'>293</a>\u001b[0m     \u001b[39mreturn\u001b[39;00m loads(fp\u001b[39m.\u001b[39mread(),\n\u001b[0;32m    <a href='file:///c%3A/Users/lukes/AppData/Local/Programs/Python/Python310/lib/json/__init__.py?line=293'>294</a>\u001b[0m         \u001b[39mcls\u001b[39m\u001b[39m=\u001b[39m\u001b[39mcls\u001b[39m, object_hook\u001b[39m=\u001b[39mobject_hook,\n\u001b[0;32m    <a href='file:///c%3A/Users/lukes/AppData/Local/Programs/Python/Python310/lib/json/__init__.py?line=294'>295</a>\u001b[0m         parse_float\u001b[39m=\u001b[39mparse_float, parse_int\u001b[39m=\u001b[39mparse_int,\n\u001b[0;32m    <a href='file:///c%3A/Users/lukes/AppData/Local/Programs/Python/Python310/lib/json/__init__.py?line=295'>296</a>\u001b[0m         parse_constant\u001b[39m=\u001b[39mparse_constant, object_pairs_hook\u001b[39m=\u001b[39mobject_pairs_hook, \u001b[39m*\u001b[39m\u001b[39m*\u001b[39mkw)\n",
      "File \u001b[1;32m~\\AppData\\Local\\Programs\\Python\\Python310\\lib\\json\\__init__.py:346\u001b[0m, in \u001b[0;36mloads\u001b[1;34m(s, cls, object_hook, parse_float, parse_int, parse_constant, object_pairs_hook, **kw)\u001b[0m\n\u001b[0;32m    <a href='file:///c%3A/Users/lukes/AppData/Local/Programs/Python/Python310/lib/json/__init__.py?line=340'>341</a>\u001b[0m     s \u001b[39m=\u001b[39m s\u001b[39m.\u001b[39mdecode(detect_encoding(s), \u001b[39m'\u001b[39m\u001b[39msurrogatepass\u001b[39m\u001b[39m'\u001b[39m)\n\u001b[0;32m    <a href='file:///c%3A/Users/lukes/AppData/Local/Programs/Python/Python310/lib/json/__init__.py?line=342'>343</a>\u001b[0m \u001b[39mif\u001b[39;00m (\u001b[39mcls\u001b[39m \u001b[39mis\u001b[39;00m \u001b[39mNone\u001b[39;00m \u001b[39mand\u001b[39;00m object_hook \u001b[39mis\u001b[39;00m \u001b[39mNone\u001b[39;00m \u001b[39mand\u001b[39;00m\n\u001b[0;32m    <a href='file:///c%3A/Users/lukes/AppData/Local/Programs/Python/Python310/lib/json/__init__.py?line=343'>344</a>\u001b[0m         parse_int \u001b[39mis\u001b[39;00m \u001b[39mNone\u001b[39;00m \u001b[39mand\u001b[39;00m parse_float \u001b[39mis\u001b[39;00m \u001b[39mNone\u001b[39;00m \u001b[39mand\u001b[39;00m\n\u001b[0;32m    <a href='file:///c%3A/Users/lukes/AppData/Local/Programs/Python/Python310/lib/json/__init__.py?line=344'>345</a>\u001b[0m         parse_constant \u001b[39mis\u001b[39;00m \u001b[39mNone\u001b[39;00m \u001b[39mand\u001b[39;00m object_pairs_hook \u001b[39mis\u001b[39;00m \u001b[39mNone\u001b[39;00m \u001b[39mand\u001b[39;00m \u001b[39mnot\u001b[39;00m kw):\n\u001b[1;32m--> <a href='file:///c%3A/Users/lukes/AppData/Local/Programs/Python/Python310/lib/json/__init__.py?line=345'>346</a>\u001b[0m     \u001b[39mreturn\u001b[39;00m _default_decoder\u001b[39m.\u001b[39;49mdecode(s)\n\u001b[0;32m    <a href='file:///c%3A/Users/lukes/AppData/Local/Programs/Python/Python310/lib/json/__init__.py?line=346'>347</a>\u001b[0m \u001b[39mif\u001b[39;00m \u001b[39mcls\u001b[39m \u001b[39mis\u001b[39;00m \u001b[39mNone\u001b[39;00m:\n\u001b[0;32m    <a href='file:///c%3A/Users/lukes/AppData/Local/Programs/Python/Python310/lib/json/__init__.py?line=347'>348</a>\u001b[0m     \u001b[39mcls\u001b[39m \u001b[39m=\u001b[39m JSONDecoder\n",
      "File \u001b[1;32m~\\AppData\\Local\\Programs\\Python\\Python310\\lib\\json\\decoder.py:337\u001b[0m, in \u001b[0;36mJSONDecoder.decode\u001b[1;34m(self, s, _w)\u001b[0m\n\u001b[0;32m    <a href='file:///c%3A/Users/lukes/AppData/Local/Programs/Python/Python310/lib/json/decoder.py?line=331'>332</a>\u001b[0m \u001b[39mdef\u001b[39;00m \u001b[39mdecode\u001b[39m(\u001b[39mself\u001b[39m, s, _w\u001b[39m=\u001b[39mWHITESPACE\u001b[39m.\u001b[39mmatch):\n\u001b[0;32m    <a href='file:///c%3A/Users/lukes/AppData/Local/Programs/Python/Python310/lib/json/decoder.py?line=332'>333</a>\u001b[0m     \u001b[39m\"\"\"Return the Python representation of ``s`` (a ``str`` instance\u001b[39;00m\n\u001b[0;32m    <a href='file:///c%3A/Users/lukes/AppData/Local/Programs/Python/Python310/lib/json/decoder.py?line=333'>334</a>\u001b[0m \u001b[39m    containing a JSON document).\u001b[39;00m\n\u001b[0;32m    <a href='file:///c%3A/Users/lukes/AppData/Local/Programs/Python/Python310/lib/json/decoder.py?line=334'>335</a>\u001b[0m \n\u001b[0;32m    <a href='file:///c%3A/Users/lukes/AppData/Local/Programs/Python/Python310/lib/json/decoder.py?line=335'>336</a>\u001b[0m \u001b[39m    \"\"\"\u001b[39;00m\n\u001b[1;32m--> <a href='file:///c%3A/Users/lukes/AppData/Local/Programs/Python/Python310/lib/json/decoder.py?line=336'>337</a>\u001b[0m     obj, end \u001b[39m=\u001b[39m \u001b[39mself\u001b[39;49m\u001b[39m.\u001b[39;49mraw_decode(s, idx\u001b[39m=\u001b[39;49m_w(s, \u001b[39m0\u001b[39;49m)\u001b[39m.\u001b[39;49mend())\n\u001b[0;32m    <a href='file:///c%3A/Users/lukes/AppData/Local/Programs/Python/Python310/lib/json/decoder.py?line=337'>338</a>\u001b[0m     end \u001b[39m=\u001b[39m _w(s, end)\u001b[39m.\u001b[39mend()\n\u001b[0;32m    <a href='file:///c%3A/Users/lukes/AppData/Local/Programs/Python/Python310/lib/json/decoder.py?line=338'>339</a>\u001b[0m     \u001b[39mif\u001b[39;00m end \u001b[39m!=\u001b[39m \u001b[39mlen\u001b[39m(s):\n",
      "\u001b[1;31mKeyboardInterrupt\u001b[0m: "
     ]
    }
   ],
   "source": [
    "PDS[4850]"
   ]
  },
  {
   "cell_type": "code",
   "execution_count": 3,
   "metadata": {},
   "outputs": [],
   "source": [
    "# ## building prime factorization of all ints\n",
    "\n",
    "# P = sequences.Primes()\n",
    "\n",
    "# search_cap = 30\n",
    "\n",
    "# prime_factorizations = [None]*search_cap\n",
    "# prime_factorizations[0] = Counter()\n",
    "\n",
    "# pf = Counter()\n",
    "# Ps = P.take_while_le(search_cap)\n",
    "\n",
    "\n",
    "# def increment(pf):\n",
    "#     for p in Ps:\n",
    "#         if num_from_pf_counter(pf)*p < search_cap:\n",
    "#             pf[p] += 1\n",
    "#             prime_factorizations[num_from_pf_counter(pf)-1] = copy.copy(pf)\n",
    "#             break\n",
    "#         else:\n",
    "#             del pf[p]\n",
    "#     return pf\n",
    "\n",
    "# for i in range(search_cap):\n",
    "#     pf = increment(pf)\n",
    "\n",
    "# prime_factorizations\n",
    "\n",
    "\n",
    "\n"
   ]
  },
  {
   "cell_type": "markdown",
   "metadata": {},
   "source": [
    "## ANSWER = "
   ]
  }
 ],
 "metadata": {
  "interpreter": {
   "hash": "fa6d3aa3e59b0d3ec5716a83fdfe307fbe220500d62ba18b8aa8ea0f1364950a"
  },
  "kernelspec": {
   "display_name": "Python 3.9.7 ('project_euler')",
   "language": "python",
   "name": "python3"
  },
  "language_info": {
   "codemirror_mode": {
    "name": "ipython",
    "version": 3
   },
   "file_extension": ".py",
   "mimetype": "text/x-python",
   "name": "python",
   "nbconvert_exporter": "python",
   "pygments_lexer": "ipython3",
   "version": "3.10.3"
  },
  "orig_nbformat": 4
 },
 "nbformat": 4,
 "nbformat_minor": 2
}
