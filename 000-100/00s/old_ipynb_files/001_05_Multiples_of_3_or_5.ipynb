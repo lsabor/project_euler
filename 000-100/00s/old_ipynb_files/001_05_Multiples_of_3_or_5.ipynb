{
 "cells": [
  {
   "cell_type": "markdown",
   "metadata": {},
   "source": [
    "## Multiples of 3 or 5\n",
    "Problem 1\n",
    "\n",
    "Problem statement:  \n",
    "If we list all the natural numbers below 10 that are multiples of 3 or 5, we get 3, 5, 6 and 9. The sum of these multiples is 23.\n",
    "\n",
    "Find the sum of all the multiples of 3 or 5 below 1000.\n",
    "\n",
    "Link: https://projecteuler.net/problem=1\n",
    "\n",
    "Date solved:  \n",
    "2022/03/05"
   ]
  },
  {
   "cell_type": "code",
   "execution_count": 2,
   "metadata": {},
   "outputs": [],
   "source": [
    "# imports\n",
    "\n",
    "from maths.primes import lcm\n",
    "from maths.math import sumConsecutiveInts"
   ]
  },
  {
   "cell_type": "code",
   "execution_count": 3,
   "metadata": {},
   "outputs": [
    {
     "data": {
      "text/plain": [
       "233168"
      ]
     },
     "execution_count": 3,
     "metadata": {},
     "output_type": "execute_result"
    }
   ],
   "source": [
    "# %%timeit # results = 20.8 µs ± 1.12 µs per loop (mean ± std. dev. of 7 runs, 10,000 loops each)\n",
    "# solution - first pass\n",
    "\n",
    "max_val = 1000\n",
    "\n",
    "mults_3 = set(range(max_val)[::3])\n",
    "mults_5 = set(range(max_val)[::5])\n",
    "\n",
    "mults_3_or_5 = mults_3.union(mults_5)\n",
    "\n",
    "sum(mults_3_or_5)"
   ]
  },
  {
   "cell_type": "code",
   "execution_count": 4,
   "metadata": {},
   "outputs": [
    {
     "data": {
      "text/plain": [
       "233168"
      ]
     },
     "execution_count": 4,
     "metadata": {},
     "output_type": "execute_result"
    }
   ],
   "source": [
    "# %%timeit # results = 12.4 µs ± 184 ns per loop (mean ± std. dev. of 7 runs, 100,000 loops each)\n",
    "# solution - elegant\n",
    "\n",
    "max_val = 1000\n",
    "n1      = 3\n",
    "n2      = 5\n",
    "\n",
    "def skip_sum(n: int, skip: int) -> int:\n",
    "    # returns sum of multiples of skip up to not including n\n",
    "    vals_under_n = (n-1) // skip\n",
    "    return sumConsecutiveInts(vals_under_n) * skip\n",
    "\n",
    "mults_n1    = skip_sum(max_val, n1)\n",
    "mults_n2    = skip_sum(max_val, n2)\n",
    "mults_n1xn2 = skip_sum(max_val, lcm(n1,n2))\n",
    "\n",
    "mults_n1_or_n2_sum = mults_n1 + mults_n2 - mults_n1xn2\n",
    "\n",
    "mults_n1_or_n2_sum\n"
   ]
  },
  {
   "cell_type": "markdown",
   "metadata": {},
   "source": [
    "## ANSWER = 233168"
   ]
  }
 ],
 "metadata": {
  "kernelspec": {
   "display_name": "Python 3.10.4 ('projecteuler-GuJiYf8I')",
   "language": "python",
   "name": "python3"
  },
  "language_info": {
   "codemirror_mode": {
    "name": "ipython",
    "version": 3
   },
   "file_extension": ".py",
   "mimetype": "text/x-python",
   "name": "python",
   "nbconvert_exporter": "python",
   "pygments_lexer": "ipython3",
   "version": "3.10.4"
  },
  "orig_nbformat": 4,
  "vscode": {
   "interpreter": {
    "hash": "e623ed2e3d07890468d8884af07d1d8dcf18fc6cdd22d6e1e3bd8c90cdbd4ebc"
   }
  }
 },
 "nbformat": 4,
 "nbformat_minor": 2
}
