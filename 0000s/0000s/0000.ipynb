{
 "cells": [
  {
   "cell_type": "markdown",
   "metadata": {},
   "source": [
    "## Example Problem\n",
    "Problem 0\n",
    "\n",
    "Problem statement:  \n",
    "Let a+b=5 and b+c=2 and a+c=6.  \n",
    "What is a+b+c?\n",
    "\n",
    "Link: https://www.wolframalpha.com/input?i=a%2Bb%3D5%2C+b%2Bc%3D2%2C+a%2Bc%3D6%2C+a%2Bb%2Bc\n",
    "\n",
    "Date solved:  \n",
    "2022/03/05 [YYYY/MM/DD]"
   ]
  },
  {
   "cell_type": "code",
   "execution_count": 1,
   "metadata": {},
   "outputs": [],
   "source": [
    "# imports\n",
    "import sys\n",
    "sys.path.append('../../modules')\n",
    "\n",
    "import sequences"
   ]
  },
  {
   "cell_type": "code",
   "execution_count": 2,
   "metadata": {},
   "outputs": [
    {
     "data": {
      "text/plain": [
       "6.5"
      ]
     },
     "execution_count": 2,
     "metadata": {},
     "output_type": "execute_result"
    }
   ],
   "source": [
    "# %%timeit # results = 88.2 ns ± 1.35 ns per loop (mean ± std. dev. of 7 runs, 10,000,000 loops each)\n",
    "# solution\n",
    "\n",
    "# algebra\n",
    "# a = 5 - b\n",
    "# b = 2 - c\n",
    "# a = 6 - c\n",
    "# \n",
    "# 5 - b       = 6 - c\n",
    "# 5 - (2 - c) = 6 - c\n",
    "# 3 + c       = 6 - c\n",
    "# c + c       = 6 - 3\n",
    "# 2*c         = 3\n",
    "c = 3 / 2\n",
    "b = 2 - c\n",
    "a = 5 - b\n",
    "\n",
    "a+b+c"
   ]
  },
  {
   "cell_type": "markdown",
   "metadata": {},
   "source": [
    "## ANSWER = 6.5"
   ]
  }
 ],
 "metadata": {
  "interpreter": {
   "hash": "fa6d3aa3e59b0d3ec5716a83fdfe307fbe220500d62ba18b8aa8ea0f1364950a"
  },
  "kernelspec": {
   "display_name": "Python 3.9.7 ('project_euler')",
   "language": "python",
   "name": "python3"
  },
  "language_info": {
   "codemirror_mode": {
    "name": "ipython",
    "version": 3
   },
   "file_extension": ".py",
   "mimetype": "text/x-python",
   "name": "python",
   "nbconvert_exporter": "python",
   "pygments_lexer": "ipython3",
   "version": "3.10.3"
  },
  "orig_nbformat": 4
 },
 "nbformat": 4,
 "nbformat_minor": 2
}
