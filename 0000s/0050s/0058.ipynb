{
 "cells": [
  {
   "cell_type": "markdown",
   "metadata": {},
   "source": [
    "## Spiral primes\n",
    "Problem 58\n",
    "\n",
    "Starting with 1 and spiralling anticlockwise in the following way, a square spiral with side length 7 is formed.\n",
    "\n",
    "37 36 35 34 33 32 31  \n",
    "38 17 16 15 14 13 30  \n",
    "39 18 _5 _4 _3 12 29  \n",
    "40 19 _6 _1 _2 11 28  \n",
    "41 20 _7 _8 _9 10 27  \n",
    "42 21 22 23 24 25 26  \n",
    "43 44 45 46 47 48 49  \n",
    "\n",
    "It is interesting to note that the odd squares lie along the bottom right diagonal, but what is more interesting is that 8 out of the 13 numbers lying along both diagonals are prime; that is, a ratio of 8/13 ≈ 62%.\n",
    "\n",
    "If one complete new layer is wrapped around the spiral above, a square spiral with side length 9 will be formed. If this process is continued, what is the side length of the square spiral for which the ratio of primes along both diagonals first falls below 10%?\n",
    "\n",
    "Link: https://projecteuler.net/problem=58\n",
    "\n",
    "Date solved:  \n",
    "2022/07/25"
   ]
  },
  {
   "cell_type": "code",
   "execution_count": 1,
   "metadata": {},
   "outputs": [],
   "source": [
    "# imports\n",
    "from primes import is_prime_single_check"
   ]
  },
  {
   "cell_type": "code",
   "execution_count": 2,
   "metadata": {},
   "outputs": [
    {
     "data": {
      "text/plain": [
       "26241"
      ]
     },
     "execution_count": 2,
     "metadata": {},
     "output_type": "execute_result"
    }
   ],
   "source": [
    "threshold = 0.1\n",
    "\n",
    "def find_diminishing_prime_threshold():\n",
    "    diagonal_number_count = 1\n",
    "    prime_diagonal_number_count = 0\n",
    "\n",
    "    num = 1\n",
    "    interval = 2\n",
    "\n",
    "    while True:\n",
    "    # for _ in range(4):\n",
    "        new_diag_nums = []\n",
    "        for _ in range(4):\n",
    "            num += interval\n",
    "            new_diag_nums.append(num)\n",
    "        diagonal_number_count += 4\n",
    "        for n in new_diag_nums:\n",
    "            prime_diagonal_number_count += is_prime_single_check(n)\n",
    "        if prime_diagonal_number_count/diagonal_number_count < threshold:\n",
    "            return interval+1\n",
    "\n",
    "        interval += 2\n",
    "\n",
    "find_diminishing_prime_threshold()"
   ]
  },
  {
   "cell_type": "markdown",
   "metadata": {},
   "source": [
    "## ANSWER = 26241"
   ]
  }
 ],
 "metadata": {
  "kernelspec": {
   "display_name": "Python 3.10.4 ('project_euler-n_y2k3fO')",
   "language": "python",
   "name": "python3"
  },
  "language_info": {
   "codemirror_mode": {
    "name": "ipython",
    "version": 3
   },
   "file_extension": ".py",
   "mimetype": "text/x-python",
   "name": "python",
   "nbconvert_exporter": "python",
   "pygments_lexer": "ipython3",
   "version": "3.10.4"
  },
  "orig_nbformat": 4,
  "vscode": {
   "interpreter": {
    "hash": "2458aa9317e3ad091dce09405bd27e58e704aecbe1f7d76e8b0c3a84d1557548"
   }
  }
 },
 "nbformat": 4,
 "nbformat_minor": 2
}
