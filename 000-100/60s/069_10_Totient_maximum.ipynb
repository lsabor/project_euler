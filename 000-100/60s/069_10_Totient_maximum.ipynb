{
    "cells": [
        {
            "cell_type": "markdown",
            "metadata": {},
            "source": [
                "## Totient maximum\n",
                "\n",
                "\n",
                "  [Show HTML problem content]  \n",
                "Problem 69\n",
                "\n",
                "Euler's Totient function, φ(n) [sometimes called the phi function], is used to determine the number of  \n",
                "numbers less than n which are relatively prime to n. For example, as 1, 2, 4, 5, 7, and 8, are all less than nine  \n",
                "and relatively prime to nine, φ(9)=6.  \n",
                "n \t....Relatively Prime \t                ....φ(n)   .. n/φ(n)  \n",
                "2 \t....1 \t..................................1 .......\t2  \n",
                "3 \t....1,2 \t ...............................2 .......\t1.5  \n",
                "4 \t....1,3 \t ...............................2 .......\t2  \n",
                "5 \t....1,2,3,4      .........................4 .......\t1.25  \n",
                "6 \t....1,5 \t ...............................2 .......\t3  \n",
                "7 \t....1,2,3,4,5,6 \t       .................6 .......\t1.1666...  \n",
                "8 \t....1,3,5,7 \t    ........................4 .......\t2  \n",
                "9 \t....1,2,4,5,7,8 \t       .................6 .......\t1.5  \n",
                "10 \t..1,3,7,9 \t       .......................4 .......\t2.5  \n",
                "\n",
                "It can be seen that n=6 produces a maximum n/φ(n) for n ≤ 10.\n",
                "\n",
                "Find the value of n ≤ 1,000,000 for which n/φ(n) is a maximum.\n",
                "\n",
                "\n",
                "\n",
                "Link: https://projecteuler.net/problem=69\n",
                "\n",
                "Date solved:  \n",
                "2022/08/06"
            ]
        },
        {
            "cell_type": "code",
            "execution_count": 1,
            "metadata": {},
            "outputs": [],
            "source": [
                "# imports\n",
                "from maths.sequences import PrimesSeq"
            ]
        },
        {
            "cell_type": "code",
            "execution_count": 2,
            "metadata": {},
            "outputs": [
                {
                    "name": "stdout",
                    "output_type": "stream",
                    "text": [
                        "510510\n"
                    ]
                }
            ],
            "source": [
                "# the ratio n / phi(n) will be largest when n is big and phi(n) is small\n",
                "# phi(n) is invesely proportional to number of factors\n",
                "# thus, we find the largest number below 1e6, that has the most factors\n",
                "# we can generate that number by finding the largest product of the lowest primes below 1e6\n",
                "ps = PrimesSeq()\n",
                "n = 1\n",
                "for p in ps:\n",
                "    n *= p\n",
                "    if n > 1e6:\n",
                "        n /= p\n",
                "        print(int(n))\n",
                "        break"
            ]
        },
        {
            "cell_type": "markdown",
            "metadata": {},
            "source": [
                "## ANSWER = 510510"
            ]
        }
    ],
    "metadata": {
        "kernelspec": {
            "display_name": "Python 3.10.4 ('project_euler-n_y2k3fO')",
            "language": "python",
            "name": "python3"
        },
        "language_info": {
            "codemirror_mode": {
                "name": "ipython",
                "version": 3
            },
            "file_extension": ".py",
            "mimetype": "text/x-python",
            "name": "python",
            "nbconvert_exporter": "python",
            "pygments_lexer": "ipython3",
            "version": "3.10.4"
        },
        "orig_nbformat": 4,
        "vscode": {
            "interpreter": {
                "hash": "2458aa9317e3ad091dce09405bd27e58e704aecbe1f7d76e8b0c3a84d1557548"
            }
        }
    },
    "nbformat": 4,
    "nbformat_minor": 2
}