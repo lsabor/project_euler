{
 "cells": [
  {
   "cell_type": "markdown",
   "metadata": {},
   "source": [
    "## Permuted multiples\n",
    "Problem 52\n",
    "\n",
    "It can be seen that the number, 125874, and its double, 251748, contain exactly the same digits, but in a different order.\n",
    "\n",
    "Find the smallest positive integer, x, such that 2x, 3x, 4x, 5x, and 6x, contain the same digits.\n",
    "\n",
    "Link: https://projecteuler.net/problem=52\n",
    "\n",
    "Date solved:  \n",
    "2022/07/24"
   ]
  },
  {
   "cell_type": "code",
   "execution_count": 32,
   "metadata": {},
   "outputs": [],
   "source": [
    "# imports"
   ]
  },
  {
   "cell_type": "code",
   "execution_count": 31,
   "metadata": {},
   "outputs": [
    {
     "data": {
      "text/plain": [
       "142857"
      ]
     },
     "execution_count": 31,
     "metadata": {},
     "output_type": "execute_result"
    }
   ],
   "source": [
    "cap = 6\n",
    "\n",
    "\n",
    "def find_smallest_permuted_number():\n",
    "\n",
    "    n = 10\n",
    "\n",
    "    while True:\n",
    "\n",
    "        stn = str(n)\n",
    "        sn = sorted(list(stn))\n",
    "\n",
    "        if (stn[0] != '1') or (int(stn[1]) > 6): # tests to see if number of digits increases\n",
    "            stn = '1' + ('0'*len(stn))\n",
    "            n = int(stn)\n",
    "        else:\n",
    "            for x in range(2,cap+1):\n",
    "                ls = sorted(list(str(x*n)))\n",
    "                if ls != sn:\n",
    "                    break\n",
    "                if x == cap-1:\n",
    "                    return n\n",
    "            n += 1\n",
    "        \n",
    "find_smallest_permuted_number()\n"
   ]
  },
  {
   "cell_type": "markdown",
   "metadata": {},
   "source": [
    "## ANSWER = 142857"
   ]
  }
 ],
 "metadata": {
  "kernelspec": {
   "display_name": "Python 3.10.4 ('project_euler-n_y2k3fO')",
   "language": "python",
   "name": "python3"
  },
  "language_info": {
   "codemirror_mode": {
    "name": "ipython",
    "version": 3
   },
   "file_extension": ".py",
   "mimetype": "text/x-python",
   "name": "python",
   "nbconvert_exporter": "python",
   "pygments_lexer": "ipython3",
   "version": "3.10.4"
  },
  "orig_nbformat": 4,
  "vscode": {
   "interpreter": {
    "hash": "2458aa9317e3ad091dce09405bd27e58e704aecbe1f7d76e8b0c3a84d1557548"
   }
  }
 },
 "nbformat": 4,
 "nbformat_minor": 2
}
