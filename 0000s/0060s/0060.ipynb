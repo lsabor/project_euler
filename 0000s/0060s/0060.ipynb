{
 "cells": [
  {
   "cell_type": "markdown",
   "metadata": {},
   "source": [
    "## Prime pair sets\n",
    "\n",
    "Problem 60\n",
    "\n",
    "The primes 3, 7, 109, and 673, are quite remarkable. By taking any two primes and concatenating them in any order the result will always be prime. For example, taking 7 and 109, both 7109 and 1097 are prime. The sum of these four primes, 792, represents the lowest sum for a set of four primes with this property.\n",
    "\n",
    "Find the lowest sum for a set of five primes for which any two primes concatenate to produce another prime.\n",
    "\n",
    "\n",
    "Link: https://projecteuler.net/problem=60\n",
    "\n",
    "Date solved:  \n",
    "2022/04/02"
   ]
  },
  {
   "cell_type": "code",
   "execution_count": 43,
   "metadata": {},
   "outputs": [],
   "source": [
    "# imports\n",
    "import sys\n",
    "sys.path.append('../../modules')\n",
    "\n",
    "from sequences import Primes\n",
    "from maths import combinations\n",
    "from itertools import combinations"
   ]
  },
  {
   "cell_type": "code",
   "execution_count": 53,
   "metadata": {},
   "outputs": [
    {
     "name": "stdout",
     "output_type": "stream",
     "text": [
      "[2, 3, 5, 7]\n"
     ]
    },
    {
     "ename": "NameError",
     "evalue": "name 'n1' is not defined",
     "output_type": "error",
     "traceback": [
      "\u001b[1;31m---------------------------------------------------------------------------\u001b[0m",
      "\u001b[1;31mNameError\u001b[0m                                 Traceback (most recent call last)",
      "\u001b[1;32mc:\\Users\\lukes\\OneDrive\\Documents\\coding\\project_euler\\0000s\\0060s\\0060.ipynb Cell 3'\u001b[0m in \u001b[0;36m<cell line: 25>\u001b[1;34m()\u001b[0m\n\u001b[0;32m     <a href='vscode-notebook-cell:/c%3A/Users/lukes/OneDrive/Documents/coding/project_euler/0000s/0060s/0060.ipynb#ch0000002?line=20'>21</a>\u001b[0m             \u001b[39mif\u001b[39;00m all_pairs_make_primes(comb,prime_range):\n\u001b[0;32m     <a href='vscode-notebook-cell:/c%3A/Users/lukes/OneDrive/Documents/coding/project_euler/0000s/0060s/0060.ipynb#ch0000002?line=21'>22</a>\u001b[0m                 \u001b[39mreturn\u001b[39;00m \u001b[39msum\u001b[39m(comb)\n\u001b[1;32m---> <a href='vscode-notebook-cell:/c%3A/Users/lukes/OneDrive/Documents/coding/project_euler/0000s/0060s/0060.ipynb#ch0000002?line=24'>25</a>\u001b[0m get_answer()\n",
      "\u001b[1;32mc:\\Users\\lukes\\OneDrive\\Documents\\coding\\project_euler\\0000s\\0060s\\0060.ipynb Cell 3'\u001b[0m in \u001b[0;36mget_answer\u001b[1;34m()\u001b[0m\n\u001b[0;32m     <a href='vscode-notebook-cell:/c%3A/Users/lukes/OneDrive/Documents/coding/project_euler/0000s/0060s/0060.ipynb#ch0000002?line=18'>19</a>\u001b[0m combs \u001b[39m=\u001b[39m combinations(primes_to_search,n)\n\u001b[0;32m     <a href='vscode-notebook-cell:/c%3A/Users/lukes/OneDrive/Documents/coding/project_euler/0000s/0060s/0060.ipynb#ch0000002?line=19'>20</a>\u001b[0m \u001b[39mfor\u001b[39;00m comb \u001b[39min\u001b[39;00m combs:\n\u001b[1;32m---> <a href='vscode-notebook-cell:/c%3A/Users/lukes/OneDrive/Documents/coding/project_euler/0000s/0060s/0060.ipynb#ch0000002?line=20'>21</a>\u001b[0m     \u001b[39mif\u001b[39;00m all_pairs_make_primes(comb,prime_range):\n\u001b[0;32m     <a href='vscode-notebook-cell:/c%3A/Users/lukes/OneDrive/Documents/coding/project_euler/0000s/0060s/0060.ipynb#ch0000002?line=21'>22</a>\u001b[0m         \u001b[39mreturn\u001b[39;00m \u001b[39msum\u001b[39m(comb)\n",
      "\u001b[1;32mc:\\Users\\lukes\\OneDrive\\Documents\\coding\\project_euler\\0000s\\0060s\\0060.ipynb Cell 3'\u001b[0m in \u001b[0;36mall_pairs_make_primes\u001b[1;34m(comb, prime_range)\u001b[0m\n\u001b[0;32m      <a href='vscode-notebook-cell:/c%3A/Users/lukes/OneDrive/Documents/coding/project_euler/0000s/0060s/0060.ipynb#ch0000002?line=6'>7</a>\u001b[0m \u001b[39mfor\u001b[39;00m pair \u001b[39min\u001b[39;00m combinations(comb,\u001b[39m2\u001b[39m):\n\u001b[0;32m      <a href='vscode-notebook-cell:/c%3A/Users/lukes/OneDrive/Documents/coding/project_euler/0000s/0060s/0060.ipynb#ch0000002?line=7'>8</a>\u001b[0m     p1,p2 \u001b[39m=\u001b[39m pair[\u001b[39m0\u001b[39m],pair[\u001b[39m1\u001b[39m]\n\u001b[1;32m----> <a href='vscode-notebook-cell:/c%3A/Users/lukes/OneDrive/Documents/coding/project_euler/0000s/0060s/0060.ipynb#ch0000002?line=8'>9</a>\u001b[0m     \u001b[39mif\u001b[39;00m \u001b[39mint\u001b[39m(\u001b[39mstr\u001b[39m(n1)\u001b[39m+\u001b[39m\u001b[39mstr\u001b[39m(n2)) \u001b[39mnot\u001b[39;00m \u001b[39min\u001b[39;00m prime_range \u001b[39mor\u001b[39;00m \u001b[39mint\u001b[39m(\u001b[39mstr\u001b[39m(n2)\u001b[39m+\u001b[39m\u001b[39mstr\u001b[39m(n1)) \u001b[39mnot\u001b[39;00m \u001b[39min\u001b[39;00m prime_range:\n\u001b[0;32m     <a href='vscode-notebook-cell:/c%3A/Users/lukes/OneDrive/Documents/coding/project_euler/0000s/0060s/0060.ipynb#ch0000002?line=9'>10</a>\u001b[0m         \u001b[39mreturn\u001b[39;00m \u001b[39mFalse\u001b[39;00m\n\u001b[0;32m     <a href='vscode-notebook-cell:/c%3A/Users/lukes/OneDrive/Documents/coding/project_euler/0000s/0060s/0060.ipynb#ch0000002?line=10'>11</a>\u001b[0m \u001b[39mreturn\u001b[39;00m \u001b[39mTrue\u001b[39;00m\n",
      "\u001b[1;31mNameError\u001b[0m: name 'n1' is not defined"
     ]
    }
   ],
   "source": [
    "n = 2\n",
    "P = Primes()\n",
    "\n",
    "\n",
    "\n",
    "def all_pairs_make_primes(comb,prime_range):\n",
    "    for pair in combinations(comb,2):\n",
    "        p1,p2 = pair[0],pair[1]\n",
    "        if int(str(p1)+str(p2)) not in prime_range or int(str(p2)+str(p1)) not in prime_range:\n",
    "            return False\n",
    "    return True\n",
    "\n",
    "\n",
    "def get_answer():\n",
    "    for i in range(4,130):\n",
    "        primes_to_search = P[:i]\n",
    "        prime_range = P.take_while_le(2*primes_to_search[-1])\n",
    "        print(primes_to_search)\n",
    "        combs = combinations(primes_to_search,n)\n",
    "        for comb in combs:\n",
    "            if all_pairs_make_primes(comb,prime_range):\n",
    "                return sum(comb)\n",
    "                \n",
    "\n",
    "get_answer()\n",
    "\n",
    "\n",
    "\n",
    "\n",
    "\n",
    "\n",
    "\n"
   ]
  },
  {
   "cell_type": "markdown",
   "metadata": {},
   "source": [
    "## ANSWER = 7273"
   ]
  }
 ],
 "metadata": {
  "interpreter": {
   "hash": "fa6d3aa3e59b0d3ec5716a83fdfe307fbe220500d62ba18b8aa8ea0f1364950a"
  },
  "kernelspec": {
   "display_name": "Python 3.9.7 ('project_euler')",
   "language": "python",
   "name": "python3"
  },
  "language_info": {
   "codemirror_mode": {
    "name": "ipython",
    "version": 3
   },
   "file_extension": ".py",
   "mimetype": "text/x-python",
   "name": "python",
   "nbconvert_exporter": "python",
   "pygments_lexer": "ipython3",
   "version": "3.10.0"
  },
  "orig_nbformat": 4
 },
 "nbformat": 4,
 "nbformat_minor": 2
}
