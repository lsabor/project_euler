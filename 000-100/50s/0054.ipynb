{
 "cells": [
  {
   "cell_type": "markdown",
   "metadata": {},
   "source": [
    "## Poker hands\n",
    "Problem 54\n",
    "\n",
    "In the card game poker, a hand consists of five cards and are ranked, from lowest to highest, in the following way:\n",
    "\n",
    "    High Card: Highest value card.\n",
    "    One Pair: Two cards of the same value.\n",
    "    Two Pairs: Two different pairs.\n",
    "    Three of a Kind: Three cards of the same value.\n",
    "    Straight: All cards are consecutive values.\n",
    "    Flush: All cards of the same suit.\n",
    "    Full House: Three of a kind and a pair.\n",
    "    Four of a Kind: Four cards of the same value.\n",
    "    Straight Flush: All cards are consecutive values of same suit.\n",
    "    Royal Flush: Ten, Jack, Queen, King, Ace, in same suit.\n",
    "\n",
    "The cards are valued in the order:\n",
    "2, 3, 4, 5, 6, 7, 8, 9, 10, Jack, Queen, King, Ace.\n",
    "\n",
    "If two players have the same ranked hands then the rank made up of the highest value wins; for example, a pair of eights beats a pair of fives (see example 1 below). But if two ranks tie, for example, both players have a pair of queens, then highest cards in each hand are compared (see example 4 below); if the highest cards tie then the next highest cards are compared, and so on.\n",
    "\n",
    "Consider the following five hands dealt to two players:  \n",
    "Hand_| Player 1___________________________________________ | Player 2_________________________________________________ | Winner  \n",
    "1____ | 5C 6S 7S KD Pair of Fives __________________________ | 2C 3S 8S 8D TD Pair of Eights _________________________ | Player 2  \n",
    "2____ | 5D 8C 9S JS AC Highest card Ace___________________ | 2C 5C 7D 8S QH Highest card Queen _______________ | Player 1  \n",
    "3____ | 2D 9C AS AH AC Three Aces _______________________ | 3D 6D 7D TD QDFlush with Diamonds _______________ | Player 2  \n",
    "4____ | 4D 6S 9H QH QC Pair of Queens Highest card Nine | 3D 6D 7H QD QS Pair of Queens Highest card Seven | Player 1  \n",
    "5____ | 2H 2D 4C 4D 4S Full House With Three Fours ______ | 3C 3D 3S 9S 9D Full House with Three Threes _______ | Player 1  \n",
    "\n",
    "The file, poker.txt, contains one-thousand random hands dealt to two players. Each line of the file contains ten cards (separated by a single space): the first five are Player 1's cards and the last five are Player 2's cards. You can assume that all hands are valid (no invalid characters or repeated cards), each player's hand is in no specific order, and in each hand there is a clear winner.\n",
    "\n",
    "How many hands does Player 1 win?\n",
    "\n",
    "\n",
    "Link: https://projecteuler.net/problem=54\n",
    "\n",
    "Date solved:  \n",
    "2022/07/25"
   ]
  },
  {
   "cell_type": "code",
   "execution_count": 17,
   "metadata": {},
   "outputs": [],
   "source": [
    "# imports\n",
    "from collections import Counter"
   ]
  },
  {
   "cell_type": "code",
   "execution_count": 20,
   "metadata": {},
   "outputs": [
    {
     "data": {
      "text/plain": [
       "376"
      ]
     },
     "execution_count": 20,
     "metadata": {},
     "output_type": "execute_result"
    }
   ],
   "source": [
    "file_name = '../../problem_files/p054_poker.txt'\n",
    "with open(file_name,'r') as f:\n",
    "    hands = f.read()\n",
    "hands = hands.split('\\n')\n",
    "\n",
    "def no_str(integer):\n",
    "    num = str(integer)\n",
    "    return num if len(num)==2 else '0'+num\n",
    "\n",
    "def high_value(snum):\n",
    "    return ''.join(map(no_str,snum[::-1]))\n",
    "\n",
    "def score_hand(hand):\n",
    "    num_key = {'T':10,'J':11,'Q':12,'K':13,'A':14,}\n",
    "    letters = []\n",
    "    numbers = []\n",
    "    for card in hand:\n",
    "        letter = card[1]\n",
    "        letters.append(letter)\n",
    "        num = card[0]\n",
    "        try:\n",
    "            number = int(num)\n",
    "        except:\n",
    "            number = num_key[num]\n",
    "        numbers.append(number)\n",
    "    snum = sorted(numbers) # Sorted for ease\n",
    "    rnum = Counter(numbers)  # We count repetitions for each number\n",
    "    mfreq = rnum.most_common()[0][1] # largest 'X of a kind'\n",
    "    rlet = [letters.count(i) for i in letters]  # We count repetitions for each letter\n",
    "    dif = max(numbers) - min(numbers) # The difference between the greater and smaller number in the hand\n",
    "    \n",
    "    if snum == [2,3,4,5,14]: # makes Ace low in this case\n",
    "        snum = [1,2,3,4,5]\n",
    "        dif = 4\n",
    "    \n",
    "    if rlet[0] == 5:\n",
    "        if dif == 4 and mfreq == 1:\n",
    "            handtype = 'straight_flush'\n",
    "            score = float('8.' + high_value(snum))\n",
    "        else:\n",
    "            handtype = 'flush'\n",
    "            score = float('5.' + high_value(snum))\n",
    "    elif mfreq == 4:\n",
    "        handtype = 'four of a kind'\n",
    "        v4 = no_str(rnum.most_common()[0][0])\n",
    "        score = float('7.'+ v4 + high_value(snum))\n",
    "    elif snum == [2,2,3,3,3]:\n",
    "        handtype = 'full house'\n",
    "        v3 = no_str(rnum.most_common()[0][0])\n",
    "        v2 = no_str(rnum.most_common()[1][0])\n",
    "        score = float('6.'+ v3 + v2 + high_value(snum))\n",
    "    elif dif == 4 and mfreq == 1:\n",
    "        handtype = 'straight'\n",
    "        score = float('4.' + high_value(snum))\n",
    "    elif  mfreq == 3:\n",
    "        handtype = 'three of a kind'\n",
    "        v3 = no_str(rnum.most_common()[0][0])\n",
    "        score = float('3.' + v3 + high_value(snum))\n",
    "    elif (rnum.most_common()[0][1]==2) and (rnum.most_common()[1][1] == 2):\n",
    "        handtype = 'two pair'\n",
    "        commons = [rnum.most_common()[0][0],rnum.most_common()[1][0]]\n",
    "        v2h = no_str(max(commons))\n",
    "        v2l = no_str(min(commons))\n",
    "        score = float('2.'+ v2h + v2l + high_value(snum))\n",
    "    elif rnum.most_common()[0][1]==2:\n",
    "        handtype = 'pair'\n",
    "        v2 = no_str(rnum.most_common()[0][0])\n",
    "        score = float('1.' + v2 + high_value(snum))\n",
    "    else:\n",
    "        handtype= 'high card'\n",
    "        score = float('0.' + high_value(snum))\n",
    "#     print(hand,'this hand is a %s:, with score: %s' % (handtype,score)) \n",
    "    return score\n",
    "\n",
    "def count_p1_wins():\n",
    "    p1_wins = 0\n",
    "\n",
    "    for hand in hands:\n",
    "        p1_hand = hand[:14].split(' ')\n",
    "        p2_hand = hand[15:].split(' ')\n",
    "\n",
    "        p1_val = score_hand(p1_hand)\n",
    "        p2_val = score_hand(p2_hand)\n",
    "\n",
    "        p1_wins += p1_val > p2_val\n",
    "\n",
    "    return p1_wins\n",
    "\n",
    "count_p1_wins()\n",
    "    "
   ]
  },
  {
   "cell_type": "markdown",
   "metadata": {},
   "source": [
    "## ANSWER = 376"
   ]
  }
 ],
 "metadata": {
  "kernelspec": {
   "display_name": "Python 3.10.4 ('project_euler-n_y2k3fO')",
   "language": "python",
   "name": "python3"
  },
  "language_info": {
   "codemirror_mode": {
    "name": "ipython",
    "version": 3
   },
   "file_extension": ".py",
   "mimetype": "text/x-python",
   "name": "python",
   "nbconvert_exporter": "python",
   "pygments_lexer": "ipython3",
   "version": "3.10.4"
  },
  "orig_nbformat": 4,
  "vscode": {
   "interpreter": {
    "hash": "2458aa9317e3ad091dce09405bd27e58e704aecbe1f7d76e8b0c3a84d1557548"
   }
  }
 },
 "nbformat": 4,
 "nbformat_minor": 2
}
