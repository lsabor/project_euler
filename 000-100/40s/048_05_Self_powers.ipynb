{
    "cells": [
        {
            "cell_type": "markdown",
            "metadata": {},
            "source": [
                "## Self powers\n",
                "Problem 48\n",
                "\n",
                "The series, 1^1 + 2^2 + 3^3 + ... + 10^10 = 10405071317.\n",
                "\n",
                "Find the last ten digits of the series, 1^1 + 2^2 + 3^3 + ... + 1000^1000.\n",
                "\n",
                "\n",
                "Link: https://projecteuler.net/problem=48\n",
                "\n",
                "Date solved:  \n",
                "2022/07/24"
            ]
        },
        {
            "cell_type": "code",
            "execution_count": 1,
            "metadata": {},
            "outputs": [],
            "source": [
                "# imports\n",
                "from maths.math import tetrate"
            ]
        },
        {
            "cell_type": "code",
            "execution_count": 2,
            "metadata": {},
            "outputs": [
                {
                    "data": {
                        "text/plain": [
                            "9110846700"
                        ]
                    },
                    "execution_count": 2,
                    "metadata": {},
                    "output_type": "execute_result"
                }
            ],
            "source": [
                "\n",
                "def sum_consecutive_tetrations(n:int, mod:int = 0):\n",
                "    result = 0\n",
                "    for i in range(1,n+1):\n",
                "        result += tetrate(i,mod=mod)\n",
                "    return result\n",
                "\n",
                "sum_consecutive_tetrations(1000, int(1e10)) % int(1e10)"
            ]
        },
        {
            "cell_type": "markdown",
            "metadata": {},
            "source": [
                "## ANSWER = 9110846700"
            ]
        }
    ],
    "metadata": {
        "kernelspec": {
            "display_name": "Python 3.10.4 ('project_euler-n_y2k3fO')",
            "language": "python",
            "name": "python3"
        },
        "language_info": {
            "codemirror_mode": {
                "name": "ipython",
                "version": 3
            },
            "file_extension": ".py",
            "mimetype": "text/x-python",
            "name": "python",
            "nbconvert_exporter": "python",
            "pygments_lexer": "ipython3",
            "version": "3.10.4"
        },
        "orig_nbformat": 4,
        "vscode": {
            "interpreter": {
                "hash": "2458aa9317e3ad091dce09405bd27e58e704aecbe1f7d76e8b0c3a84d1557548"
            }
        }
    },
    "nbformat": 4,
    "nbformat_minor": 2
}
