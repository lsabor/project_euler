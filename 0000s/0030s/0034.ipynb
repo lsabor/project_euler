{
 "cells": [
  {
   "cell_type": "markdown",
   "metadata": {},
   "source": [
    "## Digit factorials\n",
    "Problem 34\n",
    "\n",
    "145 is a curious number, as 1! + 4! + 5! = 1 + 24 + 120 = 145.\n",
    "\n",
    "Find the sum of all numbers which are equal to the sum of the factorial of their digits.\n",
    "\n",
    "Note: As 1! = 1 and 2! = 2 are not sums they are not included.\n",
    "\n",
    "\n",
    "Link: https://projecteuler.net/problem=34\n",
    "\n",
    "Date solved:  \n",
    "2022/06/13"
   ]
  },
  {
   "cell_type": "code",
   "execution_count": 2,
   "metadata": {},
   "outputs": [],
   "source": [
    "# imports\n",
    "import sys\n",
    "sys.path.append('../../modules')\n",
    "\n",
    "from maths import factorial"
   ]
  },
  {
   "cell_type": "code",
   "execution_count": 8,
   "metadata": {},
   "outputs": [
    {
     "data": {
      "text/plain": [
       "40730"
      ]
     },
     "execution_count": 8,
     "metadata": {},
     "output_type": "execute_result"
    }
   ],
   "source": [
    "def digit_factorial(N):\n",
    "    df_sum = 0\n",
    "    for char in str(N):\n",
    "        df_sum += factorial(int(char))\n",
    "    return df_sum\n",
    "\n",
    "\n",
    "# find the number N such that n > digit_factorial(n) for n > N\n",
    "# N is a strint of 9's\n",
    "N = \"9\"\n",
    "while True:\n",
    "    df = digit_factorial(int(N))\n",
    "    if df < int(N):\n",
    "        break\n",
    "    N = N + \"9\"\n",
    "\n",
    "# the maximum value is equal to the digit_factorial of N\n",
    "max_value = digit_factorial(int(N)) + 1\n",
    "\n",
    "# add all cases n <= max_value such that n == digit_facrorial(n)\n",
    "df_sum = 0\n",
    "for n in range(3,max_value):\n",
    "    if n == digit_factorial(n):\n",
    "        df_sum += n\n",
    "\n",
    "df_sum\n",
    "\n",
    "\n"
   ]
  },
  {
   "cell_type": "markdown",
   "metadata": {},
   "source": [
    "## ANSWER = 40730"
   ]
  }
 ],
 "metadata": {
  "interpreter": {
   "hash": "fbcbf67343b13381930d1067ff70a24a78f610e673a8197754ee4c9242023545"
  },
  "kernelspec": {
   "display_name": "Python 3.10.0 ('euler_project')",
   "language": "python",
   "name": "python3"
  },
  "language_info": {
   "codemirror_mode": {
    "name": "ipython",
    "version": 3
   },
   "file_extension": ".py",
   "mimetype": "text/x-python",
   "name": "python",
   "nbconvert_exporter": "python",
   "pygments_lexer": "ipython3",
   "version": "3.10.0"
  },
  "orig_nbformat": 4
 },
 "nbformat": 4,
 "nbformat_minor": 2
}
