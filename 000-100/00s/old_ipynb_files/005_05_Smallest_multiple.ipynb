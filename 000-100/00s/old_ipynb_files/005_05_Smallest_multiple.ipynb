{
    "cells": [
        {
            "cell_type": "markdown",
            "metadata": {},
            "source": [
                "## Smallest multiple\n",
                "\n",
                "Problem 5\n",
                "\n",
                "2520 is the smallest number that can be divided by each of the numbers from 1 to 10 without any remainder.\n",
                "\n",
                "What is the smallest positive number that is evenly divisible by all of the numbers from 1 to 20?\n",
                "\n",
                "\n",
                "Link: https://projecteuler.net/problem=5\n",
                "\n",
                "Date solved:  \n",
                "2022/03/05"
            ]
        },
        {
            "cell_type": "code",
            "execution_count": 1,
            "metadata": {},
            "outputs": [],
            "source": [
                "# imports\n",
                "from maths.primes import lcm"
            ]
        },
        {
            "cell_type": "code",
            "execution_count": 2,
            "metadata": {},
            "outputs": [
                {
                    "data": {
                        "text/plain": [
                            "232792560"
                        ]
                    },
                    "execution_count": 2,
                    "metadata": {},
                    "output_type": "execute_result"
                }
            ],
            "source": [
                "lcm(*range(2,21))"
            ]
        },
        {
            "cell_type": "markdown",
            "metadata": {},
            "source": [
                "## ANSWER = 232792560"
            ]
        }
    ],
    "metadata": {
        "kernelspec": {
            "display_name": "Python 3.10.4 ('projecteuler-GuJiYf8I')",
            "language": "python",
            "name": "python3"
        },
        "language_info": {
            "codemirror_mode": {
                "name": "ipython",
                "version": 3
            },
            "file_extension": ".py",
            "mimetype": "text/x-python",
            "name": "python",
            "nbconvert_exporter": "python",
            "pygments_lexer": "ipython3",
            "version": "3.10.4"
        },
        "orig_nbformat": 4,
        "vscode": {
            "interpreter": {
                "hash": "e623ed2e3d07890468d8884af07d1d8dcf18fc6cdd22d6e1e3bd8c90cdbd4ebc"
            }
        }
    },
    "nbformat": 4,
    "nbformat_minor": 2
}
