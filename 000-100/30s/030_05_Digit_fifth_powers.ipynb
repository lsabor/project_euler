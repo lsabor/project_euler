{
 "cells": [
  {
   "cell_type": "markdown",
   "metadata": {},
   "source": [
    "## Digit fifth powers\n",
    "Problem 30\n",
    "\n",
    "Surprisingly there are only three numbers that can be written as the sum of fourth powers of their digits:\n",
    "\n",
    "    1634 = 1^4 + 6^4 + 3^4 + 4^4\n",
    "    8208 = 8^4 + 2^4 + 0^4 + 8^4\n",
    "    9474 = 9^4 + 4^4 + 7^4 + 4^4\n",
    "\n",
    "As 1 = 1^4 is not a sum it is not included.\n",
    "\n",
    "The sum of these numbers is 1634 + 8208 + 9474 = 19316.\n",
    "\n",
    "Find the sum of all the numbers that can be written as the sum of fifth powers of their digits.\n",
    "\n",
    "\n",
    "Link: https://projecteuler.net/problem=30\n",
    "\n",
    "Date solved:  \n",
    "2022/05/18"
   ]
  },
  {
   "cell_type": "code",
   "execution_count": 3,
   "metadata": {},
   "outputs": [],
   "source": [
    "# imports"
   ]
  },
  {
   "cell_type": "code",
   "execution_count": 2,
   "metadata": {},
   "outputs": [
    {
     "data": {
      "text/plain": [
       "443839"
      ]
     },
     "execution_count": 2,
     "metadata": {},
     "output_type": "execute_result"
    }
   ],
   "source": [
    "# let f(N) = the sum of the 5th power of the decimal based digits of N\n",
    "def f(N):\n",
    "    n_string = str(N)\n",
    "    sum = 0\n",
    "    for char in n_string:\n",
    "        digit = int(char)\n",
    "        fifth_power = digit**5\n",
    "        sum += fifth_power\n",
    "    return sum\n",
    "\n",
    "def get_max_N():\n",
    "    # find N s.t. for all n>N, f(n) < n.\n",
    "    N = 9\n",
    "    while True:\n",
    "        fn = f(N)\n",
    "        if fn < N:\n",
    "            break\n",
    "        N = 10*N + 9\n",
    "    return N\n",
    "\n",
    "N = get_max_N() # returns 354294\n",
    "\n",
    "digit_fifth_powers = []\n",
    "for n in range(2,N+1):\n",
    "    if f(n) == n:\n",
    "        digit_fifth_powers.append(n)\n",
    "\n",
    "sum(digit_fifth_powers)\n"
   ]
  },
  {
   "cell_type": "markdown",
   "metadata": {},
   "source": [
    "## ANSWER = 443839"
   ]
  }
 ],
 "metadata": {
  "interpreter": {
   "hash": "fbcbf67343b13381930d1067ff70a24a78f610e673a8197754ee4c9242023545"
  },
  "kernelspec": {
   "display_name": "Python 3.10.0 ('euler_project')",
   "language": "python",
   "name": "python3"
  },
  "language_info": {
   "codemirror_mode": {
    "name": "ipython",
    "version": 3
   },
   "file_extension": ".py",
   "mimetype": "text/x-python",
   "name": "python",
   "nbconvert_exporter": "python",
   "pygments_lexer": "ipython3",
   "version": "3.10.0"
  },
  "orig_nbformat": 4
 },
 "nbformat": 4,
 "nbformat_minor": 2
}
