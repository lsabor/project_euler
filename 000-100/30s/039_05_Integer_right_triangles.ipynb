{
    "cells": [
        {
            "cell_type": "markdown",
            "metadata": {},
            "source": [
                "## Integer right triangles\n",
                "Problem 39\n",
                "\n",
                "If p is the perimeter of a right angle triangle with integral length sides, {a,b,c}, there are exactly three solutions for p = 120.\n",
                "\n",
                "{20,48,52}, {24,45,51}, {30,40,50}\n",
                "\n",
                "For which value of p ≤ 1000, is the number of solutions maximised?\n",
                "\n",
                "\n",
                "Link: https://projecteuler.net/problem=39\n",
                "\n",
                "Date solved:  \n",
                "2022/07/06"
            ]
        },
        {
            "cell_type": "code",
            "execution_count": 1,
            "metadata": {},
            "outputs": [],
            "source": [
                "# imports\n",
                "from maths.math import sqrt, ceil"
            ]
        },
        {
            "cell_type": "markdown",
            "metadata": {},
            "source": [
                "Math:\n",
                "\n",
                "p = perimeter  \n",
                "h = hypotenuse  \n",
                "l = long side  \n",
                "s = short side  \n",
                "\n",
                "p = h + l + s  \n",
                "h > l >= s\n",
                "\n",
                "maximum possible value of h => s=1 and l=h-1, thus p = h + h-1 + 1 = 2\\*h  \n",
                "max(h) = p/2\n",
                "\n",
                "minimum possible value of h => l = s = h\\*sqrt(2)/2, thus p = h + 2\\*h\\*sqrt(2)/2 = h + h\\*sqrt(2) = h(1 + sqrt(2))  \n",
                "min(h) = p/(1+sqrt(2))\n",
                "\n",
                "Thus, our search space starts with only investigating h | p/(1+sqrt(2)) < h <= p/2  \n",
                "Then, cycle from l=h-1 to l=h*sqrt(2)/2 to find triples"
            ]
        },
        {
            "cell_type": "code",
            "execution_count": 2,
            "metadata": {},
            "outputs": [
                {
                    "data": {
                        "text/plain": [
                            "840"
                        ]
                    },
                    "execution_count": 2,
                    "metadata": {},
                    "output_type": "execute_result"
                }
            ],
            "source": [
                "p = 1000\n",
                "\n",
                "def find_triples(p):\n",
                "    triples = []\n",
                "    \n",
                "    h_min_value = int(p / (1+sqrt(2)))+1\n",
                "    h_max_value = int(p / 2)\n",
                "\n",
                "    for h in range(h_min_value,h_max_value+1):\n",
                "        # for each h, check for triples across l\n",
                "        for l in range(ceil(sqrt(2)/2*h),h):\n",
                "            s = p-h-l\n",
                "            if h**2 == l**2 + s**2:\n",
                "                triples.append((h,l,s))\n",
                "    return triples\n",
                "\n",
                "best_p = 0\n",
                "best_count = 0\n",
                "for n in range(10,p+1):\n",
                "    count = len(find_triples(n))\n",
                "    if count > best_count:\n",
                "        best_count = count\n",
                "        best_p = n\n",
                "\n",
                "best_p\n"
            ]
        },
        {
            "cell_type": "markdown",
            "metadata": {},
            "source": [
                "## ANSWER = 840"
            ]
        }
    ],
    "metadata": {
        "kernelspec": {
            "display_name": "Python 3.10.4 ('project_euler-n_y2k3fO')",
            "language": "python",
            "name": "python3"
        },
        "language_info": {
            "codemirror_mode": {
                "name": "ipython",
                "version": 3
            },
            "file_extension": ".py",
            "mimetype": "text/x-python",
            "name": "python",
            "nbconvert_exporter": "python",
            "pygments_lexer": "ipython3",
            "version": "3.10.4"
        },
        "orig_nbformat": 4,
        "vscode": {
            "interpreter": {
                "hash": "2458aa9317e3ad091dce09405bd27e58e704aecbe1f7d76e8b0c3a84d1557548"
            }
        }
    },
    "nbformat": 4,
    "nbformat_minor": 2
}