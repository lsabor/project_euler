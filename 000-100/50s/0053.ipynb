{
 "cells": [
  {
   "cell_type": "markdown",
   "metadata": {},
   "source": [
    "## Combinatoric selections\n",
    "Problem 53\n",
    "\n",
    "There are exactly ten ways of selecting three from five, 12345:\n",
    "\n",
    "123, 124, 125, 134, 135, 145, 234, 235, 245, and 345\n",
    "\n",
    "In combinatorics, we use the notation, 5_C_3 = 10\n",
    "\n",
    "In general, n_C_r = n! / (r! * (n-r)!) and r <= n\n",
    "\n",
    "It is not until n = 23, that a value exceeds one-million: 23_C_10 = 1144066\n",
    "\n",
    "How many, not necessarily distinct, values of n_C_r for 1 <= n <= 100, are greater than one-million?\n",
    "\n",
    "Link: https://projecteuler.net/problem=52\n",
    "\n",
    "Date solved:  \n",
    "2022/07/24"
   ]
  },
  {
   "cell_type": "code",
   "execution_count": 2,
   "metadata": {},
   "outputs": [],
   "source": [
    "# imports\n",
    "from maths import n_choose_k"
   ]
  },
  {
   "cell_type": "code",
   "execution_count": 6,
   "metadata": {},
   "outputs": [
    {
     "data": {
      "text/plain": [
       "4075"
      ]
     },
     "execution_count": 6,
     "metadata": {},
     "output_type": "execute_result"
    }
   ],
   "source": [
    "threshold = int(1e6)\n",
    "\n",
    "def find_big_comb_vals():\n",
    "    count = 0\n",
    "\n",
    "    for n in range(1,101):\n",
    "        for k in range(1,n+1):\n",
    "            nck = n_choose_k(n,k)\n",
    "            if nck > threshold:\n",
    "                count += 1\n",
    "    \n",
    "    return count\n",
    "\n",
    "\n",
    "find_big_comb_vals()\n",
    "\n"
   ]
  },
  {
   "cell_type": "markdown",
   "metadata": {},
   "source": [
    "## ANSWER = 4075"
   ]
  }
 ],
 "metadata": {
  "kernelspec": {
   "display_name": "Python 3.10.4 ('project_euler-n_y2k3fO')",
   "language": "python",
   "name": "python3"
  },
  "language_info": {
   "codemirror_mode": {
    "name": "ipython",
    "version": 3
   },
   "file_extension": ".py",
   "mimetype": "text/x-python",
   "name": "python",
   "nbconvert_exporter": "python",
   "pygments_lexer": "ipython3",
   "version": "3.10.4"
  },
  "orig_nbformat": 4,
  "vscode": {
   "interpreter": {
    "hash": "2458aa9317e3ad091dce09405bd27e58e704aecbe1f7d76e8b0c3a84d1557548"
   }
  }
 },
 "nbformat": 4,
 "nbformat_minor": 2
}
