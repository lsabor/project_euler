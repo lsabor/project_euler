{
    "cells": [
        {
            "cell_type": "markdown",
            "metadata": {},
            "source": [
                "## Circular primes\n",
                "Problem 35\n",
                "\n",
                "The number, 197, is called a circular prime because all rotations of the digits: 197, 971, and 719, are themselves prime.\n",
                "\n",
                "There are thirteen such primes below 100: 2, 3, 5, 7, 11, 13, 17, 31, 37, 71, 73, 79, and 97.\n",
                "\n",
                "How many circular primes are there below one million?\n",
                "\n",
                "Link: https://projecteuler.net/problem=35\n",
                "\n",
                "Date solved:  \n",
                "2022/06/13"
            ]
        },
        {
            "cell_type": "code",
            "execution_count": 1,
            "metadata": {},
            "outputs": [],
            "source": [
                "# imports\n",
                "from maths.sequences import PrimesSeq"
            ]
        },
        {
            "cell_type": "code",
            "execution_count": 3,
            "metadata": {},
            "outputs": [
                {
                    "data": {
                        "text/plain": [
                            "55"
                        ]
                    },
                    "execution_count": 3,
                    "metadata": {},
                    "output_type": "execute_result"
                }
            ],
            "source": [
                "search_range = 1e6\n",
                "\n",
                "P = PrimesSeq()\n",
                "p = P.takeWhileLT(search_range) # list of all the primes less than 1000000\n",
                "p = set(p) # turn into a set for much faster lookup\n",
                "\n",
                "def is_circular(prime):\n",
                "    p_strint = str(prime)\n",
                "    # find the number of rotations that need to be checked\n",
                "    # example: if p == 123, we need to only check 312 and 231\n",
                "    cycles = len(p_strint) - 1\n",
                "    for _ in range(cycles):\n",
                "        p_strint = p_strint[1:] + p_strint[0]\n",
                "        # check if our\n",
                "        if int(p_strint) not in p:\n",
                "            return False\n",
                "    return True\n",
                "\n",
                "circular_prime_count = 0\n",
                "for prime in p:\n",
                "    if is_circular(prime):\n",
                "        circular_prime_count += 1\n",
                "\n",
                "circular_prime_count\n",
                "\n"
            ]
        },
        {
            "cell_type": "markdown",
            "metadata": {},
            "source": [
                "## ANSWER = 55"
            ]
        }
    ],
    "metadata": {
        "kernelspec": {
            "display_name": "Python 3.10.4 ('project_euler-n_y2k3fO')",
            "language": "python",
            "name": "python3"
        },
        "language_info": {
            "codemirror_mode": {
                "name": "ipython",
                "version": 3
            },
            "file_extension": ".py",
            "mimetype": "text/x-python",
            "name": "python",
            "nbconvert_exporter": "python",
            "pygments_lexer": "ipython3",
            "version": "3.10.4"
        },
        "orig_nbformat": 4,
        "vscode": {
            "interpreter": {
                "hash": "2458aa9317e3ad091dce09405bd27e58e704aecbe1f7d76e8b0c3a84d1557548"
            }
        }
    },
    "nbformat": 4,
    "nbformat_minor": 2
}