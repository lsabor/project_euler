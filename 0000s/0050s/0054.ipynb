{
 "cells": [
  {
   "cell_type": "markdown",
   "metadata": {},
   "source": [
    "## Poker hands\n",
    "Problem 54\n",
    "\n",
    "In the card game poker, a hand consists of five cards and are ranked, from lowest to highest, in the following way:\n",
    "\n",
    "    High Card: Highest value card.\n",
    "    One Pair: Two cards of the same value.\n",
    "    Two Pairs: Two different pairs.\n",
    "    Three of a Kind: Three cards of the same value.\n",
    "    Straight: All cards are consecutive values.\n",
    "    Flush: All cards of the same suit.\n",
    "    Full House: Three of a kind and a pair.\n",
    "    Four of a Kind: Four cards of the same value.\n",
    "    Straight Flush: All cards are consecutive values of same suit.\n",
    "    Royal Flush: Ten, Jack, Queen, King, Ace, in same suit.\n",
    "\n",
    "The cards are valued in the order:\n",
    "2, 3, 4, 5, 6, 7, 8, 9, 10, Jack, Queen, King, Ace.\n",
    "\n",
    "If two players have the same ranked hands then the rank made up of the highest value wins; for example, a pair of eights beats a pair of fives (see example 1 below). But if two ranks tie, for example, both players have a pair of queens, then highest cards in each hand are compared (see example 4 below); if the highest cards tie then the next highest cards are compared, and so on.\n",
    "\n",
    "Consider the following five hands dealt to two players:  \n",
    "Hand_| Player 1___________________________________________ | Player 2_________________________________________________ | Winner  \n",
    "1____ | 5C 6S 7S KD Pair of Fives __________________________ | 2C 3S 8S 8D TD Pair of Eights _________________________ | Player 2  \n",
    "2____ | 5D 8C 9S JS AC Highest card Ace___________________ | 2C 5C 7D 8S QH Highest card Queen _______________ | Player 1  \n",
    "3____ | 2D 9C AS AH AC Three Aces _______________________ | 3D 6D 7D TD QDFlush with Diamonds _______________ | Player 2  \n",
    "4____ | 4D 6S 9H QH QC Pair of Queens Highest card Nine | 3D 6D 7H QD QS Pair of Queens Highest card Seven | Player 1  \n",
    "5____ | 2H 2D 4C 4D 4S Full House With Three Fours ______ | 3C 3D 3S 9S 9D Full House with Three Threes _______ | Player 1  \n",
    "\n",
    "The file, poker.txt, contains one-thousand random hands dealt to two players. Each line of the file contains ten cards (separated by a single space): the first five are Player 1's cards and the last five are Player 2's cards. You can assume that all hands are valid (no invalid characters or repeated cards), each player's hand is in no specific order, and in each hand there is a clear winner.\n",
    "\n",
    "How many hands does Player 1 win?\n",
    "\n",
    "\n",
    "Link: https://projecteuler.net/problem=52\n",
    "\n",
    "Date solved:  \n",
    "2022/07/24"
   ]
  },
  {
   "cell_type": "code",
   "execution_count": 1,
   "metadata": {},
   "outputs": [],
   "source": [
    "# imports"
   ]
  },
  {
   "cell_type": "code",
   "execution_count": null,
   "metadata": {},
   "outputs": [],
   "source": []
  },
  {
   "cell_type": "markdown",
   "metadata": {},
   "source": [
    "## ANSWER = 4075"
   ]
  }
 ],
 "metadata": {
  "kernelspec": {
   "display_name": "Python 3.10.4 ('project_euler-n_y2k3fO')",
   "language": "python",
   "name": "python3"
  },
  "language_info": {
   "codemirror_mode": {
    "name": "ipython",
    "version": 3
   },
   "file_extension": ".py",
   "mimetype": "text/x-python",
   "name": "python",
   "nbconvert_exporter": "python",
   "pygments_lexer": "ipython3",
   "version": "3.10.4"
  },
  "orig_nbformat": 4,
  "vscode": {
   "interpreter": {
    "hash": "2458aa9317e3ad091dce09405bd27e58e704aecbe1f7d76e8b0c3a84d1557548"
   }
  }
 },
 "nbformat": 4,
 "nbformat_minor": 2
}
