{
 "cells": [
  {
   "cell_type": "markdown",
   "metadata": {},
   "source": [
    "## Coin sums\n",
    "Problem 31\n",
    "\n",
    "In the United Kingdom the currency is made up of pound (£) and pence (p). There are eight coins in general circulation:\n",
    "\n",
    "    1p, 2p, 5p, 10p, 20p, 50p, £1 (100p), and £2 (200p).\n",
    "\n",
    "It is possible to make £2 in the following way:\n",
    "\n",
    "    1×£1 + 1×50p + 2×20p + 1×5p + 1×2p + 3×1p\n",
    "\n",
    "How many different ways can £2 be made using any number of coins?\n",
    "\n",
    "\n",
    "\n",
    "Link: https://projecteuler.net/problem=31\n",
    "\n",
    "Date solved:  \n",
    "2022/05/28"
   ]
  },
  {
   "cell_type": "code",
   "execution_count": 1,
   "metadata": {},
   "outputs": [],
   "source": [
    "# imports\n"
   ]
  },
  {
   "cell_type": "code",
   "execution_count": 1,
   "metadata": {},
   "outputs": [
    {
     "data": {
      "text/plain": [
       "73682"
      ]
     },
     "execution_count": 1,
     "metadata": {},
     "output_type": "execute_result"
    }
   ],
   "source": [
    "coins = [1,2,5,10,20,50,100,200] # must be ascending\n",
    "\n",
    "def ways_to_compose(n):\n",
    "    matrix = [[1]+[0]*n]\n",
    "    for row, coin in enumerate(coins):\n",
    "        new_methods = []\n",
    "        for amount in range(n+1):\n",
    "            wo_new =  matrix[row][amount]\n",
    "            w_new = 0 if coin > len(new_methods) else new_methods[len(new_methods)-coin]\n",
    "            new_methods.append(wo_new+w_new)\n",
    "        matrix.append(new_methods)\n",
    "\n",
    "    return matrix[-1][-1]\n",
    "\n",
    "ways_to_compose(200)\n"
   ]
  },
  {
   "cell_type": "markdown",
   "metadata": {},
   "source": [
    "## ANSWER = 73682"
   ]
  }
 ],
 "metadata": {
  "interpreter": {
   "hash": "fbcbf67343b13381930d1067ff70a24a78f610e673a8197754ee4c9242023545"
  },
  "kernelspec": {
   "display_name": "Python 3.10.0 ('euler_project')",
   "language": "python",
   "name": "python3"
  },
  "language_info": {
   "codemirror_mode": {
    "name": "ipython",
    "version": 3
   },
   "file_extension": ".py",
   "mimetype": "text/x-python",
   "name": "python",
   "nbconvert_exporter": "python",
   "pygments_lexer": "ipython3",
   "version": "3.10.0"
  },
  "orig_nbformat": 4
 },
 "nbformat": 4,
 "nbformat_minor": 2
}
