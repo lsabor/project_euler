{
    "cells": [
        {
            "cell_type": "markdown",
            "metadata": {},
            "source": [
                "## Prime digit replacements\n",
                "Problem 51\n",
                "\n",
                "By replacing the 1st digit of the 2-digit number *3, it turns out that six of the nine possible values: 13, 23, 43, 53, 73, and 83, are all prime.\n",
                "\n",
                "By replacing the 3rd and 4th digits of 56**3 with the same digit, this 5-digit number is the first example having seven primes among the ten generated numbers, yielding the family: 56003, 56113, 56333, 56443, 56663, 56773, and 56993. Consequently 56003, being the first member of this family, is the smallest prime with this property.\n",
                "\n",
                "Find the smallest prime which, by replacing part of the number (not necessarily adjacent digits) with the same digit, is part of an eight prime value family.\n",
                "\n",
                "Link: https://projecteuler.net/problem=51\n",
                "\n",
                "Date solved:  \n",
                "2022/07/24"
            ]
        },
        {
            "cell_type": "code",
            "execution_count": 1,
            "metadata": {},
            "outputs": [],
            "source": [
                "# imports\n",
                "from maths.sequences import PrimesSeq\n",
                "from maths.math import powerset\n",
                "import re"
            ]
        },
        {
            "cell_type": "code",
            "execution_count": 2,
            "metadata": {},
            "outputs": [
                {
                    "data": {
                        "text/plain": [
                            "121313"
                        ]
                    },
                    "execution_count": 2,
                    "metadata": {},
                    "output_type": "execute_result"
                }
            ],
            "source": [
                "\n",
                "def get_replacements(strint):\n",
                "    replacements = set()\n",
                "    for subset in powerset(range(len(strint)-1)):\n",
                "        if subset:\n",
                "            replacement = list(strint)\n",
                "            for index in subset:\n",
                "                replacement[index] = 'x'\n",
                "            replacement = ''.join(replacement)\n",
                "            replacements.add(replacement)\n",
                "    return replacements\n",
                "\n",
                "def count_replacement_primes(rep_str, p_set):\n",
                "    count = 0\n",
                "    min_val = ''\n",
                "    for i in range(10):\n",
                "        p = re.sub('x',str(i),rep_str)\n",
                "        if (p[0] != '0') and (int(p) in p_set):\n",
                "            if not min_val:\n",
                "                min_val = p\n",
                "            count += 1\n",
                "    return count, min_val\n",
                "\n",
                "def largest_digit_replacement():\n",
                "    P = PrimesSeq()\n",
                "    ps = P.seq\n",
                "    p_set = P.set()\n",
                "    tested = set()\n",
                "\n",
                "    largest = (0,0)\n",
                "    \n",
                "    for p in ps:\n",
                "        count = 0\n",
                "        replacements = get_replacements(str(p))\n",
                "        for rep in replacements:\n",
                "            if rep not in tested:\n",
                "                c, min_val = count_replacement_primes(rep, p_set)\n",
                "                if c > count:\n",
                "                    count = c\n",
                "                    mv = min_val\n",
                "               \n",
                "        if count > largest[1]:\n",
                "            largest = (int(mv), count)\n",
                "        \n",
                "        if largest[1] == 8:\n",
                "            return largest[0]\n",
                "\n",
                "        tested = tested.union(replacements)\n",
                "\n",
                "largest_digit_replacement()"
            ]
        },
        {
            "cell_type": "markdown",
            "metadata": {},
            "source": [
                "## ANSWER = 121313"
            ]
        }
    ],
    "metadata": {
        "kernelspec": {
            "display_name": "Python 3.10.4 ('project_euler-n_y2k3fO')",
            "language": "python",
            "name": "python3"
        },
        "language_info": {
            "codemirror_mode": {
                "name": "ipython",
                "version": 3
            },
            "file_extension": ".py",
            "mimetype": "text/x-python",
            "name": "python",
            "nbconvert_exporter": "python",
            "pygments_lexer": "ipython3",
            "version": "3.10.4"
        },
        "orig_nbformat": 4,
        "vscode": {
            "interpreter": {
                "hash": "2458aa9317e3ad091dce09405bd27e58e704aecbe1f7d76e8b0c3a84d1557548"
            }
        }
    },
    "nbformat": 4,
    "nbformat_minor": 2
}