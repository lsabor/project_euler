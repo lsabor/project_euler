{
    "cells": [
        {
            "cell_type": "markdown",
            "metadata": {},
            "source": [
                "## Summation of primes\n",
                "\n",
                "Problem 10\n",
                "\n",
                "The sum of the primes below 10 is 2 + 3 + 5 + 7 = 17.\n",
                "\n",
                "Find the sum of all the primes below two million.\n",
                "\n",
                "Link: https://projecteuler.net/problem=10\n",
                "\n",
                "Date solved:  \n",
                "2022/03/05"
            ]
        },
        {
            "cell_type": "code",
            "execution_count": 1,
            "metadata": {},
            "outputs": [],
            "source": [
                "# imports\n",
                "from maths.sequences import PrimesSeq"
            ]
        },
        {
            "cell_type": "code",
            "execution_count": 3,
            "metadata": {},
            "outputs": [
                {
                    "data": {
                        "text/plain": [
                            "142913828922"
                        ]
                    },
                    "execution_count": 3,
                    "metadata": {},
                    "output_type": "execute_result"
                }
            ],
            "source": [
                "# %%timeit # results = 77.2 ms ± 1.71 ms per loop (mean ± std. dev. of 7 runs, 10 loops each)\n",
                "# solution\n",
                "\n",
                "cap = 2e6\n",
                "\n",
                "P = PrimesSeq()\n",
                "primes = P.takeWhileLT(cap)\n",
                "\n",
                "sum(primes)"
            ]
        },
        {
            "cell_type": "markdown",
            "metadata": {},
            "source": [
                "## ANSWER = 142913828922"
            ]
        }
    ],
    "metadata": {
        "kernelspec": {
            "display_name": "Python 3.10.4 ('project_euler-n_y2k3fO')",
            "language": "python",
            "name": "python3"
        },
        "language_info": {
            "codemirror_mode": {
                "name": "ipython",
                "version": 3
            },
            "file_extension": ".py",
            "mimetype": "text/x-python",
            "name": "python",
            "nbconvert_exporter": "python",
            "pygments_lexer": "ipython3",
            "version": "3.10.4"
        },
        "orig_nbformat": 4,
        "vscode": {
            "interpreter": {
                "hash": "2458aa9317e3ad091dce09405bd27e58e704aecbe1f7d76e8b0c3a84d1557548"
            }
        }
    },
    "nbformat": 4,
    "nbformat_minor": 2
}
