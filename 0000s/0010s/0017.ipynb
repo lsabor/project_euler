{
 "cells": [
  {
   "cell_type": "markdown",
   "metadata": {},
   "source": [
    "## Number letter counts\n",
    "\n",
    "Problem 17\n",
    "\n",
    "If the numbers 1 to 5 are written out in words: one, two, three, four, five, then there are 3 + 3 + 5 + 4 + 4 = 19 letters used in total.\n",
    "\n",
    "If all the numbers from 1 to 1000 (one thousand) inclusive were written out in words, how many letters would be used?\n",
    "\n",
    "NOTE: Do not count spaces or hyphens. For example, 342 (three hundred and forty-two) contains 23 letters and 115 (one hundred and fifteen) contains 20 letters. The use of \"and\" when writing out numbers is in compliance with British usage.\n",
    "\n",
    "\n",
    "Link: https://projecteuler.net/problem=17\n",
    "\n",
    "Date solved:  \n",
    "2022/03/06\n",
    "\n",
    "Co-solved with Andrew Roberts  \n",
    "Github: @ajroberts0417"
   ]
  },
  {
   "cell_type": "code",
   "execution_count": 9,
   "metadata": {},
   "outputs": [],
   "source": [
    "# imports\n",
    "import sys\n",
    "sys.path.append('../../modules')\n",
    "\n",
    "\n"
   ]
  },
  {
   "cell_type": "code",
   "execution_count": 13,
   "metadata": {},
   "outputs": [],
   "source": [
    "\n",
    "ones_dict = {\n",
    "    0   : '',\n",
    "    1   : 'one',\n",
    "    2   : 'two',\n",
    "    3   : 'three',\n",
    "    4   : 'four',\n",
    "    5   : 'five',\n",
    "    6   : 'six',\n",
    "    7   : 'seven',\n",
    "    8   : 'eight',\n",
    "    9   : 'nine',\n",
    "    10  : 'ten',\n",
    "    11  : 'eleven',\n",
    "    12  : 'twelve',\n",
    "    13  : 'thirteen',\n",
    "    14  : 'fourteen',\n",
    "    15  : 'fifteen',\n",
    "    16  : 'sixteen',\n",
    "    17  : 'seventeen',\n",
    "    18  : 'eighteen',\n",
    "    19  : 'nineteen',\n",
    "    20  : 'twenty',\n",
    "    30  : 'thirty',\n",
    "    40  : 'forty',\n",
    "    50  : 'fifty',\n",
    "    60  : 'sixty',\n",
    "    70  : 'seventy',\n",
    "    80  : 'eighty',\n",
    "    90  : 'ninety',\n",
    "    100 : 'hundred',\n",
    "    101 : 'and',\n",
    "    1000: 'onethousand',\n",
    "}\n",
    "\n",
    "length_dict = {}\n",
    "\n",
    "for key, value in ones_dict.items():\n",
    "    length = len(value)\n",
    "    length_dict[key] = length\n",
    "\n"
   ]
  },
  {
   "cell_type": "code",
   "execution_count": 16,
   "metadata": {},
   "outputs": [
    {
     "data": {
      "text/plain": [
       "21124"
      ]
     },
     "execution_count": 16,
     "metadata": {},
     "output_type": "execute_result"
    }
   ],
   "source": [
    "total_length = length_dict[1000] # 'THOUSAND'\n",
    "for i in range(1,1000):\n",
    "    last_two = i%100\n",
    "    if i > 99:\n",
    "        total_length += length_dict[100] # 'HUNDRED'\n",
    "        if last_two%100 != 0:\n",
    "            total_length += length_dict[101] # 'AND'\n",
    "    total_length += length_dict[i//100] # 'ONE'-hundred\n",
    "    if last_two < 20:\n",
    "        total_length += length_dict[last_two] # 'ONE' -> ''NINETEEN'\n",
    "    else:\n",
    "        ones = last_two%10\n",
    "        total_length += length_dict[ones] # 'ONE' -> 'NINE\n",
    "        tens = last_two//10*10\n",
    "        total_length += length_dict[tens] # 'TEN' -> 'NINETY'\n",
    "total_length"
   ]
  },
  {
   "cell_type": "markdown",
   "metadata": {},
   "source": [
    "## ANSWER = 21124"
   ]
  }
 ],
 "metadata": {
  "interpreter": {
   "hash": "fa6d3aa3e59b0d3ec5716a83fdfe307fbe220500d62ba18b8aa8ea0f1364950a"
  },
  "kernelspec": {
   "display_name": "Python 3.9.7 ('project_euler')",
   "language": "python",
   "name": "python3"
  },
  "language_info": {
   "codemirror_mode": {
    "name": "ipython",
    "version": 3
   },
   "file_extension": ".py",
   "mimetype": "text/x-python",
   "name": "python",
   "nbconvert_exporter": "python",
   "pygments_lexer": "ipython3",
   "version": "3.8.8"
  },
  "orig_nbformat": 4
 },
 "nbformat": 4,
 "nbformat_minor": 2
}
