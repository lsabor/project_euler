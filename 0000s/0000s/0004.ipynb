{
 "cells": [
  {
   "cell_type": "markdown",
   "metadata": {},
   "source": [
    "## Largest palindrome product\n",
    "\n",
    "Problem 4\n",
    "\n",
    "A palindromic number reads the same both ways. The largest palindrome made from the product of two 2-digit numbers is 9009 = 91 × 99.\n",
    "\n",
    "Find the largest palindrome made from the product of two 3-digit numbers.\n",
    "\n",
    "\n",
    "\n",
    "\n",
    "Link: https://projecteuler.net/problem=4\n",
    "\n",
    "Date solved:  \n",
    "2022/03/05"
   ]
  },
  {
   "cell_type": "code",
   "execution_count": 1,
   "metadata": {},
   "outputs": [],
   "source": [
    "# imports\n",
    "import sys\n",
    "sys.path.append('../../modules')\n"
   ]
  },
  {
   "cell_type": "code",
   "execution_count": 2,
   "metadata": {},
   "outputs": [
    {
     "data": {
      "text/plain": [
       "906609"
      ]
     },
     "execution_count": 2,
     "metadata": {},
     "output_type": "execute_result"
    }
   ],
   "source": [
    "# %%timeit # results = 142 ms ± 3.23 ms per loop (mean ± std. dev. of 7 runs, 10 loops each)\n",
    "# solution - first pass\n",
    "\n",
    "# brute force\n",
    "\n",
    "def is_palandrome(n: int) -> bool:\n",
    "    s = str(n)\n",
    "    return s == s[::-1]\n",
    "\n",
    "def large_palindromes():\n",
    "    palindroms = []\n",
    "    i = j = 999\n",
    "    while i >= 100:\n",
    "        while j >= i:\n",
    "            n = i*j\n",
    "            if is_palandrome(n):\n",
    "                palindroms.append(n)\n",
    "            j -= 1\n",
    "        j = 999\n",
    "        i -= 1\n",
    "    return palindroms\n",
    "\n",
    "max(large_palindromes())\n"
   ]
  },
  {
   "cell_type": "markdown",
   "metadata": {},
   "source": [
    "## ANSWER = 906609"
   ]
  }
 ],
 "metadata": {
  "interpreter": {
   "hash": "fa6d3aa3e59b0d3ec5716a83fdfe307fbe220500d62ba18b8aa8ea0f1364950a"
  },
  "kernelspec": {
   "display_name": "Python 3.9.7 ('project_euler')",
   "language": "python",
   "name": "python3"
  },
  "language_info": {
   "codemirror_mode": {
    "name": "ipython",
    "version": 3
   },
   "file_extension": ".py",
   "mimetype": "text/x-python",
   "name": "python",
   "nbconvert_exporter": "python",
   "pygments_lexer": "ipython3",
   "version": "3.10.0"
  },
  "orig_nbformat": 4
 },
 "nbformat": 4,
 "nbformat_minor": 2
}
