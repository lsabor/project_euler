{
    "cells": [
        {
            "cell_type": "markdown",
            "metadata": {},
            "source": [
                "## Amicable numbers\n",
                "\n",
                "Problem 21\n",
                "\n",
                "Let d(n) be defined as the sum of proper divisors of n (numbers less than n which divide evenly into n).\n",
                "If d(a) = b and d(b) = a, where a ≠ b, then a and b are an amicable pair and each of a and b are called amicable numbers.\n",
                "\n",
                "For example, the proper divisors of 220 are 1, 2, 4, 5, 10, 11, 20, 22, 44, 55 and 110; therefore d(220) = 284. The proper divisors of 284 are 1, 2, 4, 71 and 142; so d(284) = 220.\n",
                "\n",
                "Evaluate the sum of all the amicable numbers under 10000.\n",
                "\n",
                "\n",
                "Link: https://projecteuler.net/problem=21\n",
                "\n",
                "Date solved:  \n",
                "2022/04/01"
            ]
        },
        {
            "cell_type": "code",
            "execution_count": 2,
            "metadata": {},
            "outputs": [],
            "source": [
                "# imports\n",
                "from maths.sequences.compound import DivisorSeq"
            ]
        },
        {
            "cell_type": "code",
            "execution_count": 3,
            "metadata": {},
            "outputs": [
                {
                    "data": {
                        "text/plain": [
                            "31626"
                        ]
                    },
                    "execution_count": 3,
                    "metadata": {},
                    "output_type": "execute_result"
                }
            ],
            "source": [
                "DS = DivisorSeq()\n",
                "\n",
                "search_depth = int(1e4)\n",
                "DS[search_depth] # makes sure DS gets populated up to search_depth\n",
                "\n",
                "def divsum(n:int) -> int:\n",
                "    return sum(DS.seq[n]) -n\n",
                "\n",
                "def sumAmicableNums(search_depth):\n",
                "    amisum = 0\n",
                "    for n in range(2,search_depth):\n",
                "        ds = divsum(n)\n",
                "        if (ds < search_depth) and (ds != n) and (divsum(ds) == n):\n",
                "            amisum += n\n",
                "    return amisum\n",
                "\n",
                "sumAmicableNums(search_depth)\n"
            ]
        },
        {
            "cell_type": "markdown",
            "metadata": {},
            "source": [
                "## ANSWER = 31626"
            ]
        }
    ],
    "metadata": {
        "kernelspec": {
            "display_name": "Python 3.10.4 ('project_euler-n_y2k3fO')",
            "language": "python",
            "name": "python3"
        },
        "language_info": {
            "codemirror_mode": {
                "name": "ipython",
                "version": 3
            },
            "file_extension": ".py",
            "mimetype": "text/x-python",
            "name": "python",
            "nbconvert_exporter": "python",
            "pygments_lexer": "ipython3",
            "version": "3.10.4"
        },
        "orig_nbformat": 4,
        "vscode": {
            "interpreter": {
                "hash": "2458aa9317e3ad091dce09405bd27e58e704aecbe1f7d76e8b0c3a84d1557548"
            }
        }
    },
    "nbformat": 4,
    "nbformat_minor": 2
}
