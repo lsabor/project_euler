{
 "cells": [
  {
   "cell_type": "markdown",
   "metadata": {},
   "source": [
    "## Prime pair sets\n",
    "\n",
    "Problem 60\n",
    "\n",
    "The primes 3, 7, 109, and 673, are quite remarkable. By taking any two primes and concatenating them in any order the result will always be prime. For example, taking 7 and 109, both 7109 and 1097 are prime. The sum of these four primes, 792, represents the lowest sum for a set of four primes with this property.\n",
    "\n",
    "Find the lowest sum for a set of five primes for which any two primes concatenate to produce another prime.\n",
    "\n",
    "\n",
    "Link: https://projecteuler.net/problem=60\n",
    "\n",
    "Date solved:  \n",
    "2022/07/28   \n",
    "w/ George Jeffreys"
   ]
  },
  {
   "cell_type": "code",
   "execution_count": 1,
   "metadata": {},
   "outputs": [],
   "source": [
    "# imports\n",
    "from sequences import Primes\n",
    "from graphs import Node, Edge, Graph\n",
    "from primes import is_prime_single_check"
   ]
  },
  {
   "cell_type": "code",
   "execution_count": 3,
   "metadata": {},
   "outputs": [
    {
     "data": {
      "text/plain": [
       "26033"
      ]
     },
     "execution_count": 3,
     "metadata": {},
     "output_type": "execute_result"
    }
   ],
   "source": [
    "P = Primes()\n",
    "ps = set(P.seq)\n",
    "\n",
    "threshold = 5\n",
    "\n",
    "def is_prime_pair_set(p1,p2):\n",
    "    return is_prime_single_check(int(str(p1)+str(p2))) and is_prime_single_check(int(str(p2)+str(p1)))\n",
    "\n",
    "def find_prime_pair_group(threshold):\n",
    "    nodes = []\n",
    "    for p in P.seq[1:]:\n",
    "        # go through with primes one at a time\n",
    "        new_node = Node(p)\n",
    "        nodes.append(new_node)\n",
    "        edges = set()\n",
    "        for node in nodes:\n",
    "            if node.value == new_node.value:\n",
    "                pass\n",
    "            elif is_prime_pair_set(node.value,new_node.value):\n",
    "                edges.add(Edge(node,new_node))\n",
    "\n",
    "        graph = Graph(edges=edges)\n",
    "        if new_node in graph.nodes:\n",
    "            graph.remove(new_node)\n",
    "        \n",
    "        if cliques := graph.find_cliques(size = threshold-1):\n",
    "            return [clique.union(set([new_node])) for clique in cliques]\n",
    "\n",
    "clique = find_prime_pair_group(threshold)[0]\n",
    "sum([node.value for node in clique])"
   ]
  },
  {
   "cell_type": "markdown",
   "metadata": {},
   "source": [
    "## ANSWER = 26033"
   ]
  }
 ],
 "metadata": {
  "kernelspec": {
   "display_name": "Python 3.10.4 ('project_euler-n_y2k3fO')",
   "language": "python",
   "name": "python3"
  },
  "language_info": {
   "codemirror_mode": {
    "name": "ipython",
    "version": 3
   },
   "file_extension": ".py",
   "mimetype": "text/x-python",
   "name": "python",
   "nbconvert_exporter": "python",
   "pygments_lexer": "ipython3",
   "version": "3.10.4"
  },
  "orig_nbformat": 4,
  "vscode": {
   "interpreter": {
    "hash": "2458aa9317e3ad091dce09405bd27e58e704aecbe1f7d76e8b0c3a84d1557548"
   }
  }
 },
 "nbformat": 4,
 "nbformat_minor": 2
}
