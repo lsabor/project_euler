{
 "cells": [
  {
   "cell_type": "markdown",
   "metadata": {},
   "source": [
    "## Number spiral diagonals\n",
    "Problem 28\n",
    "\n",
    "Starting with the number 1 and moving to the right in a clockwise direction a 5 by 5 spiral is formed as follows:\n",
    "\n",
    "21 22 23 24 25  \n",
    "20 _7 _8 _9 10  \n",
    "19 _6 _1 _2 11  \n",
    "18 _5 _4 _3 12  \n",
    "17 16 15 14 13  \n",
    "\n",
    "It can be verified that the sum of the numbers on the diagonals is 101.\n",
    "\n",
    "What is the sum of the numbers on the diagonals in a 1001 by 1001 spiral formed in the same way?\n",
    "\n",
    "\n",
    "Link: https://projecteuler.net/problem=28\n",
    "\n",
    "Date solved:  \n",
    "2022/04/24"
   ]
  },
  {
   "cell_type": "code",
   "execution_count": 1,
   "metadata": {},
   "outputs": [],
   "source": [
    "# imports\n",
    "import sys\n",
    "sys.path.append('../../modules')\n"
   ]
  },
  {
   "cell_type": "code",
   "execution_count": 7,
   "metadata": {},
   "outputs": [
    {
     "name": "stdout",
     "output_type": "stream",
     "text": [
      "669171001\n"
     ]
    }
   ],
   "source": [
    "dim = 1001\n",
    "\n",
    "diagonal_sum = 1 \n",
    "# start with center number = 1\n",
    "\n",
    "num = 1\n",
    "# this is the number we are on\n",
    "\n",
    "interval = 2\n",
    "# this is the distance between diagonal numbers\n",
    "# center bit = 1 \n",
    "# next ring = _ + 3 + _ + 5 + _ + 7  + _ + 9\n",
    "# the interval increases by 2 each time we go to the next ring\n",
    "# next ring = _ + _ + _ + 13 _ + _ + _ + 17 _ + _ + _ + 21 _ + _ + _ + 25\n",
    "\n",
    "last_number = dim**2\n",
    "# the numbers in the box are range(1,last_number)\n",
    "\n",
    "while num < last_number: # we skip 1 since we start with 1 already in diagonal_sum\n",
    "    for i in range(4): # loop 4 times on this level, once for each corner value\n",
    "        num += interval \n",
    "        diagonal_sum += num\n",
    "    interval += 2\n",
    "\n",
    "print(diagonal_sum)\n"
   ]
  },
  {
   "cell_type": "markdown",
   "metadata": {},
   "source": [
    "## ANSWER = 669171001"
   ]
  }
 ],
 "metadata": {
  "interpreter": {
   "hash": "fa6d3aa3e59b0d3ec5716a83fdfe307fbe220500d62ba18b8aa8ea0f1364950a"
  },
  "kernelspec": {
   "display_name": "Python 3.9.7 ('project_euler')",
   "language": "python",
   "name": "python3"
  },
  "language_info": {
   "codemirror_mode": {
    "name": "ipython",
    "version": 3
   },
   "file_extension": ".py",
   "mimetype": "text/x-python",
   "name": "python",
   "nbconvert_exporter": "python",
   "pygments_lexer": "ipython3",
   "version": "3.10.0"
  },
  "orig_nbformat": 4
 },
 "nbformat": 4,
 "nbformat_minor": 2
}
