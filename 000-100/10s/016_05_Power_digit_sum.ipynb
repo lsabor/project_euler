{
 "cells": [
  {
   "cell_type": "markdown",
   "metadata": {},
   "source": [
    "## Power digit sum\n",
    "\n",
    "Problem 16\n",
    "\n",
    "2^15 = 32768 and the sum of its digits is 3 + 2 + 7 + 6 + 8 = 26.\n",
    "\n",
    "What is the sum of the digits of the number 2^1000?\n",
    "\n",
    "Link: https://projecteuler.net/problem=16\n",
    "\n",
    "Date solved:  \n",
    "2022/03/06\n",
    "\n",
    "Co-solved with Andrew Roberts  \n",
    "Github: @ajroberts0417"
   ]
  },
  {
   "cell_type": "code",
   "execution_count": 1,
   "metadata": {},
   "outputs": [],
   "source": [
    "# imports"
   ]
  },
  {
   "cell_type": "code",
   "execution_count": 2,
   "metadata": {},
   "outputs": [
    {
     "data": {
      "text/plain": [
       "1366"
      ]
     },
     "execution_count": 2,
     "metadata": {},
     "output_type": "execute_result"
    }
   ],
   "source": [
    "n = 2**1000\n",
    "s = 0\n",
    "for char in str(n):\n",
    "    s += int(char)\n",
    "s\n",
    "\n"
   ]
  },
  {
   "cell_type": "markdown",
   "metadata": {},
   "source": [
    "## ANSWER = 1366"
   ]
  }
 ],
 "metadata": {
  "kernelspec": {
   "display_name": "Python 3.10.4 ('project_euler-n_y2k3fO')",
   "language": "python",
   "name": "python3"
  },
  "language_info": {
   "codemirror_mode": {
    "name": "ipython",
    "version": 3
   },
   "file_extension": ".py",
   "mimetype": "text/x-python",
   "name": "python",
   "nbconvert_exporter": "python",
   "pygments_lexer": "ipython3",
   "version": "3.10.4"
  },
  "orig_nbformat": 4,
  "vscode": {
   "interpreter": {
    "hash": "2458aa9317e3ad091dce09405bd27e58e704aecbe1f7d76e8b0c3a84d1557548"
   }
  }
 },
 "nbformat": 4,
 "nbformat_minor": 2
}
