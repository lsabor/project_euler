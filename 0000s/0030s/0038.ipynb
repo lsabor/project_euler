{
 "cells": [
  {
   "cell_type": "markdown",
   "metadata": {},
   "source": [
    "## Pandigital multiples\n",
    "Problem 38\n",
    "\n",
    "Take the number 192 and multiply it by each of 1, 2, and 3:\n",
    "\n",
    "    192 × 1 = 192\n",
    "    192 × 2 = 384\n",
    "    192 × 3 = 576\n",
    "\n",
    "By concatenating each product we get the 1 to 9 pandigital, 192384576. We will call 192384576 the concatenated product of 192 and (1,2,3)\n",
    "\n",
    "The same can be achieved by starting with 9 and multiplying by 1, 2, 3, 4, and 5, giving the pandigital, 918273645, which is the concatenated product of 9 and (1,2,3,4,5).\n",
    "\n",
    "What is the largest 1 to 9 pandigital 9-digit number that can be formed as the concatenated product of an integer with (1,2, ... , n) where n > 1?\n",
    "\n",
    "\n",
    "\n",
    "\n",
    "Link: https://projecteuler.net/problem=38\n",
    "\n",
    "Date solved:  \n",
    "2022/07/05"
   ]
  },
  {
   "cell_type": "code",
   "execution_count": 1,
   "metadata": {},
   "outputs": [],
   "source": [
    "# imports\n"
   ]
  },
  {
   "cell_type": "code",
   "execution_count": 20,
   "metadata": {},
   "outputs": [
    {
     "data": {
      "text/plain": [
       "932718654"
      ]
     },
     "execution_count": 20,
     "metadata": {},
     "output_type": "execute_result"
    }
   ],
   "source": [
    "def create_pandigital(n):\n",
    "    digits = set(['1','2','3','4','5','6','7','8','9'])\n",
    "    \n",
    "    sn = '' # Here is our pandigital number\n",
    "    i = 1\n",
    "    while digits:\n",
    "        # make the pandigital number\n",
    "        strint = str(n*i)\n",
    "        sn += strint\n",
    "        try:\n",
    "            for char in strint:\n",
    "                # try and remove each character from the set\n",
    "                # if it fails, then we don't have a pandigital number\n",
    "                digits.remove(char)\n",
    "        except:\n",
    "            return False, int(sn)\n",
    "        i += 1\n",
    "    return True, int(sn)\n",
    "\n",
    "max_pandigital = 0\n",
    "for n in range(10000):\n",
    "    passes, new_pandigital = create_pandigital(n)\n",
    "    if passes:\n",
    "        max_pandigital = max(max_pandigital, new_pandigital)\n",
    "\n",
    "max_pandigital\n"
   ]
  },
  {
   "cell_type": "markdown",
   "metadata": {},
   "source": [
    "## ANSWER = 932718654"
   ]
  }
 ],
 "metadata": {
  "interpreter": {
   "hash": "fbcbf67343b13381930d1067ff70a24a78f610e673a8197754ee4c9242023545"
  },
  "kernelspec": {
   "display_name": "Python 3.10.0 ('euler_project')",
   "language": "python",
   "name": "python3"
  },
  "language_info": {
   "codemirror_mode": {
    "name": "ipython",
    "version": 3
   },
   "file_extension": ".py",
   "mimetype": "text/x-python",
   "name": "python",
   "nbconvert_exporter": "python",
   "pygments_lexer": "ipython3",
   "version": "3.10.0"
  },
  "orig_nbformat": 4
 },
 "nbformat": 4,
 "nbformat_minor": 2
}
