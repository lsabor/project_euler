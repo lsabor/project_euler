{
    "cells": [
        {
            "cell_type": "markdown",
            "metadata": {},
            "source": [
                "## Prime permutations\n",
                "Problem 49\n",
                "\n",
                "The arithmetic sequence, 1487, 4817, 8147, in which each of the terms increases by 3330, is unusual in two ways: (i) each of the three terms are prime, and, (ii) each of the 4-digit numbers are permutations of one another.\n",
                "\n",
                "There are no arithmetic sequences made up of three 1-, 2-, or 3-digit primes, exhibiting this property, but there is one other 4-digit increasing sequence.\n",
                "\n",
                "What 12-digit number do you form by concatenating the three terms in this sequence?\n",
                "\n",
                "\n",
                "Link: https://projecteuler.net/problem=49\n",
                "\n",
                "Date solved:  \n",
                "2022/07/24"
            ]
        },
        {
            "cell_type": "code",
            "execution_count": 1,
            "metadata": {},
            "outputs": [],
            "source": [
                "# imports\n",
                "from maths.math import stringPermutations, permutations\n",
                "from itertools import combinations_with_replacement\n",
                "from maths.sequences import PrimesSeq"
            ]
        },
        {
            "cell_type": "code",
            "execution_count": 2,
            "metadata": {},
            "outputs": [
                {
                    "data": {
                        "text/plain": [
                            "296962999629"
                        ]
                    },
                    "execution_count": 2,
                    "metadata": {},
                    "output_type": "execute_result"
                }
            ],
            "source": [
                "P = PrimesSeq()\n",
                "ps = set(P.takeWhileLT(1e4))\n",
                "\n",
                "\n",
                "def specials(nums: set):\n",
                "    if len(nums) < 3:\n",
                "        return None\n",
                "\n",
                "    diffs = dict()\n",
                "    for pair in permutations(nums,2):\n",
                "        a = min(pair)\n",
                "        b = max(pair)\n",
                "        diff = b-a\n",
                "        if diff in diffs:\n",
                "            diffs[b-a] = diffs[b-a].union(set(pair))\n",
                "        else:\n",
                "            diffs[b-a] = set(pair)\n",
                "\n",
                "    for diff, vals in diffs.items():\n",
                "        if len(diffs[diff]) == 3:\n",
                "            return vals\n",
                "\n",
                "\n",
                "def find_special_triplets():\n",
                "\n",
                "    triplets = []\n",
                "    \n",
                "    for comb in combinations_with_replacement(['0','1','2','3','4','5','6','7','8','9'],4):\n",
                "        perms = map(int,stringPermutations(comb))\n",
                "        nums = set([n for n in perms if ((n >= 1000) and (n in ps))])\n",
                "        \n",
                "        if triplet := specials(nums):\n",
                "            triplets.append(triplet)\n",
                "\n",
                "    return triplets\n",
                "\n",
                "\n",
                "def new_triplet_concatenation(triplets):\n",
                "    old_triplet = {1487, 4817, 8147}\n",
                "    triplets.remove(old_triplet)\n",
                "    \n",
                "    concatenation = ''\n",
                "    for n in triplets[0]:\n",
                "        concatenation += str(n)\n",
                "    \n",
                "    return int(concatenation)\n",
                "\n",
                "\n",
                "new_triplet_concatenation(find_special_triplets())\n",
                "\n"
            ]
        },
        {
            "cell_type": "markdown",
            "metadata": {},
            "source": [
                "## ANSWER = 296962999629"
            ]
        }
    ],
    "metadata": {
        "kernelspec": {
            "display_name": "Python 3.10.4 ('project_euler-n_y2k3fO')",
            "language": "python",
            "name": "python3"
        },
        "language_info": {
            "codemirror_mode": {
                "name": "ipython",
                "version": 3
            },
            "file_extension": ".py",
            "mimetype": "text/x-python",
            "name": "python",
            "nbconvert_exporter": "python",
            "pygments_lexer": "ipython3",
            "version": "3.10.4"
        },
        "orig_nbformat": 4,
        "vscode": {
            "interpreter": {
                "hash": "2458aa9317e3ad091dce09405bd27e58e704aecbe1f7d76e8b0c3a84d1557548"
            }
        }
    },
    "nbformat": 4,
    "nbformat_minor": 2
}
