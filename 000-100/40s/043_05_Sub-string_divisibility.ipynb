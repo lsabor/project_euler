{
    "cells": [
        {
            "cell_type": "markdown",
            "metadata": {},
            "source": [
                "## Sub-string divisibility\n",
                "Problem 43\n",
                "\n",
                "The number, 1406357289, is a 0 to 9 pandigital number because it is made up of each of the digits 0 to 9 in some order, but it also has a rather interesting sub-string divisibility property.\n",
                "\n",
                "Let d1 be the 1st digit, d2 be the 2nd digit, and so on. In this way, we note the following:\n",
                "\n",
                "    d2d3d4=406 is divisible by 2\n",
                "    d3d4d5=063 is divisible by 3\n",
                "    d4d5d6=635 is divisible by 5\n",
                "    d5d6d7=357 is divisible by 7\n",
                "    d6d7d8=572 is divisible by 11\n",
                "    d7d8d9=728 is divisible by 13\n",
                "    d8d9d10=289 is divisible by 17\n",
                "\n",
                "Find the sum of all 0 to 9 pandigital numbers with this property.\n",
                "\n",
                "\n",
                "\n",
                "Link: https://projecteuler.net/problem=43\n",
                "\n",
                "Date solved:  \n",
                "2022/07/07"
            ]
        },
        {
            "cell_type": "code",
            "execution_count": 1,
            "metadata": {},
            "outputs": [],
            "source": [
                "# imports\n",
                "from maths.math import isDivisible, stringPermutations"
            ]
        },
        {
            "cell_type": "code",
            "execution_count": 2,
            "metadata": {},
            "outputs": [
                {
                    "data": {
                        "text/plain": [
                            "16695334890"
                        ]
                    },
                    "execution_count": 2,
                    "metadata": {},
                    "output_type": "execute_result"
                }
            ],
            "source": [
                "primes = [2,3,5,7,11,13,17]\n",
                "\n",
                "max_pandigital = \"9876543210\" # we will have to remove any with leading 0\n",
                "\n",
                "def has_sub_string_divisibility(strint: str) -> bool:\n",
                "    for index, p in enumerate(primes):\n",
                "        i = index+1\n",
                "        n = int(strint[i:i+3])\n",
                "        if not isDivisible(n,p):\n",
                "            return False\n",
                "    return True\n",
                "\n",
                "def get_all_pandigital_with_ssd():\n",
                "    pwssd = []\n",
                "    for pandigital in stringPermutations(max_pandigital):\n",
                "        n = int(pandigital)\n",
                "        if n > 1e9: # filters out pandigitals with leading 0's\n",
                "            if has_sub_string_divisibility(pandigital):\n",
                "                pwssd.append(n)\n",
                "    return pwssd\n",
                "\n",
                "sum(get_all_pandigital_with_ssd())\n",
                "\n"
            ]
        },
        {
            "cell_type": "markdown",
            "metadata": {},
            "source": [
                "## ANSWER = 16695334890"
            ]
        }
    ],
    "metadata": {
        "kernelspec": {
            "display_name": "Python 3.10.4 ('project_euler-n_y2k3fO')",
            "language": "python",
            "name": "python3"
        },
        "language_info": {
            "codemirror_mode": {
                "name": "ipython",
                "version": 3
            },
            "file_extension": ".py",
            "mimetype": "text/x-python",
            "name": "python",
            "nbconvert_exporter": "python",
            "pygments_lexer": "ipython3",
            "version": "3.10.4"
        },
        "orig_nbformat": 4,
        "vscode": {
            "interpreter": {
                "hash": "2458aa9317e3ad091dce09405bd27e58e704aecbe1f7d76e8b0c3a84d1557548"
            }
        }
    },
    "nbformat": 4,
    "nbformat_minor": 2
}
