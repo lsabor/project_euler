{
 "cells": [
  {
   "cell_type": "markdown",
   "metadata": {},
   "source": [
    "## Consecutive prime sum\n",
    "Problem 50\n",
    "\n",
    "The prime 41, can be written as the sum of six consecutive primes:\n",
    "41 = 2 + 3 + 5 + 7 + 11 + 13\n",
    "\n",
    "This is the longest sum of consecutive primes that adds to a prime below one-hundred.\n",
    "\n",
    "The longest sum of consecutive primes below one-thousand that adds to a prime, contains 21 terms, and is equal to 953.\n",
    "\n",
    "Which prime, below one-million, can be written as the sum of the most consecutive primes?\n",
    "\n",
    "Link: https://projecteuler.net/problem=50\n",
    "\n",
    "Date solved:  \n",
    "2022/07/24"
   ]
  },
  {
   "cell_type": "code",
   "execution_count": 2,
   "metadata": {},
   "outputs": [],
   "source": [
    "# imports\n",
    "from sequences import PrimesSeq"
   ]
  },
  {
   "cell_type": "code",
   "execution_count": 3,
   "metadata": {},
   "outputs": [
    {
     "data": {
      "text/plain": [
       "997651"
      ]
     },
     "execution_count": 3,
     "metadata": {},
     "output_type": "execute_result"
    }
   ],
   "source": [
    "threshold = 1e6\n",
    "\n",
    "def find_biggest_prime(threshold):\n",
    "    P = PrimesSeq()\n",
    "    ps = P.takeWhileLT(threshold)\n",
    "    p_set = set(ps) # makes searching much faster\n",
    "\n",
    "    biggest_prime = [2,1] \n",
    "    # records the prime with the largest consecutive prime sum\n",
    "    # [largest prime, # of consecutive primes that sum to it]\n",
    "\n",
    "    for index, prime in enumerate(ps):\n",
    "        summation = prime\n",
    "        for j in range(index+1,len(ps)):\n",
    "            summation += ps[j]\n",
    "            # test each consecutive sum\n",
    "            if summation >= threshold:\n",
    "                # no reason to continue on from here\n",
    "                break\n",
    "            if summation in p_set:\n",
    "                count = (j+1) - index # the number of summed consecutive primes\n",
    "                if count > biggest_prime[1]:\n",
    "                    biggest_prime = [summation, count]\n",
    "\n",
    "    return biggest_prime[0]\n",
    "\n",
    "find_biggest_prime(threshold)"
   ]
  },
  {
   "cell_type": "markdown",
   "metadata": {},
   "source": [
    "## ANSWER = 997651"
   ]
  }
 ],
 "metadata": {
  "kernelspec": {
   "display_name": "Python 3.10.4 ('project_euler-n_y2k3fO')",
   "language": "python",
   "name": "python3"
  },
  "language_info": {
   "codemirror_mode": {
    "name": "ipython",
    "version": 3
   },
   "file_extension": ".py",
   "mimetype": "text/x-python",
   "name": "python",
   "nbconvert_exporter": "python",
   "pygments_lexer": "ipython3",
   "version": "3.10.4"
  },
  "orig_nbformat": 4,
  "vscode": {
   "interpreter": {
    "hash": "2458aa9317e3ad091dce09405bd27e58e704aecbe1f7d76e8b0c3a84d1557548"
   }
  }
 },
 "nbformat": 4,
 "nbformat_minor": 2
}
