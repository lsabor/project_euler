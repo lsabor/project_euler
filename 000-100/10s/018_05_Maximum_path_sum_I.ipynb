{
    "cells": [
        {
            "cell_type": "markdown",
            "metadata": {},
            "source": [
                "## Maximum path sum I\n",
                "\n",
                "Problem 18\n",
                "\n",
                "By starting at the top of the triangle below and moving to adjacent numbers on the row below, the maximum total from top to bottom is 23.\n",
                "\n",
                "3\n",
                "7 4\n",
                "2 4 6\n",
                "8 5 9 3\n",
                "\n",
                "That is, 3 + 7 + 4 + 9 = 23.\n",
                "\n",
                "Find the maximum total from top to bottom of the triangle below:\n",
                "\n",
                "75  \n",
                "95 64  \n",
                "17 47 82  \n",
                "18 35 87 10  \n",
                "20 04 82 47 65  \n",
                "19 01 23 75 03 34  \n",
                "88 02 77 73 07 63 67  \n",
                "99 65 04 28 06 16 70 92  \n",
                "41 41 26 56 83 40 80 70 33  \n",
                "41 48 72 33 47 32 37 16 94 29  \n",
                "53 71 44 65 25 43 91 52 97 51 14  \n",
                "70 11 33 28 77 73 17 78 39 68 17 57  \n",
                "91 71 52 38 17 14 91 43 58 50 27 29 48  \n",
                "63 66 04 68 89 53 67 30 73 16 69 87 40 31  \n",
                "04 62 98 27 23 09 70 98 73 93 38 53 60 04 23  \n",
                "\n",
                "NOTE: As there are only 16384 routes, it is possible to solve this problem by trying every route. However, Problem 67, is the same challenge with a triangle containing one-hundred rows; it cannot be solved by brute force, and requires a clever method! ;o)\n",
                "\n",
                "\n",
                "Link: https://projecteuler.net/problem=18\n",
                "\n",
                "Date solved:  \n",
                "2022/03/19"
            ]
        },
        {
            "cell_type": "code",
            "execution_count": 3,
            "metadata": {},
            "outputs": [],
            "source": [
                "# imports\n",
                "from maths.parsing import readArrayStr\n",
                "from maths.graphs import *"
            ]
        },
        {
            "cell_type": "code",
            "execution_count": 4,
            "metadata": {},
            "outputs": [
                {
                    "data": {
                        "text/plain": [
                            "1074"
                        ]
                    },
                    "execution_count": 4,
                    "metadata": {},
                    "output_type": "execute_result"
                }
            ],
            "source": [
                "\n",
                "\n",
                "triangle = '''75  \n",
                "95 64  \n",
                "17 47 82  \n",
                "18 35 87 10  \n",
                "20 04 82 47 65  \n",
                "19 01 23 75 03 34  \n",
                "88 02 77 73 07 63 67  \n",
                "99 65 04 28 06 16 70 92  \n",
                "41 41 26 56 83 40 80 70 33  \n",
                "41 48 72 33 47 32 37 16 94 29  \n",
                "53 71 44 65 25 43 91 52 97 51 14  \n",
                "70 11 33 28 77 73 17 78 39 68 17 57  \n",
                "91 71 52 38 17 14 91 43 58 50 27 29 48  \n",
                "63 66 04 68 89 53 67 30 73 16 69 87 40 31  \n",
                "04 62 98 27 23 09 70 98 73 93 38 53 60 04 23  '''\n",
                "\n",
                "array = readArrayStr(triangle)\n",
                "\n",
                "graph = Graph()\n",
                "\n",
                "# makes a graph with edges equal to length of numbers in triangle\n",
                "first_node = Node('FIRST_NODE')\n",
                "current_row = [first_node]\n",
                "for i,row in enumerate(array):\n",
                "    if i+1 < len(array):\n",
                "        next_row = []\n",
                "        for k in range(i+2):\n",
                "            next_row_node = Node(value=f'({i},{k})')\n",
                "            next_row.append(next_row_node)\n",
                "    else:\n",
                "        final_node = Node(value = 'FINAL_NODE')\n",
                "        next_row = [final_node]\n",
                "    for j,edge_length in enumerate(row):\n",
                "        current_node = current_row[j]\n",
                "        next_node_1  = next_row[j] if i+1 < len(array) else next_row[0]\n",
                "        next_node_2  = next_row[j+1] if i+1 < len(array) else next_row[0]\n",
                "        new_edge_1 = Edge(length=100-edge_length,node0=current_node,node1=next_node_1)\n",
                "        new_edge_2 = Edge(length=100-edge_length,node0=current_node,node1=next_node_2)\n",
                "        graph.addEdgeSet(set([new_edge_1,new_edge_2]))\n",
                "    current_row = next_row\n",
                "        \n",
                "\n",
                "# finds shortest path from top to bottom, edge_length = 100-number\n",
                "inverse_path_len,path_nodes = graph.shortestPathDirectional(first_node,final_node)\n",
                "\n",
                "\n",
                "path_length = 0\n",
                "for i in range(len(path_nodes)-1):\n",
                "    genesis = path_nodes[i]\n",
                "    destiny = path_nodes[i+1]\n",
                "    relevant_edges = [edge for edge in graph.edges if edge.doesDirectionallyConnectNodes(genesis,destiny)]\n",
                "    edge = min(relevant_edges,key = lambda x: x.length)\n",
                "    real_length = round(-(edge.length-100))\n",
                "    path_length += real_length\n",
                "\n",
                "path_length\n",
                "\n",
                "\n",
                "        \n",
                "\n"
            ]
        },
        {
            "cell_type": "markdown",
            "metadata": {},
            "source": [
                "## ANSWER = 1074"
            ]
        }
    ],
    "metadata": {
        "kernelspec": {
            "display_name": "Python 3.10.4 ('project_euler-n_y2k3fO')",
            "language": "python",
            "name": "python3"
        },
        "language_info": {
            "codemirror_mode": {
                "name": "ipython",
                "version": 3
            },
            "file_extension": ".py",
            "mimetype": "text/x-python",
            "name": "python",
            "nbconvert_exporter": "python",
            "pygments_lexer": "ipython3",
            "version": "3.10.4"
        },
        "orig_nbformat": 4,
        "vscode": {
            "interpreter": {
                "hash": "2458aa9317e3ad091dce09405bd27e58e704aecbe1f7d76e8b0c3a84d1557548"
            }
        }
    },
    "nbformat": 4,
    "nbformat_minor": 2
}