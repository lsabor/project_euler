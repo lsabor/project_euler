{
    "cells": [
        {
            "cell_type": "markdown",
            "metadata": {},
            "source": [
                "## Goldbach's other conjecture\n",
                "Problem 46\n",
                "\n",
                "It was proposed by Christian Goldbach that every odd composite number can be written as the sum of a prime and twice a square.\n",
                "  \n",
                "9 = 7 + 2×12  \n",
                "15 = 7 + 2×22  \n",
                "21 = 3 + 2×32  \n",
                "25 = 7 + 2×32  \n",
                "27 = 19 + 2×22  \n",
                "33 = 31 + 2×12  \n",
                "\n",
                "It turns out that the conjecture was false.\n",
                "\n",
                "What is the smallest odd composite that cannot be written as the sum of a prime and twice a square?\n",
                "\n",
                "\n",
                "\n",
                "Link: https://projecteuler.net/problem=46\n",
                "\n",
                "Date solved:  \n",
                "2022/07/10"
            ]
        },
        {
            "cell_type": "code",
            "execution_count": 1,
            "metadata": {},
            "outputs": [],
            "source": [
                "# imports\n",
                "from maths.sequences import PrimesSeq\n",
                "from maths.math import sqrt"
            ]
        },
        {
            "cell_type": "code",
            "execution_count": 2,
            "metadata": {},
            "outputs": [
                {
                    "data": {
                        "text/plain": [
                            "5777"
                        ]
                    },
                    "execution_count": 2,
                    "metadata": {},
                    "output_type": "execute_result"
                }
            ],
            "source": [
                "P = PrimesSeq()\n",
                "Ps = P.set()\n",
                "\n",
                "def find_first_counterexample():\n",
                "    n = 35 # lowest unchecked odd composite number\n",
                "    possible = True\n",
                "    while possible:\n",
                "        possible = False\n",
                "        if n in Ps:\n",
                "            possible = True\n",
                "            n += 2\n",
                "        else:\n",
                "            for p in P.takeWhileLT(n):\n",
                "                m = sqrt((n-p)/2)\n",
                "                if m%1 == 0:\n",
                "                    possible = True\n",
                "                    break\n",
                "            n += 2\n",
                "    return n-2\n",
                "\n",
                "\n",
                "find_first_counterexample()\n",
                "\n",
                "\n",
                "\n",
                "\n"
            ]
        },
        {
            "cell_type": "markdown",
            "metadata": {},
            "source": [
                "## ANSWER = 5777"
            ]
        }
    ],
    "metadata": {
        "kernelspec": {
            "display_name": "Python 3.10.4 ('project_euler-n_y2k3fO')",
            "language": "python",
            "name": "python3"
        },
        "language_info": {
            "codemirror_mode": {
                "name": "ipython",
                "version": 3
            },
            "file_extension": ".py",
            "mimetype": "text/x-python",
            "name": "python",
            "nbconvert_exporter": "python",
            "pygments_lexer": "ipython3",
            "version": "3.10.4"
        },
        "orig_nbformat": 4,
        "vscode": {
            "interpreter": {
                "hash": "2458aa9317e3ad091dce09405bd27e58e704aecbe1f7d76e8b0c3a84d1557548"
            }
        }
    },
    "nbformat": 4,
    "nbformat_minor": 2
}
