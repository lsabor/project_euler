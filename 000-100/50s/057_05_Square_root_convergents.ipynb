{
 "cells": [
  {
   "cell_type": "markdown",
   "metadata": {},
   "source": [
    "## Square root convergents\n",
    "Problem 57\n",
    "\n",
    "It is possible to show that the square root of two can be expressed as an infinite continued fraction.\n",
    "\n",
    "sqrt(2) = 1 + (1 / (2 + 1/ (2+1/(2+1/ ... ))))\n",
    "\n",
    "By expanding this for the first four iterations, we get:\n",
    "\n",
    "1 + 1/2 = 3/2 = 1.5\n",
    "1 + 1 / (2 + 1/2) = 7/5 = 1.4\n",
    "1 + 1 / (2 + 1/(2+ 1/2)) = 18/12 = 1.4166\n",
    "next = 41/29 = 1.41379\n",
    "\n",
    "The next three expansions are\n",
    "99/70, 239/169, 577/408, but the eighth expansion, 1393/985, is the first example where the number of digits in the numerator exceeds the number of digits in the denominator.\n",
    "\n",
    "In the first one-thousand expansions, how many fractions contain a numerator with more digits than the denominator?\n",
    "\n",
    "Link: https://projecteuler.net/problem=57\n",
    "\n",
    "Date solved:  \n",
    "2022/07/25"
   ]
  },
  {
   "cell_type": "code",
   "execution_count": 1,
   "metadata": {},
   "outputs": [],
   "source": [
    "# imports\n",
    "from maths import product"
   ]
  },
  {
   "cell_type": "code",
   "execution_count": 2,
   "metadata": {},
   "outputs": [
    {
     "data": {
      "text/plain": [
       "153"
      ]
     },
     "execution_count": 2,
     "metadata": {},
     "output_type": "execute_result"
    }
   ],
   "source": [
    "threshold = 1000\n",
    "\n",
    "def count_disproportionate_convergents():\n",
    "    count = 0\n",
    "\n",
    "    for i in range(threshold):\n",
    "        a = 2\n",
    "        b = 1\n",
    "        # do the 2- 1/(a/b) thing a bunch\n",
    "        while i > 0:\n",
    "            temp = a\n",
    "            a = 2*a + b\n",
    "            b = temp\n",
    "            i -= 1\n",
    "\n",
    "        final_numerator = a + b\n",
    "        final_denomerator = a\n",
    "\n",
    "        count += len(str(final_numerator)) > len(str(final_denomerator))\n",
    "\n",
    "    return count\n",
    "\n",
    "\n",
    "\n",
    "count_disproportionate_convergents()"
   ]
  },
  {
   "cell_type": "markdown",
   "metadata": {},
   "source": [
    "## ANSWER = 153"
   ]
  }
 ],
 "metadata": {
  "kernelspec": {
   "display_name": "Python 3.10.4 ('project_euler-n_y2k3fO')",
   "language": "python",
   "name": "python3"
  },
  "language_info": {
   "codemirror_mode": {
    "name": "ipython",
    "version": 3
   },
   "file_extension": ".py",
   "mimetype": "text/x-python",
   "name": "python",
   "nbconvert_exporter": "python",
   "pygments_lexer": "ipython3",
   "version": "3.10.4"
  },
  "orig_nbformat": 4,
  "vscode": {
   "interpreter": {
    "hash": "2458aa9317e3ad091dce09405bd27e58e704aecbe1f7d76e8b0c3a84d1557548"
   }
  }
 },
 "nbformat": 4,
 "nbformat_minor": 2
}
