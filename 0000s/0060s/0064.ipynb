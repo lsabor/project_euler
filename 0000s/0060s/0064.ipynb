{
 "cells": [
  {
   "cell_type": "markdown",
   "metadata": {},
   "source": [
    "## Odd period square roots\n",
    "\n",
    "JUST GO LOOK AT THE LINK, too many formatting issues to type out here\n",
    "\n",
    "All square roots are periodic when written as continued fractions and can be written in the form:\n",
    "\n",
    "For example, let us consider\n",
    "If we continue we would get the following expansion:\n",
    "The process can be summarised as follows:\n",
    "It can be seen that the sequence is repeating. For conciseness, we use the notation\n",
    ", to indicate that the block (1,3,1,8) repeats indefinitely.\n",
    "The first ten continued fraction representations of (irrational) square roots are:\n",
    ", period=\n",
    ", period=\n",
    ", period=\n",
    ", period=\n",
    ", period=\n",
    ", period=\n",
    ", period=\n",
    ", period=\n",
    ", period=\n",
    ", period=Exactly four continued fractions, for\n",
    ", have an odd period.\n",
    "How many continued fractions for\n",
    "have an odd period?\n",
    "\n",
    "Link: https://projecteuler.net/problem=64\n",
    "\n",
    "Date solved:  \n",
    "2022/07/30"
   ]
  },
  {
   "cell_type": "code",
   "execution_count": 14,
   "metadata": {},
   "outputs": [],
   "source": [
    "# imports\n",
    "from math import sqrt"
   ]
  },
  {
   "cell_type": "code",
   "execution_count": 54,
   "metadata": {},
   "outputs": [
    {
     "data": {
      "text/plain": [
       "1322"
      ]
     },
     "execution_count": 54,
     "metadata": {},
     "output_type": "execute_result"
    }
   ],
   "source": [
    "threshold = 10000\n",
    "\n",
    "def findPeriodicity(n):\n",
    "    s = sqrt(n)\n",
    "    if s%1 == 0:\n",
    "        return 0\n",
    "\n",
    "    log = []\n",
    "    a = int(s//1)\n",
    "    B = int(n - a**2)\n",
    "    A = a\n",
    "    frac = 1 / (s-a)\n",
    "    \n",
    "    while [A,B] not in log:\n",
    "        log.append([A,B])\n",
    "\n",
    "        a_new = frac // 1\n",
    "        A_new = a_new*B - A\n",
    "        B_new = (n - A_new**2) / B\n",
    "        frac_new = (s + A_new) / B_new\n",
    "\n",
    "        a = int(a_new)\n",
    "        A = int(A_new)\n",
    "        B = int(B_new)\n",
    "        frac = frac_new\n",
    "\n",
    "    return len(log)\n",
    "\n",
    "def countOddPeriodicities(threshold):\n",
    "    count = 0\n",
    "    for n in range(2,threshold+1):\n",
    "        count += (findPeriodicity(n)%2 != 0)\n",
    "    return count\n",
    "\n",
    "countOddPeriodicities(threshold)"
   ]
  },
  {
   "cell_type": "markdown",
   "metadata": {},
   "source": [
    "## ANSWER = 1322"
   ]
  }
 ],
 "metadata": {
  "kernelspec": {
   "display_name": "Python 3.10.4 ('project_euler-n_y2k3fO')",
   "language": "python",
   "name": "python3"
  },
  "language_info": {
   "codemirror_mode": {
    "name": "ipython",
    "version": 3
   },
   "file_extension": ".py",
   "mimetype": "text/x-python",
   "name": "python",
   "nbconvert_exporter": "python",
   "pygments_lexer": "ipython3",
   "version": "3.10.4"
  },
  "orig_nbformat": 4,
  "vscode": {
   "interpreter": {
    "hash": "2458aa9317e3ad091dce09405bd27e58e704aecbe1f7d76e8b0c3a84d1557548"
   }
  }
 },
 "nbformat": 4,
 "nbformat_minor": 2
}
