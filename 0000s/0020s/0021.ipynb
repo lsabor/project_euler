{
 "cells": [
  {
   "cell_type": "markdown",
   "metadata": {},
   "source": [
    "## Amicable numbers\n",
    "\n",
    "Problem 21\n",
    "\n",
    "Let d(n) be defined as the sum of proper divisors of n (numbers less than n which divide evenly into n).\n",
    "If d(a) = b and d(b) = a, where a ≠ b, then a and b are an amicable pair and each of a and b are called amicable numbers.\n",
    "\n",
    "For example, the proper divisors of 220 are 1, 2, 4, 5, 10, 11, 20, 22, 44, 55 and 110; therefore d(220) = 284. The proper divisors of 284 are 1, 2, 4, 71 and 142; so d(284) = 220.\n",
    "\n",
    "Evaluate the sum of all the amicable numbers under 10000.\n",
    "\n",
    "\n",
    "Link: https://projecteuler.net/problem=21\n",
    "\n",
    "Date solved:  \n",
    "2022/03/21"
   ]
  },
  {
   "cell_type": "code",
   "execution_count": 2,
   "metadata": {},
   "outputs": [],
   "source": [
    "# imports\n",
    "import sys\n",
    "sys.path.append('../../modules')\n",
    "\n",
    "import sequences_compound"
   ]
  },
  {
   "cell_type": "code",
   "execution_count": 4,
   "metadata": {},
   "outputs": [
    {
     "ename": "PermissionError",
     "evalue": "[Errno 13] Permission denied: '../../caches/sequences/compound/Proper_Divisor_Sum_Natural_Numbers.json'",
     "output_type": "error",
     "traceback": [
      "\u001b[1;31m---------------------------------------------------------------------------\u001b[0m",
      "\u001b[1;31mPermissionError\u001b[0m                           Traceback (most recent call last)",
      "\u001b[1;32mc:\\Users\\lukes\\OneDrive\\Documents\\coding\\project_euler\\0000s\\0020s\\0021.ipynb Cell 3'\u001b[0m in \u001b[0;36m<cell line: 6>\u001b[1;34m()\u001b[0m\n\u001b[0;32m      <a href='vscode-notebook-cell:/c%3A/Users/lukes/OneDrive/Documents/coding/project_euler/0000s/0020s/0021.ipynb#ch0000002?line=5'>6</a>\u001b[0m \u001b[39mfor\u001b[39;00m i \u001b[39min\u001b[39;00m \u001b[39mrange\u001b[39m(\u001b[39m1\u001b[39m,search_depth):\n\u001b[0;32m      <a href='vscode-notebook-cell:/c%3A/Users/lukes/OneDrive/Documents/coding/project_euler/0000s/0020s/0021.ipynb#ch0000002?line=6'>7</a>\u001b[0m     n \u001b[39m=\u001b[39m D[i\u001b[39m-\u001b[39m\u001b[39m1\u001b[39m]\n\u001b[1;32m----> <a href='vscode-notebook-cell:/c%3A/Users/lukes/OneDrive/Documents/coding/project_euler/0000s/0020s/0021.ipynb#ch0000002?line=7'>8</a>\u001b[0m     \u001b[39mif\u001b[39;00m D[n\u001b[39m-\u001b[39;49m\u001b[39m1\u001b[39;49m] \u001b[39m==\u001b[39m i \u001b[39mand\u001b[39;00m n \u001b[39m!=\u001b[39m i:\n\u001b[0;32m      <a href='vscode-notebook-cell:/c%3A/Users/lukes/OneDrive/Documents/coding/project_euler/0000s/0020s/0021.ipynb#ch0000002?line=8'>9</a>\u001b[0m         \u001b[39msum\u001b[39m \u001b[39m+\u001b[39m\u001b[39m=\u001b[39m n\n\u001b[0;32m     <a href='vscode-notebook-cell:/c%3A/Users/lukes/OneDrive/Documents/coding/project_euler/0000s/0020s/0021.ipynb#ch0000002?line=9'>10</a>\u001b[0m \u001b[39msum\u001b[39m\n",
      "File \u001b[1;32mc:\\Users\\lukes\\OneDrive\\Documents\\coding\\project_euler\\0000s\\0020s\\../../modules\\sequences.py:26\u001b[0m, in \u001b[0;36mSequence.__getitem__\u001b[1;34m(self, index)\u001b[0m\n\u001b[0;32m     <a href='file:///c%3A/Users/lukes/OneDrive/Documents/coding/project_euler/0000s/0020s/../../modules/sequences.py?line=23'>24</a>\u001b[0m     \u001b[39mreturn\u001b[39;00m \u001b[39mself\u001b[39m\u001b[39m.\u001b[39mseq[index]\n\u001b[0;32m     <a href='file:///c%3A/Users/lukes/OneDrive/Documents/coding/project_euler/0000s/0020s/../../modules/sequences.py?line=24'>25</a>\u001b[0m \u001b[39melse\u001b[39;00m:\n\u001b[1;32m---> <a href='file:///c%3A/Users/lukes/OneDrive/Documents/coding/project_euler/0000s/0020s/../../modules/sequences.py?line=25'>26</a>\u001b[0m     \u001b[39mself\u001b[39;49m\u001b[39m.\u001b[39;49mextend_seq(index\u001b[39m-\u001b[39;49mlength\u001b[39m+\u001b[39;49m\u001b[39m1\u001b[39;49m)\n\u001b[0;32m     <a href='file:///c%3A/Users/lukes/OneDrive/Documents/coding/project_euler/0000s/0020s/../../modules/sequences.py?line=26'>27</a>\u001b[0m     \u001b[39mreturn\u001b[39;00m \u001b[39mself\u001b[39m\u001b[39m.\u001b[39mseq[index]\n",
      "File \u001b[1;32mc:\\Users\\lukes\\OneDrive\\Documents\\coding\\project_euler\\0000s\\0020s\\../../modules\\sequences.py:68\u001b[0m, in \u001b[0;36mSequence.extend_seq\u001b[1;34m(self, n)\u001b[0m\n\u001b[0;32m     <a href='file:///c%3A/Users/lukes/OneDrive/Documents/coding/project_euler/0000s/0020s/../../modules/sequences.py?line=64'>65</a>\u001b[0m \u001b[39mdef\u001b[39;00m \u001b[39mextend_seq\u001b[39m(\u001b[39mself\u001b[39m,n: \u001b[39mint\u001b[39m):\n\u001b[0;32m     <a href='file:///c%3A/Users/lukes/OneDrive/Documents/coding/project_euler/0000s/0020s/../../modules/sequences.py?line=65'>66</a>\u001b[0m     \u001b[39m# appends at least n values to current seq\u001b[39;00m\n\u001b[0;32m     <a href='file:///c%3A/Users/lukes/OneDrive/Documents/coding/project_euler/0000s/0020s/../../modules/sequences.py?line=66'>67</a>\u001b[0m     \u001b[39mwhile\u001b[39;00m n \u001b[39m>\u001b[39m \u001b[39m0\u001b[39m:\n\u001b[1;32m---> <a href='file:///c%3A/Users/lukes/OneDrive/Documents/coding/project_euler/0000s/0020s/../../modules/sequences.py?line=67'>68</a>\u001b[0m         added \u001b[39m=\u001b[39m \u001b[39mself\u001b[39;49m\u001b[39m.\u001b[39;49madd_items()\n\u001b[0;32m     <a href='file:///c%3A/Users/lukes/OneDrive/Documents/coding/project_euler/0000s/0020s/../../modules/sequences.py?line=68'>69</a>\u001b[0m         n \u001b[39m-\u001b[39m\u001b[39m=\u001b[39m \u001b[39mlen\u001b[39m(added)\n\u001b[0;32m     <a href='file:///c%3A/Users/lukes/OneDrive/Documents/coding/project_euler/0000s/0020s/../../modules/sequences.py?line=69'>70</a>\u001b[0m     \u001b[39mreturn\u001b[39;00m \u001b[39mself\u001b[39m\n",
      "File \u001b[1;32mc:\\Users\\lukes\\OneDrive\\Documents\\coding\\project_euler\\0000s\\0020s\\../../modules\\sequences.py:62\u001b[0m, in \u001b[0;36mSequence.add_items\u001b[1;34m(self)\u001b[0m\n\u001b[0;32m     <a href='file:///c%3A/Users/lukes/OneDrive/Documents/coding/project_euler/0000s/0020s/../../modules/sequences.py?line=59'>60</a>\u001b[0m nxts \u001b[39m=\u001b[39m \u001b[39mself\u001b[39m\u001b[39m.\u001b[39mnexts()\n\u001b[0;32m     <a href='file:///c%3A/Users/lukes/OneDrive/Documents/coding/project_euler/0000s/0020s/../../modules/sequences.py?line=60'>61</a>\u001b[0m \u001b[39mself\u001b[39m\u001b[39m.\u001b[39mseq \u001b[39m+\u001b[39m\u001b[39m=\u001b[39m nxts\n\u001b[1;32m---> <a href='file:///c%3A/Users/lukes/OneDrive/Documents/coding/project_euler/0000s/0020s/../../modules/sequences.py?line=61'>62</a>\u001b[0m \u001b[39mself\u001b[39;49m\u001b[39m.\u001b[39;49mupdate_cache()\n\u001b[0;32m     <a href='file:///c%3A/Users/lukes/OneDrive/Documents/coding/project_euler/0000s/0020s/../../modules/sequences.py?line=62'>63</a>\u001b[0m \u001b[39mreturn\u001b[39;00m nxts\n",
      "File \u001b[1;32mc:\\Users\\lukes\\OneDrive\\Documents\\coding\\project_euler\\0000s\\0020s\\../../modules\\sequences.py:48\u001b[0m, in \u001b[0;36mSequence.update_cache\u001b[1;34m(self)\u001b[0m\n\u001b[0;32m     <a href='file:///c%3A/Users/lukes/OneDrive/Documents/coding/project_euler/0000s/0020s/../../modules/sequences.py?line=45'>46</a>\u001b[0m \u001b[39mdef\u001b[39;00m \u001b[39mupdate_cache\u001b[39m(\u001b[39mself\u001b[39m):\n\u001b[0;32m     <a href='file:///c%3A/Users/lukes/OneDrive/Documents/coding/project_euler/0000s/0020s/../../modules/sequences.py?line=46'>47</a>\u001b[0m     \u001b[39m# saves current sequence in cache\u001b[39;00m\n\u001b[1;32m---> <a href='file:///c%3A/Users/lukes/OneDrive/Documents/coding/project_euler/0000s/0020s/../../modules/sequences.py?line=47'>48</a>\u001b[0m     \u001b[39mwith\u001b[39;00m \u001b[39mopen\u001b[39;49m(\u001b[39mself\u001b[39;49m\u001b[39m.\u001b[39;49mcache_file,\u001b[39m'\u001b[39;49m\u001b[39mw\u001b[39;49m\u001b[39m'\u001b[39;49m) \u001b[39mas\u001b[39;00m cache:\n\u001b[0;32m     <a href='file:///c%3A/Users/lukes/OneDrive/Documents/coding/project_euler/0000s/0020s/../../modules/sequences.py?line=48'>49</a>\u001b[0m         cache\u001b[39m.\u001b[39mwrite(json\u001b[39m.\u001b[39mdumps(\u001b[39mself\u001b[39m\u001b[39m.\u001b[39mseq))\n",
      "\u001b[1;31mPermissionError\u001b[0m: [Errno 13] Permission denied: '../../caches/sequences/compound/Proper_Divisor_Sum_Natural_Numbers.json'"
     ]
    }
   ],
   "source": [
    "D = sequences_compound.Proper_Divisor_Sum_Natural_Numbers()\n",
    "\n",
    "search_depth = 10000\n",
    "\n",
    "sum = 0\n",
    "for i in range(1,search_depth):\n",
    "    n = D[i-1]\n",
    "    if D[n-1] == i and n != i:\n",
    "        sum += n\n",
    "sum\n",
    "\n",
    "\n"
   ]
  },
  {
   "cell_type": "markdown",
   "metadata": {},
   "source": [
    "## ANSWER = "
   ]
  }
 ],
 "metadata": {
  "interpreter": {
   "hash": "fa6d3aa3e59b0d3ec5716a83fdfe307fbe220500d62ba18b8aa8ea0f1364950a"
  },
  "kernelspec": {
   "display_name": "Python 3.9.7 ('project_euler')",
   "language": "python",
   "name": "python3"
  },
  "language_info": {
   "codemirror_mode": {
    "name": "ipython",
    "version": 3
   },
   "file_extension": ".py",
   "mimetype": "text/x-python",
   "name": "python",
   "nbconvert_exporter": "python",
   "pygments_lexer": "ipython3",
   "version": "3.10.3"
  },
  "orig_nbformat": 4
 },
 "nbformat": 4,
 "nbformat_minor": 2
}
