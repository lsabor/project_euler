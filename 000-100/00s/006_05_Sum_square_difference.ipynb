{
    "cells": [
        {
            "cell_type": "markdown",
            "metadata": {},
            "source": [
                "## Sum square difference\n",
                "Problem 6\n",
                "\n",
                "The sum of the squares of the first ten natural numbers is, 1^2 + 2^2 + ... + 10^2 = 385\n",
                "\n",
                "The square of the sum of the first ten natural numbers is, (1 + 2 + ... + 10)^2 = 3025\n",
                "\n",
                "Hence the difference between the sum of the squares of the first ten natural numbers and the square of the sum is\n",
                "\n",
                "3025 - 385 = 2640.\n",
                "\n",
                "Find the difference between the sum of the squares of the first one hundred natural numbers and the square of the sum.\n",
                "\n",
                "Link: https://projecteuler.net/problem=6\n",
                "\n",
                "Date solved:  \n",
                "2022/03/05"
            ]
        },
        {
            "cell_type": "code",
            "execution_count": 1,
            "metadata": {},
            "outputs": [],
            "source": [
                "# imports\n",
                "from maths.math import sumConsecutiveInts, sumSquares"
            ]
        },
        {
            "cell_type": "code",
            "execution_count": 2,
            "metadata": {},
            "outputs": [
                {
                    "data": {
                        "text/plain": [
                            "25164150"
                        ]
                    },
                    "execution_count": 2,
                    "metadata": {},
                    "output_type": "execute_result"
                }
            ],
            "source": [
                "# %%timeit # results = 26.5 µs ± 579 ns per loop (mean ± std. dev. of 7 runs, 10,000 loops each)\n",
                "# solution\n",
                "\n",
                "nums = range(1,101)\n",
                "\n",
                "square_of_sums = sumConsecutiveInts(100)**2\n",
                "sum_of_squares = sumSquares(nums)\n",
                "\n",
                "square_of_sums - sum_of_squares"
            ]
        },
        {
            "cell_type": "markdown",
            "metadata": {},
            "source": [
                "## ANSWER = 25164150"
            ]
        }
    ],
    "metadata": {
        "kernelspec": {
            "display_name": "Python 3.10.4 ('project_euler-n_y2k3fO')",
            "language": "python",
            "name": "python3"
        },
        "language_info": {
            "codemirror_mode": {
                "name": "ipython",
                "version": 3
            },
            "file_extension": ".py",
            "mimetype": "text/x-python",
            "name": "python",
            "nbconvert_exporter": "python",
            "pygments_lexer": "ipython3",
            "version": "3.10.4"
        },
        "orig_nbformat": 4,
        "vscode": {
            "interpreter": {
                "hash": "2458aa9317e3ad091dce09405bd27e58e704aecbe1f7d76e8b0c3a84d1557548"
            }
        }
    },
    "nbformat": 4,
    "nbformat_minor": 2
}
