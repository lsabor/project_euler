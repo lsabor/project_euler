{
 "cells": [
  {
   "cell_type": "markdown",
   "metadata": {},
   "source": [
    "## Ordered fractions\n",
    "Problem 71\n",
    "\n",
    "Consider the fraction, n/d, where n and d are positive integers. If n<d and HCF(n,d)=1, it is called a reduced proper fraction.\n",
    "\n",
    "If we list the set of reduced proper fractions for d ≤ 8 in ascending order of size, we get:\n",
    "\n",
    "1/8, 1/7, 1/6, 1/5, 1/4, 2/7, 1/3, 3/8, 2/5, 3/7, 1/2, 4/7, 3/5, 5/8, 2/3, 5/7, 3/4, 4/5, 5/6, 6/7, 7/8\n",
    "\n",
    "It can be seen that 2/5 is the fraction immediately to the left of 3/7.\n",
    "\n",
    "By listing the set of reduced proper fractions for d ≤ 1,000,000 in ascending order of size, find the numerator of the fraction immediately to the left of 3/7.\n",
    "\n",
    "Link: https://projecteuler.net/problem=71\n",
    "\n",
    "Date solved:  \n",
    "2022/08/16"
   ]
  },
  {
   "cell_type": "code",
   "execution_count": 1,
   "metadata": {},
   "outputs": [],
   "source": [
    "# imports"
   ]
  },
  {
   "cell_type": "code",
   "execution_count": 2,
   "metadata": {},
   "outputs": [
    {
     "data": {
      "text/plain": [
       "428570"
      ]
     },
     "execution_count": 2,
     "metadata": {},
     "output_type": "execute_result"
    }
   ],
   "source": [
    "# find fraction closest to, but less than 3/7\n",
    "# we'll search for vals of n/d less than but closest to 3/7 for increasing vals of d\n",
    "# if we search with increasing d, we don't have to worry about reducing the fraction to find n\n",
    "# as that ratio will have already been tested\n",
    "\n",
    "threshold = int(1e6)\n",
    "\n",
    "def closest_ordered_fraction(threshold):\n",
    "    target = 3/7\n",
    "    ratio = target\n",
    "    best_n = 0\n",
    "    for d in range(1,threshold):\n",
    "        n = int(target * d)\n",
    "        new_fraction = n/d\n",
    "        new_ratio =  target - new_fraction\n",
    "        if new_ratio < ratio and new_fraction != target:\n",
    "            ratio = new_ratio\n",
    "            best_n = n\n",
    "    return best_n\n",
    "\n",
    "closest_ordered_fraction(threshold)\n",
    "\n"
   ]
  },
  {
   "cell_type": "markdown",
   "metadata": {},
   "source": [
    "## ANSWER = 428570"
   ]
  }
 ],
 "metadata": {
  "kernelspec": {
   "display_name": "Python 3.10.4 ('project_euler-n_y2k3fO')",
   "language": "python",
   "name": "python3"
  },
  "language_info": {
   "codemirror_mode": {
    "name": "ipython",
    "version": 3
   },
   "file_extension": ".py",
   "mimetype": "text/x-python",
   "name": "python",
   "nbconvert_exporter": "python",
   "pygments_lexer": "ipython3",
   "version": "3.10.4"
  },
  "orig_nbformat": 4,
  "vscode": {
   "interpreter": {
    "hash": "2458aa9317e3ad091dce09405bd27e58e704aecbe1f7d76e8b0c3a84d1557548"
   }
  }
 },
 "nbformat": 4,
 "nbformat_minor": 2
}
