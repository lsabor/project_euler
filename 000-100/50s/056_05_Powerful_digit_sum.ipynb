{
    "cells": [
        {
            "cell_type": "markdown",
            "metadata": {},
            "source": [
                "## Powerful digit sum\n",
                "Problem 56\n",
                "\n",
                "A googol (10^100) is a massive number: one followed by one-hundred zeros; 100^100 is almost unimaginably large: one followed by two-hundred zeros. Despite their size, the sum of the digits in each number is only 1.\n",
                "\n",
                "Considering natural numbers of the form, a^b, where a, b < 100, what is the maximum digital sum?\n",
                "\n",
                "Link: https://projecteuler.net/problem=56\n",
                "\n",
                "Date solved:  \n",
                "2022/07/25"
            ]
        },
        {
            "cell_type": "code",
            "execution_count": 1,
            "metadata": {},
            "outputs": [],
            "source": [
                "# imports\n",
                "from maths.math import product"
            ]
        },
        {
            "cell_type": "code",
            "execution_count": 2,
            "metadata": {},
            "outputs": [
                {
                    "data": {
                        "text/plain": [
                            "972"
                        ]
                    },
                    "execution_count": 2,
                    "metadata": {},
                    "output_type": "execute_result"
                }
            ],
            "source": [
                "cap = 100\n",
                "\n",
                "def find_powerful_digit_sum():\n",
                "    max_sum = 0\n",
                "    for a,b in product(range(1,cap),range(1,cap)):\n",
                "        val = 0\n",
                "        strint = str(a**b)\n",
                "        for char in strint:\n",
                "            val += int(char)\n",
                "        max_sum = max(max_sum, val)\n",
                "\n",
                "    return max_sum\n",
                "\n",
                "find_powerful_digit_sum()"
            ]
        },
        {
            "cell_type": "markdown",
            "metadata": {},
            "source": [
                "## ANSWER = 972"
            ]
        }
    ],
    "metadata": {
        "kernelspec": {
            "display_name": "Python 3.10.4 ('project_euler-n_y2k3fO')",
            "language": "python",
            "name": "python3"
        },
        "language_info": {
            "codemirror_mode": {
                "name": "ipython",
                "version": 3
            },
            "file_extension": ".py",
            "mimetype": "text/x-python",
            "name": "python",
            "nbconvert_exporter": "python",
            "pygments_lexer": "ipython3",
            "version": "3.10.4"
        },
        "orig_nbformat": 4,
        "vscode": {
            "interpreter": {
                "hash": "2458aa9317e3ad091dce09405bd27e58e704aecbe1f7d76e8b0c3a84d1557548"
            }
        }
    },
    "nbformat": 4,
    "nbformat_minor": 2
}