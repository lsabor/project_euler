{
 "cells": [
  {
   "cell_type": "markdown",
   "metadata": {},
   "source": [
    "## 1000-digit Fibonacci number\n",
    "Problem 25\n",
    "\n",
    "The Fibonacci sequence is defined by the recurrence relation:\n",
    "\n",
    "    Fn = Fn−1 + Fn−2, where F1 = 1 and F2 = 1.\n",
    "\n",
    "Hence the first 12 terms will be:\n",
    "\n",
    "    F1 = 1\n",
    "    F2 = 1\n",
    "    F3 = 2\n",
    "    F4 = 3\n",
    "    F5 = 5\n",
    "    F6 = 8\n",
    "    F7 = 13\n",
    "    F8 = 21\n",
    "    F9 = 34\n",
    "    F10 = 55\n",
    "    F11 = 89\n",
    "    F12 = 144\n",
    "\n",
    "The 12th term, F12, is the first term to contain three digits.\n",
    "\n",
    "What is the index of the first term in the Fibonacci sequence to contain 1000 digits?\n",
    "\n",
    "\n",
    "\n",
    "Link: https://projecteuler.net/problem=25\n",
    "\n",
    "Date solved:  \n",
    "2022/04/10"
   ]
  },
  {
   "cell_type": "code",
   "execution_count": 1,
   "metadata": {},
   "outputs": [],
   "source": [
    "# imports"
   ]
  },
  {
   "cell_type": "code",
   "execution_count": 1,
   "metadata": {},
   "outputs": [
    {
     "data": {
      "text/plain": [
       "4782"
      ]
     },
     "execution_count": 1,
     "metadata": {},
     "output_type": "execute_result"
    }
   ],
   "source": [
    "def add_strints(n1,n2):\n",
    "    # TODO: make a strints module\n",
    "    # strint is a backwards string rep of an int: \"123\" == 321\n",
    "    # n1 < n2\n",
    "    remainder = 0\n",
    "    result = ''\n",
    "    for i,I2 in enumerate(n2):\n",
    "        if len(n1) > i:\n",
    "            I1 = n1[i]\n",
    "        else: I1 = '0'\n",
    "        newint = int(I1)+int(I2)+remainder\n",
    "        remainder = newint//10\n",
    "        newstrint = str(newint%10)\n",
    "        result += newstrint\n",
    "    if remainder:\n",
    "        result += str(remainder)\n",
    "    return result\n",
    "\n",
    "n1 = '1'   \n",
    "n2 = '1'\n",
    "index = 2\n",
    "\n",
    "threshold = 1000\n",
    "\n",
    "while len(n2) < threshold:\n",
    "    new = add_strints(n1,n2)\n",
    "    n1 = n2\n",
    "    n2 = new\n",
    "    index += 1\n",
    "\n",
    "index"
   ]
  },
  {
   "cell_type": "markdown",
   "metadata": {},
   "source": [
    "## ANSWER = 4782"
   ]
  }
 ],
 "metadata": {
  "kernelspec": {
   "display_name": "Python 3.10.4 ('project_euler-n_y2k3fO')",
   "language": "python",
   "name": "python3"
  },
  "language_info": {
   "codemirror_mode": {
    "name": "ipython",
    "version": 3
   },
   "file_extension": ".py",
   "mimetype": "text/x-python",
   "name": "python",
   "nbconvert_exporter": "python",
   "pygments_lexer": "ipython3",
   "version": "3.10.4"
  },
  "orig_nbformat": 4,
  "vscode": {
   "interpreter": {
    "hash": "2458aa9317e3ad091dce09405bd27e58e704aecbe1f7d76e8b0c3a84d1557548"
   }
  }
 },
 "nbformat": 4,
 "nbformat_minor": 2
}
