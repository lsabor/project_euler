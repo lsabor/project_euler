{
 "cells": [
  {
   "cell_type": "markdown",
   "metadata": {},
   "source": [
    "## Example Problem\n",
    "Problem 0\n",
    "\n",
    "Problem statement:  \n",
    "Let a+b=5 and b+c=2 and a+c=6.  \n",
    "What is a+b+c?\n",
    "\n",
    "Link: https://www.wolframalpha.com/input?i=a%2Bb%3D5%2C+b%2Bc%3D2%2C+a%2Bc%3D6%2C+a%2Bb%2Bc\n",
    "\n",
    "Date solved:  \n",
    "2022/03/05 [YYYY/MM/DD]"
   ]
  },
  {
   "cell_type": "code",
   "execution_count": 1,
   "metadata": {},
   "outputs": [],
   "source": [
    "# imports\n",
    "\n",
    "import sequences"
   ]
  },
  {
   "cell_type": "code",
   "execution_count": 2,
   "metadata": {},
   "outputs": [
    {
     "data": {
      "text/plain": [
       "6.5"
      ]
     },
     "execution_count": 2,
     "metadata": {},
     "output_type": "execute_result"
    }
   ],
   "source": [
    "# %%timeit # results = 88.2 ns ± 1.35 ns per loop (mean ± std. dev. of 7 runs, 10,000,000 loops each)\n",
    "# solution\n",
    "\n",
    "# algebra\n",
    "# a = 5 - b\n",
    "# b = 2 - c\n",
    "# a = 6 - c\n",
    "# \n",
    "# 5 - b       = 6 - c\n",
    "# 5 - (2 - c) = 6 - c\n",
    "# 3 + c       = 6 - c\n",
    "# c + c       = 6 - 3\n",
    "# 2*c         = 3\n",
    "c = 3 / 2\n",
    "b = 2 - c\n",
    "a = 5 - b\n",
    "\n",
    "a+b+c"
   ]
  },
  {
   "cell_type": "markdown",
   "metadata": {},
   "source": [
    "## ANSWER = 6.5"
   ]
  }
 ],
 "metadata": {
  "kernelspec": {
   "display_name": "Python 3.10.4 ('project_euler-n_y2k3fO')",
   "language": "python",
   "name": "python3"
  },
  "language_info": {
   "codemirror_mode": {
    "name": "ipython",
    "version": 3
   },
   "file_extension": ".py",
   "mimetype": "text/x-python",
   "name": "python",
   "nbconvert_exporter": "python",
   "pygments_lexer": "ipython3",
   "version": "3.10.4"
  },
  "orig_nbformat": 4,
  "vscode": {
   "interpreter": {
    "hash": "2458aa9317e3ad091dce09405bd27e58e704aecbe1f7d76e8b0c3a84d1557548"
   }
  }
 },
 "nbformat": 4,
 "nbformat_minor": 2
}
