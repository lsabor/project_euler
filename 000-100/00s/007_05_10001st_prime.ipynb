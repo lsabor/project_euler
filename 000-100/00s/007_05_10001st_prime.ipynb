{
    "cells": [
        {
            "cell_type": "markdown",
            "metadata": {},
            "source": [
                "## 10001st prime\n",
                " \n",
                "Problem 7\n",
                "\n",
                "By listing the first six prime numbers: 2, 3, 5, 7, 11, and 13, we can see that the 6th prime is 13.\n",
                "\n",
                "What is the 10001st prime number?\n",
                "\n",
                "Link: https://projecteuler.net/problem=7\n",
                "\n",
                "Date solved:  \n",
                "2022/03/05"
            ]
        },
        {
            "cell_type": "code",
            "execution_count": 1,
            "metadata": {},
            "outputs": [],
            "source": [
                "# imports\n",
                "from maths.sequences import PrimesSeq"
            ]
        },
        {
            "cell_type": "code",
            "execution_count": 2,
            "metadata": {},
            "outputs": [
                {
                    "data": {
                        "text/plain": [
                            "104743"
                        ]
                    },
                    "execution_count": 2,
                    "metadata": {},
                    "output_type": "execute_result"
                }
            ],
            "source": [
                "# %%timeit # results = 970 µs ± 25.6 µs per loop (mean ± std. dev. of 7 runs, 1,000 loops each)\n",
                "# solution\n",
                "\n",
                "P = PrimesSeq()\n",
                "P[10000]"
            ]
        },
        {
            "cell_type": "markdown",
            "metadata": {},
            "source": [
                "## ANSWER = 104743"
            ]
        }
    ],
    "metadata": {
        "kernelspec": {
            "display_name": "Python 3.10.4 ('project_euler-n_y2k3fO')",
            "language": "python",
            "name": "python3"
        },
        "language_info": {
            "codemirror_mode": {
                "name": "ipython",
                "version": 3
            },
            "file_extension": ".py",
            "mimetype": "text/x-python",
            "name": "python",
            "nbconvert_exporter": "python",
            "pygments_lexer": "ipython3",
            "version": "3.10.4"
        },
        "orig_nbformat": 4,
        "vscode": {
            "interpreter": {
                "hash": "2458aa9317e3ad091dce09405bd27e58e704aecbe1f7d76e8b0c3a84d1557548"
            }
        }
    },
    "nbformat": 4,
    "nbformat_minor": 2
}