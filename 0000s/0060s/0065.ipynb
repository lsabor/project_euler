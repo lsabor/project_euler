{
 "cells": [
  {
   "cell_type": "markdown",
   "metadata": {},
   "source": [
    "## Convergents of e\n",
    "\n",
    "Problem 65\n",
    "\n",
    "JUST GO LOOK AT THE LINK, too many formatting issues to type out here\n",
    "\n",
    "The square root of 2 can be written as an infinite continued fraction.\n",
    "\n",
    "The infinite continued fraction can be written, , indicates that 2 repeats ad infinitum. In a similar way,\n",
    "\n",
    ".\n",
    "\n",
    "It turns out that the sequence of partial values of continued fractions for square roots provide the best rational approximations. Let us consider the convergents for\n",
    "\n",
    ".\n",
    "\n",
    "Hence the sequence of the first ten convergents for\n",
    "\n",
    "are:\n",
    "\n",
    "What is most surprising is that the important mathematical constant,\n",
    "\n",
    ".\n",
    "\n",
    "The first ten terms in the sequence of convergents for e are:\n",
    "\n",
    "The sum of digits in the numerator of the 10th convergent is\n",
    "\n",
    ".\n",
    "\n",
    "Find the sum of digits in the numerator of the 100th convergent of the continued fraction for\n",
    ".\n",
    "\n",
    "Link: https://projecteuler.net/problem=65\n",
    "\n",
    "Date solved:  \n",
    "2022/"
   ]
  },
  {
   "cell_type": "code",
   "execution_count": 45,
   "metadata": {},
   "outputs": [],
   "source": [
    "# imports\n",
    "from maths import factorial\n",
    "from decimal import *\n"
   ]
  },
  {
   "cell_type": "code",
   "execution_count": 70,
   "metadata": {},
   "outputs": [
    {
     "data": {
      "text/plain": [
       "272"
      ]
     },
     "execution_count": 70,
     "metadata": {},
     "output_type": "execute_result"
    }
   ],
   "source": [
    "depth = 100\n",
    "getcontext().prec = 500 # we need e to be extremely precise\n",
    "\n",
    "def get_e(precision=100):\n",
    "    e = Decimal('0')\n",
    "    for i in range(precision):\n",
    "        e += Decimal('1')/Decimal(f\"{factorial(i)}\")\n",
    "    return e\n",
    "\n",
    "def get_covergent_numerator(depth):\n",
    "    As = []\n",
    "    remainder = get_e()\n",
    "\n",
    "    for _ in range(depth):\n",
    "        a = int(remainder)\n",
    "        As.append(a)\n",
    "        remainder = Decimal(1/(remainder - a))\n",
    "    \n",
    "    return As\n",
    "\n",
    "def fraction_from_continued_fraction(fraclist):\n",
    "    revfl = fraclist[::-1]\n",
    "\n",
    "    def reduce(a,num,den):\n",
    "        # returns new num & den from (a + 1/(num/den))\n",
    "        new_num = den + a*num\n",
    "        new_den = num\n",
    "        return new_num, new_den\n",
    "\n",
    "    num = revfl[0]\n",
    "    den = 1\n",
    "    for a in revfl[1:]:\n",
    "        num, den = reduce(a,num,den)\n",
    "    return num, den\n",
    "    \n",
    "\n",
    "num, den = fraction_from_continued_fraction(get_covergent_numerator(depth))\n",
    "sum(list(map(int,str(num))))\n",
    "\n"
   ]
  },
  {
   "cell_type": "markdown",
   "metadata": {},
   "source": [
    "## ANSWER = 272"
   ]
  }
 ],
 "metadata": {
  "kernelspec": {
   "display_name": "Python 3.10.4 ('project_euler-n_y2k3fO')",
   "language": "python",
   "name": "python3"
  },
  "language_info": {
   "codemirror_mode": {
    "name": "ipython",
    "version": 3
   },
   "file_extension": ".py",
   "mimetype": "text/x-python",
   "name": "python",
   "nbconvert_exporter": "python",
   "pygments_lexer": "ipython3",
   "version": "3.10.4"
  },
  "orig_nbformat": 4,
  "vscode": {
   "interpreter": {
    "hash": "2458aa9317e3ad091dce09405bd27e58e704aecbe1f7d76e8b0c3a84d1557548"
   }
  }
 },
 "nbformat": 4,
 "nbformat_minor": 2
}
