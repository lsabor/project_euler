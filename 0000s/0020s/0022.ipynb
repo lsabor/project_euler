{
 "cells": [
  {
   "cell_type": "markdown",
   "metadata": {},
   "source": [
    "## Names scores\n",
    "\n",
    "Problem 22\n",
    "\n",
    "Using names.txt (right click and 'Save Link/Target As...'), a 46K text file containing over five-thousand first names, begin by sorting it into alphabetical order. Then working out the alphabetical value for each name, multiply this value by its alphabetical position in the list to obtain a name score.\n",
    "\n",
    "For example, when the list is sorted into alphabetical order, COLIN, which is worth 3 + 15 + 12 + 9 + 14 = 53, is the 938th name in the list. So, COLIN would obtain a score of 938 × 53 = 49714.\n",
    "\n",
    "What is the total of all the name scores in the file?\n",
    "\n",
    "\n",
    "Link: https://projecteuler.net/problem=22\n",
    "\n",
    "Date solved:  \n",
    "2022/04/01"
   ]
  },
  {
   "cell_type": "code",
   "execution_count": 57,
   "metadata": {},
   "outputs": [],
   "source": [
    "# imports\n",
    "import sys\n",
    "sys.path.append('../../modules')\n"
   ]
  },
  {
   "cell_type": "code",
   "execution_count": 56,
   "metadata": {},
   "outputs": [
    {
     "data": {
      "text/plain": [
       "871198282"
      ]
     },
     "execution_count": 56,
     "metadata": {},
     "output_type": "execute_result"
    }
   ],
   "source": [
    "file_name = '../../problem_files/p022_names.txt'\n",
    "with open(file_name,'r') as f:\n",
    "    names = f.read()\n",
    "names = names[1:-1].split('\",\"')\n",
    "names.sort()\n",
    "\n",
    "def name_score(name):\n",
    "    score = 0\n",
    "    for char in name:\n",
    "        score += ord(char)-64\n",
    "    return score\n",
    "\n",
    "name_score_sum = 0\n",
    "for i,name in enumerate(names):\n",
    "    name_score_sum += name_score(name)*(i+1)\n",
    "\n",
    "name_score_sum"
   ]
  },
  {
   "cell_type": "markdown",
   "metadata": {},
   "source": [
    "## ANSWER = 871198282"
   ]
  }
 ],
 "metadata": {
  "interpreter": {
   "hash": "fa6d3aa3e59b0d3ec5716a83fdfe307fbe220500d62ba18b8aa8ea0f1364950a"
  },
  "kernelspec": {
   "display_name": "Python 3.9.7 ('project_euler')",
   "language": "python",
   "name": "python3"
  },
  "language_info": {
   "codemirror_mode": {
    "name": "ipython",
    "version": 3
   },
   "file_extension": ".py",
   "mimetype": "text/x-python",
   "name": "python",
   "nbconvert_exporter": "python",
   "pygments_lexer": "ipython3",
   "version": "3.10.3"
  },
  "orig_nbformat": 4
 },
 "nbformat": 4,
 "nbformat_minor": 2
}
