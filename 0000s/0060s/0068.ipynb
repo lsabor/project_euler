{
 "cells": [
  {
   "cell_type": "markdown",
   "metadata": {},
   "source": [
    "## Magic 5-gon ring\n",
    "Problem 68\n",
    "\n",
    "Consider the following \"magic\" 3-gon ring, filled with the numbers 1 to 6, and each line adding to nine.\n",
    "\n",
    "SEE IMAGE AT URL\n",
    "\n",
    "Working clockwise, and starting from the group of three with the numerically lowest external node (4,3,2 in this example), each solution can be described uniquely. For example, the above solution can be described by the set: 4,3,2; 6,2,1; 5,1,3.\n",
    "\n",
    "It is possible to complete the ring with four different totals: 9, 10, 11, and 12. There are eight solutions in total.  \n",
    "Total\tSolution Set  \n",
    "09\t4,2,3; 5,3,1; 6,1,2  \n",
    "09\t4,3,2; 6,2,1; 5,1,3  \n",
    "10\t2,3,5; 4,5,1; 6,1,3  \n",
    "10\t2,5,3; 6,3,1; 4,1,5  \n",
    "11\t1,4,6; 3,6,2; 5,2,4  \n",
    "11\t1,6,4; 5,4,2; 3,2,6  \n",
    "12\t1,5,6; 2,6,4; 3,4,5  \n",
    "12\t1,6,5; 3,5,4; 2,4,6  \n",
    "\n",
    "By concatenating each group it is possible to form 9-digit strings; the maximum string for a 3-gon ring is 432621513.\n",
    "\n",
    "Using the numbers 1 to 10, and depending on arrangements, it is possible to form 16- and 17-digit strings. What is the maximum 16-digit string for a \"magic\" 5-gon ring?\n",
    "\n",
    "SEE IMAGE AT URL\n",
    "\n",
    "\n",
    "Link: https://projecteuler.net/problem=68\n",
    "\n",
    "Date solved:  \n",
    "2022/08/06"
   ]
  },
  {
   "cell_type": "code",
   "execution_count": 27,
   "metadata": {},
   "outputs": [],
   "source": [
    "# imports"
   ]
  },
  {
   "cell_type": "code",
   "execution_count": 31,
   "metadata": {},
   "outputs": [
    {
     "data": {
      "text/plain": [
       "'6531031914842725'"
      ]
     },
     "execution_count": 31,
     "metadata": {},
     "output_type": "execute_result"
    }
   ],
   "source": [
    "# objective is to maximize strint = \"AabBbcCcdDdeEea\" such that:\n",
    "# 1) S == A+a+b == B+b+c == C+c+d == D+d+e == E+e+a\n",
    "# 2) A == min([A,B,C,D,E])\n",
    "# 3) 10 in set([B,C,D,E]) # since len(strint)==16\n",
    "# 4) set([A,a,B,b,D,d,E,e]) == set(range(1,11))\n",
    "\n",
    "# first let's try to build the largest possible strint\n",
    "A = 6 # assume A is the smallest external number - assume Alpha = set([A,B,C,D,E]) == set(range(6,11))\n",
    "a = 5 # assume a is the largest internal number - assume beta = set([a,b,c,d,e]) == set(range(1,6))\n",
    "# implies large numbers on outside, small numbers on inside\n",
    "S = 14 # since S = S0 / 5 = (sum(Alpha) + 2*sum(Beta)) / 5 = 70 / 5 = 14\n",
    "b = 3 # so that A + a + b = 11 + b == 14\n",
    "# thus {B,D} == {8,10} and {C,E} == {7,9} since B+D == C+E+2\n",
    "e = 2 # since E + e == 9, and if E==9, e == 0 which would be a contradiction\n",
    "E = 7\n",
    "C = 9\n",
    "B = 10 # since B + c == 11 and B is even and c is either 1 or 4\n",
    "c = 1\n",
    "D = 8 # last large number\n",
    "d = 4 # last small number\n",
    "\n",
    "# verify assumptions\n",
    "# assumption 1)\n",
    "assert S == A+a+b == B+b+c == C+c+d == D+d+e == E+e+a\n",
    "# assumption 2)\n",
    "assert A == min([A,B,C,D,E])\n",
    "# assumption 3)\n",
    "assert 10 in set([B,C,D,E])\n",
    "# assumption 4)\n",
    "assert set([A,a,B,b,C,c,D,d,E,e]) == set(range(1,11))\n",
    "\n",
    "# since:\n",
    "# 1) A and a are as large as possible\n",
    "# 2) all other numbers were deduced and could not be any other way\n",
    "# 3) all assumptions pass to ensure solution is in fact a Magic 5-gon ring\n",
    "# then we have found the largest possible strint\n",
    "sol = [A,a,b,B,b,c,C,c,d,D,d,e,E,e,a]\n",
    "''.join(map(str,sol))"
   ]
  },
  {
   "cell_type": "markdown",
   "metadata": {},
   "source": [
    "## ANSWER = 6531031914842725"
   ]
  }
 ],
 "metadata": {
  "kernelspec": {
   "display_name": "Python 3.10.4 ('project_euler-n_y2k3fO')",
   "language": "python",
   "name": "python3"
  },
  "language_info": {
   "codemirror_mode": {
    "name": "ipython",
    "version": 3
   },
   "file_extension": ".py",
   "mimetype": "text/x-python",
   "name": "python",
   "nbconvert_exporter": "python",
   "pygments_lexer": "ipython3",
   "version": "3.10.4"
  },
  "orig_nbformat": 4,
  "vscode": {
   "interpreter": {
    "hash": "2458aa9317e3ad091dce09405bd27e58e704aecbe1f7d76e8b0c3a84d1557548"
   }
  }
 },
 "nbformat": 4,
 "nbformat_minor": 2
}
