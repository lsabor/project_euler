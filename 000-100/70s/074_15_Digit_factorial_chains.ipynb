{
 "cells": [
  {
   "cell_type": "markdown",
   "metadata": {},
   "source": [
    "## Digit factorial chains\n",
    "Problem 74\n",
    "\n",
    "The number 145 is well known for the property that the sum of the factorial of its digits is equal to 145:\n",
    "\n",
    "1! + 4! + 5! = 1 + 24 + 120 = 145  \n",
    "\n",
    "Perhaps less well known is 169, in that it produces the longest chain of numbers that link back to 169; it turns out that there are only three such loops that exist:\n",
    "\n",
    "169 → 363601 → 1454 → 169  \n",
    "871 → 45361 → 871  \n",
    "872 → 45362 → 872  \n",
    "\n",
    "It is not difficult to prove that EVERY starting number will eventually get stuck in a loop. For example,\n",
    "\n",
    "69 → 363600 → 1454 → 169 → 363601 (→ 1454)  \n",
    "78 → 45360 → 871 → 45361 (→ 871)  \n",
    "540 → 145 (→ 145)  \n",
    "\n",
    "Starting with 69 produces a chain of five non-repeating terms, but the longest non-repeating chain with a starting number below one million is sixty terms.\n",
    "\n",
    "How many chains, with a starting number below one million, contain exactly sixty non-repeating terms?\n",
    "\n",
    "Link: https://projecteuler.net/problem=73\n",
    "\n",
    "Date solved:  \n",
    "2022/08/17"
   ]
  },
  {
   "cell_type": "code",
   "execution_count": 11,
   "metadata": {},
   "outputs": [
    {
     "name": "stdout",
     "output_type": "stream",
     "text": [
      "3000\n"
     ]
    }
   ],
   "source": [
    "# imports\n",
    "from maths import factorial\n",
    "from functools import lru_cache\n",
    "import sys\n",
    "print(sys.getrecursionlimit())"
   ]
  },
  {
   "cell_type": "code",
   "execution_count": 53,
   "metadata": {},
   "outputs": [
    {
     "ename": "KeyboardInterrupt",
     "evalue": "",
     "output_type": "error",
     "traceback": [
      "\u001b[1;31m---------------------------------------------------------------------------\u001b[0m",
      "\u001b[1;31mKeyboardInterrupt\u001b[0m                         Traceback (most recent call last)",
      "\u001b[1;32mc:\\Users\\lukes\\OneDrive\\Documents\\coding\\project_euler\\000-100\\70s\\074_15_Digit_factorial_chains.ipynb Cell 3\u001b[0m in \u001b[0;36m<cell line: 51>\u001b[1;34m()\u001b[0m\n\u001b[0;32m     <a href='vscode-notebook-cell:/c%3A/Users/lukes/OneDrive/Documents/coding/project_euler/000-100/70s/074_15_Digit_factorial_chains.ipynb#W2sZmlsZQ%3D%3D?line=45'>46</a>\u001b[0m         count \u001b[39m+\u001b[39m\u001b[39m=\u001b[39m (l \u001b[39m==\u001b[39m length)\n\u001b[0;32m     <a href='vscode-notebook-cell:/c%3A/Users/lukes/OneDrive/Documents/coding/project_euler/000-100/70s/074_15_Digit_factorial_chains.ipynb#W2sZmlsZQ%3D%3D?line=47'>48</a>\u001b[0m     \u001b[39mreturn\u001b[39;00m count, loop_nums\n\u001b[1;32m---> <a href='vscode-notebook-cell:/c%3A/Users/lukes/OneDrive/Documents/coding/project_euler/000-100/70s/074_15_Digit_factorial_chains.ipynb#W2sZmlsZQ%3D%3D?line=50'>51</a>\u001b[0m digit_factorial_chains(threshold, \u001b[39m60\u001b[39;49m)\n",
      "\u001b[1;32mc:\\Users\\lukes\\OneDrive\\Documents\\coding\\project_euler\\000-100\\70s\\074_15_Digit_factorial_chains.ipynb Cell 3\u001b[0m in \u001b[0;36mdigit_factorial_chains\u001b[1;34m(threshold, length)\u001b[0m\n\u001b[0;32m     <a href='vscode-notebook-cell:/c%3A/Users/lukes/OneDrive/Documents/coding/project_euler/000-100/70s/074_15_Digit_factorial_chains.ipynb#W2sZmlsZQ%3D%3D?line=38'>39</a>\u001b[0m l \u001b[39m=\u001b[39m \u001b[39m0\u001b[39m\n\u001b[0;32m     <a href='vscode-notebook-cell:/c%3A/Users/lukes/OneDrive/Documents/coding/project_euler/000-100/70s/074_15_Digit_factorial_chains.ipynb#W2sZmlsZQ%3D%3D?line=39'>40</a>\u001b[0m \u001b[39m# print()\u001b[39;00m\n\u001b[0;32m     <a href='vscode-notebook-cell:/c%3A/Users/lukes/OneDrive/Documents/coding/project_euler/000-100/70s/074_15_Digit_factorial_chains.ipynb#W2sZmlsZQ%3D%3D?line=40'>41</a>\u001b[0m \u001b[39m# print(f\"{n=}\")\u001b[39;00m\n\u001b[0;32m     <a href='vscode-notebook-cell:/c%3A/Users/lukes/OneDrive/Documents/coding/project_euler/000-100/70s/074_15_Digit_factorial_chains.ipynb#W2sZmlsZQ%3D%3D?line=41'>42</a>\u001b[0m \u001b[39m# print(f\"{count=}\")\u001b[39;00m\n\u001b[0;32m     <a href='vscode-notebook-cell:/c%3A/Users/lukes/OneDrive/Documents/coding/project_euler/000-100/70s/074_15_Digit_factorial_chains.ipynb#W2sZmlsZQ%3D%3D?line=42'>43</a>\u001b[0m \u001b[39m# print(f\"{loop_nums=}\")\u001b[39;00m\n\u001b[1;32m---> <a href='vscode-notebook-cell:/c%3A/Users/lukes/OneDrive/Documents/coding/project_euler/000-100/70s/074_15_Digit_factorial_chains.ipynb#W2sZmlsZQ%3D%3D?line=43'>44</a>\u001b[0m chain_length \u001b[39m=\u001b[39m chain_len(n)\n\u001b[0;32m     <a href='vscode-notebook-cell:/c%3A/Users/lukes/OneDrive/Documents/coding/project_euler/000-100/70s/074_15_Digit_factorial_chains.ipynb#W2sZmlsZQ%3D%3D?line=44'>45</a>\u001b[0m \u001b[39m# print(f\"{chain_length=}\")\u001b[39;00m\n\u001b[0;32m     <a href='vscode-notebook-cell:/c%3A/Users/lukes/OneDrive/Documents/coding/project_euler/000-100/70s/074_15_Digit_factorial_chains.ipynb#W2sZmlsZQ%3D%3D?line=45'>46</a>\u001b[0m count \u001b[39m+\u001b[39m\u001b[39m=\u001b[39m (l \u001b[39m==\u001b[39m length)\n",
      "\u001b[1;32mc:\\Users\\lukes\\OneDrive\\Documents\\coding\\project_euler\\000-100\\70s\\074_15_Digit_factorial_chains.ipynb Cell 3\u001b[0m in \u001b[0;36mdigit_factorial_chains.<locals>.chain_len\u001b[1;34m(n)\u001b[0m\n\u001b[0;32m     <a href='vscode-notebook-cell:/c%3A/Users/lukes/OneDrive/Documents/coding/project_euler/000-100/70s/074_15_Digit_factorial_chains.ipynb#W2sZmlsZQ%3D%3D?line=30'>31</a>\u001b[0m l \u001b[39m+\u001b[39m\u001b[39m=\u001b[39m \u001b[39m1\u001b[39m\n\u001b[0;32m     <a href='vscode-notebook-cell:/c%3A/Users/lukes/OneDrive/Documents/coding/project_euler/000-100/70s/074_15_Digit_factorial_chains.ipynb#W2sZmlsZQ%3D%3D?line=31'>32</a>\u001b[0m \u001b[39mif\u001b[39;00m l \u001b[39m<\u001b[39m\u001b[39m=\u001b[39m length:\n\u001b[1;32m---> <a href='vscode-notebook-cell:/c%3A/Users/lukes/OneDrive/Documents/coding/project_euler/000-100/70s/074_15_Digit_factorial_chains.ipynb#W2sZmlsZQ%3D%3D?line=32'>33</a>\u001b[0m     chain_len(digit_factorial_sum(n))\n\u001b[0;32m     <a href='vscode-notebook-cell:/c%3A/Users/lukes/OneDrive/Documents/coding/project_euler/000-100/70s/074_15_Digit_factorial_chains.ipynb#W2sZmlsZQ%3D%3D?line=33'>34</a>\u001b[0m \u001b[39mreturn\u001b[39;00m\n",
      "\u001b[1;32mc:\\Users\\lukes\\OneDrive\\Documents\\coding\\project_euler\\000-100\\70s\\074_15_Digit_factorial_chains.ipynb Cell 3\u001b[0m in \u001b[0;36mdigit_factorial_chains.<locals>.chain_len\u001b[1;34m(n)\u001b[0m\n\u001b[0;32m     <a href='vscode-notebook-cell:/c%3A/Users/lukes/OneDrive/Documents/coding/project_euler/000-100/70s/074_15_Digit_factorial_chains.ipynb#W2sZmlsZQ%3D%3D?line=30'>31</a>\u001b[0m l \u001b[39m+\u001b[39m\u001b[39m=\u001b[39m \u001b[39m1\u001b[39m\n\u001b[0;32m     <a href='vscode-notebook-cell:/c%3A/Users/lukes/OneDrive/Documents/coding/project_euler/000-100/70s/074_15_Digit_factorial_chains.ipynb#W2sZmlsZQ%3D%3D?line=31'>32</a>\u001b[0m \u001b[39mif\u001b[39;00m l \u001b[39m<\u001b[39m\u001b[39m=\u001b[39m length:\n\u001b[1;32m---> <a href='vscode-notebook-cell:/c%3A/Users/lukes/OneDrive/Documents/coding/project_euler/000-100/70s/074_15_Digit_factorial_chains.ipynb#W2sZmlsZQ%3D%3D?line=32'>33</a>\u001b[0m     chain_len(digit_factorial_sum(n))\n\u001b[0;32m     <a href='vscode-notebook-cell:/c%3A/Users/lukes/OneDrive/Documents/coding/project_euler/000-100/70s/074_15_Digit_factorial_chains.ipynb#W2sZmlsZQ%3D%3D?line=33'>34</a>\u001b[0m \u001b[39mreturn\u001b[39;00m\n",
      "    \u001b[1;31m[... skipping similar frames: digit_factorial_chains.<locals>.chain_len at line 33 (28 times)]\u001b[0m\n",
      "\u001b[1;32mc:\\Users\\lukes\\OneDrive\\Documents\\coding\\project_euler\\000-100\\70s\\074_15_Digit_factorial_chains.ipynb Cell 3\u001b[0m in \u001b[0;36mdigit_factorial_chains.<locals>.chain_len\u001b[1;34m(n)\u001b[0m\n\u001b[0;32m     <a href='vscode-notebook-cell:/c%3A/Users/lukes/OneDrive/Documents/coding/project_euler/000-100/70s/074_15_Digit_factorial_chains.ipynb#W2sZmlsZQ%3D%3D?line=30'>31</a>\u001b[0m l \u001b[39m+\u001b[39m\u001b[39m=\u001b[39m \u001b[39m1\u001b[39m\n\u001b[0;32m     <a href='vscode-notebook-cell:/c%3A/Users/lukes/OneDrive/Documents/coding/project_euler/000-100/70s/074_15_Digit_factorial_chains.ipynb#W2sZmlsZQ%3D%3D?line=31'>32</a>\u001b[0m \u001b[39mif\u001b[39;00m l \u001b[39m<\u001b[39m\u001b[39m=\u001b[39m length:\n\u001b[1;32m---> <a href='vscode-notebook-cell:/c%3A/Users/lukes/OneDrive/Documents/coding/project_euler/000-100/70s/074_15_Digit_factorial_chains.ipynb#W2sZmlsZQ%3D%3D?line=32'>33</a>\u001b[0m     chain_len(digit_factorial_sum(n))\n\u001b[0;32m     <a href='vscode-notebook-cell:/c%3A/Users/lukes/OneDrive/Documents/coding/project_euler/000-100/70s/074_15_Digit_factorial_chains.ipynb#W2sZmlsZQ%3D%3D?line=33'>34</a>\u001b[0m \u001b[39mreturn\u001b[39;00m\n",
      "\u001b[1;32mc:\\Users\\lukes\\OneDrive\\Documents\\coding\\project_euler\\000-100\\70s\\074_15_Digit_factorial_chains.ipynb Cell 3\u001b[0m in \u001b[0;36mdigit_factorial_sum\u001b[1;34m(n)\u001b[0m\n\u001b[0;32m      <a href='vscode-notebook-cell:/c%3A/Users/lukes/OneDrive/Documents/coding/project_euler/000-100/70s/074_15_Digit_factorial_chains.ipynb#W2sZmlsZQ%3D%3D?line=6'>7</a>\u001b[0m \u001b[39mdef\u001b[39;00m \u001b[39mdigit_factorial_sum\u001b[39m(n):\n\u001b[1;32m----> <a href='vscode-notebook-cell:/c%3A/Users/lukes/OneDrive/Documents/coding/project_euler/000-100/70s/074_15_Digit_factorial_chains.ipynb#W2sZmlsZQ%3D%3D?line=7'>8</a>\u001b[0m     \u001b[39mreturn\u001b[39;00m \u001b[39msum\u001b[39m([factorials[\u001b[39mint\u001b[39m(char)] \u001b[39mfor\u001b[39;00m char \u001b[39min\u001b[39;00m \u001b[39mstr\u001b[39m(n)])\n",
      "\u001b[1;32mc:\\Users\\lukes\\OneDrive\\Documents\\coding\\project_euler\\000-100\\70s\\074_15_Digit_factorial_chains.ipynb Cell 3\u001b[0m in \u001b[0;36m<listcomp>\u001b[1;34m(.0)\u001b[0m\n\u001b[0;32m      <a href='vscode-notebook-cell:/c%3A/Users/lukes/OneDrive/Documents/coding/project_euler/000-100/70s/074_15_Digit_factorial_chains.ipynb#W2sZmlsZQ%3D%3D?line=6'>7</a>\u001b[0m \u001b[39mdef\u001b[39;00m \u001b[39mdigit_factorial_sum\u001b[39m(n):\n\u001b[1;32m----> <a href='vscode-notebook-cell:/c%3A/Users/lukes/OneDrive/Documents/coding/project_euler/000-100/70s/074_15_Digit_factorial_chains.ipynb#W2sZmlsZQ%3D%3D?line=7'>8</a>\u001b[0m     \u001b[39mreturn\u001b[39;00m \u001b[39msum\u001b[39m([factorials[\u001b[39mint\u001b[39m(char)] \u001b[39mfor\u001b[39;00m char \u001b[39min\u001b[39;00m \u001b[39mstr\u001b[39m(n)])\n",
      "\u001b[1;31mKeyboardInterrupt\u001b[0m: "
     ]
    }
   ],
   "source": [
    "# for each n < 1e6, \n",
    "\n",
    "factorials = [factorial(n) for n in range(10)] # to avoid recomputing\n",
    "\n",
    "threshold = int(1e6)\n",
    "\n",
    "def digit_factorial_sum(n):\n",
    "    return sum([factorials[int(char)] for char in str(n)])\n",
    "\n",
    "def digit_factorial_chains(threshold, length):\n",
    "    # loop_nums = set([0,1,2,145,169,363601,1454,871,872,45361,45362])\n",
    "    loop_nums = set()\n",
    "\n",
    "    # @lru_cache\n",
    "    def chain_len(n):\n",
    "        nonlocal loop_nums\n",
    "        nonlocal seen\n",
    "        nonlocal l\n",
    "        if n in loop_nums:\n",
    "            # print(f\"{n=} found in {loop_nums=}\")\n",
    "            # print(f\"total chain {seen}, {n}\")\n",
    "            return\n",
    "        if n in seen:\n",
    "            # print(f\"{loop_nums=}\")\n",
    "            loop_nums = loop_nums.union(set(seen[seen.index(n):]))\n",
    "            # print(f\"{loop_nums=}\")\n",
    "            # print(f\"{n} loops in {seen}, so returning {seen.index(n) - len(seen)}\")\n",
    "            l -= seen.index(n) - len(seen)\n",
    "            return\n",
    "        seen.append(n)\n",
    "        l += 1\n",
    "        if l <= length:\n",
    "            chain_len(digit_factorial_sum(n))\n",
    "        return\n",
    "\n",
    "    count = 0\n",
    "    for n in range(0,threshold):\n",
    "        seen = []\n",
    "        l = 0\n",
    "        # print()\n",
    "        # print(f\"{n=}\")\n",
    "        # print(f\"{count=}\")\n",
    "        # print(f\"{loop_nums=}\")\n",
    "        chain_length = chain_len(n)\n",
    "        # print(f\"{chain_length=}\")\n",
    "        count += (l == length)\n",
    "\n",
    "    return count, loop_nums\n",
    "\n",
    "\n",
    "digit_factorial_chains(threshold, 60)\n"
   ]
  },
  {
   "cell_type": "markdown",
   "metadata": {},
   "source": [
    "## ANSWER = 7295372"
   ]
  }
 ],
 "metadata": {
  "kernelspec": {
   "display_name": "Python 3.10.4 ('project_euler-n_y2k3fO')",
   "language": "python",
   "name": "python3"
  },
  "language_info": {
   "codemirror_mode": {
    "name": "ipython",
    "version": 3
   },
   "file_extension": ".py",
   "mimetype": "text/x-python",
   "name": "python",
   "nbconvert_exporter": "python",
   "pygments_lexer": "ipython3",
   "version": "3.10.4"
  },
  "orig_nbformat": 4,
  "vscode": {
   "interpreter": {
    "hash": "2458aa9317e3ad091dce09405bd27e58e704aecbe1f7d76e8b0c3a84d1557548"
   }
  }
 },
 "nbformat": 4,
 "nbformat_minor": 2
}
