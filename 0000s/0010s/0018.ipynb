{
 "cells": [
  {
   "cell_type": "markdown",
   "metadata": {},
   "source": [
    "## Maximum path sum I\n",
    "\n",
    "Problem 18\n",
    "\n",
    "By starting at the top of the triangle below and moving to adjacent numbers on the row below, the maximum total from top to bottom is 23.\n",
    "\n",
    "3\n",
    "7 4\n",
    "2 4 6\n",
    "8 5 9 3\n",
    "\n",
    "That is, 3 + 7 + 4 + 9 = 23.\n",
    "\n",
    "Find the maximum total from top to bottom of the triangle below:\n",
    "\n",
    "75  \n",
    "95 64  \n",
    "17 47 82  \n",
    "18 35 87 10  \n",
    "20 04 82 47 65  \n",
    "19 01 23 75 03 34  \n",
    "88 02 77 73 07 63 67  \n",
    "99 65 04 28 06 16 70 92  \n",
    "41 41 26 56 83 40 80 70 33  \n",
    "41 48 72 33 47 32 37 16 94 29  \n",
    "53 71 44 65 25 43 91 52 97 51 14  \n",
    "70 11 33 28 77 73 17 78 39 68 17 57  \n",
    "91 71 52 38 17 14 91 43 58 50 27 29 48  \n",
    "63 66 04 68 89 53 67 30 73 16 69 87 40 31  \n",
    "04 62 98 27 23 09 70 98 73 93 38 53 60 04 23  \n",
    "\n",
    "NOTE: As there are only 16384 routes, it is possible to solve this problem by trying every route. However, Problem 67, is the same challenge with a triangle containing one-hundred rows; it cannot be solved by brute force, and requires a clever method! ;o)\n",
    "\n",
    "\n",
    "Link: https://projecteuler.net/problem=18\n",
    "\n",
    "Date solved:  \n",
    "2022/03/08"
   ]
  },
  {
   "cell_type": "code",
   "execution_count": 1,
   "metadata": {},
   "outputs": [],
   "source": [
    "# imports\n",
    "import sys\n",
    "sys.path.append('../../modules')\n"
   ]
  },
  {
   "cell_type": "code",
   "execution_count": 12,
   "metadata": {},
   "outputs": [
    {
     "data": {
      "text/plain": [
       "[(1, 2), (1, 3), (2, 4), (3, 4)]"
      ]
     },
     "execution_count": 12,
     "metadata": {},
     "output_type": "execute_result"
    }
   ],
   "source": [
    "# %%timeit # results = 77.2 ms ± 1.71 ms per loop (mean ± std. dev. of 7 runs, 10 loops each)\n",
    "\n",
    "\n",
    "class Node:\n",
    "    \n",
    "    def __init__(self,value=None):\n",
    "        self.value = value\n",
    "        self.nexts = []\n",
    "\n",
    "    def add_next(self,next):\n",
    "        self.nexts.append(next)\n",
    "\n",
    "    def __repr__(self):\n",
    "        return str(self.value)\n",
    "\n",
    "class Graph:\n",
    "\n",
    "    def __init__(self,nodes = None):\n",
    "        self.nodes = nodes if nodes else []\n",
    "\n",
    "    def add_node(self,node):\n",
    "        self.nodes.append(node)\n",
    "\n",
    "    def get_edges(self):\n",
    "        edges = []\n",
    "        for node in self.nodes:\n",
    "            edges += [(node,next) for next in node.nexts]\n",
    "        return edges\n",
    "    \n",
    "    def repr(self):\n",
    "        output = ''\n",
    "        for (n1,n2) in self.get_eges():\n",
    "            output += f'{n1} -> {n2}\\n'\n",
    "        return output\n",
    "\n",
    "\n",
    "n1 = Node(1)\n",
    "n2 = Node(2)\n",
    "n3 = Node(3)\n",
    "n4 = Node(4)\n",
    "n1.add_next(n2)\n",
    "n1.add_next(n3)\n",
    "n2.add_next(n4)\n",
    "n3.add_next(n4)\n",
    "\n",
    "g = Graph([n1,n2,n3,n4])\n",
    "\n",
    "g.get_edges()\n"
   ]
  },
  {
   "cell_type": "markdown",
   "metadata": {},
   "source": [
    "## ANSWER = 142913828922"
   ]
  }
 ],
 "metadata": {
  "interpreter": {
   "hash": "fa6d3aa3e59b0d3ec5716a83fdfe307fbe220500d62ba18b8aa8ea0f1364950a"
  },
  "kernelspec": {
   "display_name": "Python 3.9.7 ('project_euler')",
   "language": "python",
   "name": "python3"
  },
  "language_info": {
   "codemirror_mode": {
    "name": "ipython",
    "version": 3
   },
   "file_extension": ".py",
   "mimetype": "text/x-python",
   "name": "python",
   "nbconvert_exporter": "python",
   "pygments_lexer": "ipython3",
   "version": "3.10.2"
  },
  "orig_nbformat": 4
 },
 "nbformat": 4,
 "nbformat_minor": 2
}
