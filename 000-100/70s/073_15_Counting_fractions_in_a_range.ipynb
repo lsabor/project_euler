{
    "cells": [
        {
            "cell_type": "markdown",
            "metadata": {},
            "source": [
                "## Counting fractions in a range\n",
                "Problem 73\n",
                "\n",
                "Consider the fraction, n/d, where n and d are positive integers. If n<d and HCF(n,d)=1, it is called a reduced proper fraction.\n",
                "\n",
                "If we list the set of reduced proper fractions for d ≤ 8 in ascending order of size, we get:\n",
                "\n",
                "1/8, 1/7, 1/6, 1/5, 1/4, 2/7, 1/3, 3/8, 2/5, 3/7, 1/2, 4/7, 3/5, 5/8, 2/3, 5/7, 3/4, 4/5, 5/6, 6/7, 7/8\n",
                "\n",
                "It can be seen that there are 3 fractions between 1/3 and 1/2.\n",
                "\n",
                "How many fractions lie between 1/3 and 1/2 in the sorted set of reduced proper fractions for d ≤ 12,000?\n",
                "\n",
                "Link: https://projecteuler.net/problem=73\n",
                "\n",
                "Date solved:  \n",
                "2022/08/17"
            ]
        },
        {
            "cell_type": "code",
            "execution_count": 1,
            "metadata": {},
            "outputs": [],
            "source": [
                "# imports\n",
                "from maths.math import ceil\n",
                "from maths.sequences.compound import PrimeFactorSeq"
            ]
        },
        {
            "cell_type": "code",
            "execution_count": 2,
            "metadata": {},
            "outputs": [
                {
                    "data": {
                        "text/plain": [
                            "7295372"
                        ]
                    },
                    "execution_count": 2,
                    "metadata": {},
                    "output_type": "execute_result"
                }
            ],
            "source": [
                "# for each denominator <= 12e3, we'll search through the range of n's between\n",
                "# d/3 and d/2 exclusive\n",
                "# Then increment our count on if n & d share no factors.\n",
                "# this can easily be done with the precalculated Prime Factorizations (PrimeFactorSeq)\n",
                "\n",
                "threshold = int(12e3)\n",
                "\n",
                "def closest_ordered_fraction(threshold):\n",
                "    pfs = PrimeFactorSeq()[:threshold+1]\n",
                "    \n",
                "    lower_bound = 1/3\n",
                "    upper_bound = 1/2\n",
                "    count = 0\n",
                "    \n",
                "    for d,pf in enumerate(pfs):\n",
                "        if d == 0: continue\n",
                "        d_factors = set(pf)\n",
                "        \n",
                "        lower_n = ceil(lower_bound * d)\n",
                "        lower_n += (lower_n/d == lower_bound)\n",
                "        upper_n = int(upper_bound * d)\n",
                "        upper_n -= (upper_n/d == upper_bound)\n",
                "        \n",
                "        for n in range(lower_n,upper_n+1):\n",
                "            if d==n:\n",
                "                continue\n",
                "            n_factors = set(pfs[n])\n",
                "            # only inc count if d and n are relatively prime (share no factors)\n",
                "            count += not bool(d_factors.intersection(n_factors))\n",
                "\n",
                "\n",
                "    return count\n",
                "\n",
                "closest_ordered_fraction(threshold)\n",
                "\n"
            ]
        },
        {
            "cell_type": "markdown",
            "metadata": {},
            "source": [
                "## ANSWER = 7295372"
            ]
        }
    ],
    "metadata": {
        "kernelspec": {
            "display_name": "Python 3.10.4 ('project_euler-n_y2k3fO')",
            "language": "python",
            "name": "python3"
        },
        "language_info": {
            "codemirror_mode": {
                "name": "ipython",
                "version": 3
            },
            "file_extension": ".py",
            "mimetype": "text/x-python",
            "name": "python",
            "nbconvert_exporter": "python",
            "pygments_lexer": "ipython3",
            "version": "3.10.4"
        },
        "orig_nbformat": 4,
        "vscode": {
            "interpreter": {
                "hash": "2458aa9317e3ad091dce09405bd27e58e704aecbe1f7d76e8b0c3a84d1557548"
            }
        }
    },
    "nbformat": 4,
    "nbformat_minor": 2
}
