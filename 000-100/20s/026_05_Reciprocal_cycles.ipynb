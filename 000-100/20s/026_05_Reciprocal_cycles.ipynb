{
 "cells": [
  {
   "cell_type": "markdown",
   "metadata": {},
   "source": [
    "## Reciprocal cycles\n",
    "Problem 26\n",
    "\n",
    "A unit fraction contains 1 in the numerator. The decimal representation of the unit fractions with denominators 2 to 10 are given:\n",
    "\n",
    "    1/2\t= \t0.5\n",
    "    1/3\t= \t0.(3)\n",
    "    1/4\t= \t0.25\n",
    "    1/5\t= \t0.2\n",
    "    1/6\t= \t0.1(6)\n",
    "    1/7\t= \t0.(142857)\n",
    "    1/8\t= \t0.125\n",
    "    1/9\t= \t0.(1)\n",
    "    1/10\t= \t0.1 \n",
    "\n",
    "Where 0.1(6) means 0.166666..., and has a 1-digit recurring cycle. It can be seen that 1/7 has a 6-digit recurring cycle.\n",
    "\n",
    "Find the value of d < 1000 for which 1/d contains the longest recurring cycle in its decimal fraction part.\n",
    "\n",
    "\n",
    "\n",
    "\n",
    "Link: https://projecteuler.net/problem=26\n",
    "\n",
    "Date solved:  \n",
    "2022/04/10"
   ]
  },
  {
   "cell_type": "code",
   "execution_count": 1,
   "metadata": {},
   "outputs": [],
   "source": [
    "# imports"
   ]
  },
  {
   "cell_type": "code",
   "execution_count": 2,
   "metadata": {},
   "outputs": [
    {
     "name": "stdout",
     "output_type": "stream",
     "text": [
      "983\n"
     ]
    }
   ],
   "source": [
    "def longest_cycle(n):\n",
    "    seen_values = []\n",
    "    result = []\n",
    "    remainder = 10\n",
    "    while True:\n",
    "        quotient = remainder // n\n",
    "        result.append(quotient)\n",
    "        new_remainder = remainder % n\n",
    "        if new_remainder in seen_values:\n",
    "            break\n",
    "        seen_values.append(new_remainder)\n",
    "        remainder = new_remainder * 10\n",
    "    return result\n",
    "\n",
    "search_space = 1000\n",
    "\n",
    "longest = 0\n",
    "long_cycle = []\n",
    "for n in range(1,search_space):\n",
    "    cycle = longest_cycle(n)\n",
    "    length = len(cycle)\n",
    "    if len(cycle) > longest:\n",
    "        longest = length\n",
    "        long_cycle = cycle\n",
    "    # print(n,length,cycle)\n",
    "\n",
    "# print(longest,len(long_cycle)-1,long_cycle[:-1])\n",
    "print(longest)"
   ]
  },
  {
   "cell_type": "markdown",
   "metadata": {},
   "source": [
    "## ANSWER = 983"
   ]
  }
 ],
 "metadata": {
  "kernelspec": {
   "display_name": "Python 3.10.4 ('project_euler-n_y2k3fO')",
   "language": "python",
   "name": "python3"
  },
  "language_info": {
   "codemirror_mode": {
    "name": "ipython",
    "version": 3
   },
   "file_extension": ".py",
   "mimetype": "text/x-python",
   "name": "python",
   "nbconvert_exporter": "python",
   "pygments_lexer": "ipython3",
   "version": "3.10.4"
  },
  "orig_nbformat": 4,
  "vscode": {
   "interpreter": {
    "hash": "2458aa9317e3ad091dce09405bd27e58e704aecbe1f7d76e8b0c3a84d1557548"
   }
  }
 },
 "nbformat": 4,
 "nbformat_minor": 2
}
