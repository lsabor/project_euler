{
 "cells": [
  {
   "cell_type": "markdown",
   "metadata": {},
   "source": [
    "## Totient permutation\n",
    "Problem 70\n",
    "\n",
    "Euler's Totient function, φ(n) [sometimes called the phi function], is used to determine the number of positive numbers less than or equal to n which are relatively prime to n. For example, as 1, 2, 4, 5, 7, and 8, are all less than nine and relatively prime to nine, φ(9)=6.\n",
    "The number 1 is considered to be relatively prime to every positive number, so φ(1)=1.\n",
    "\n",
    "Interestingly, φ(87109)=79180, and it can be seen that 87109 is a permutation of 79180.\n",
    "\n",
    "Find the value of n, 1 < n < 1e7, for which φ(n) is a permutation of n and the ratio n/φ(n) produces a minimum.\n",
    "\n",
    "\n",
    "Link: https://projecteuler.net/problem=70\n",
    "\n",
    "Date solved:  \n",
    "2022/08/13  \n",
    "solved with Michael Morgan  "
   ]
  },
  {
   "cell_type": "code",
   "execution_count": 4,
   "metadata": {},
   "outputs": [],
   "source": [
    "# imports\n",
    "from maths import combinations\n",
    "from sequences import PrimesSeq"
   ]
  },
  {
   "cell_type": "code",
   "execution_count": 5,
   "metadata": {},
   "outputs": [
    {
     "data": {
      "text/plain": [
       "8319823"
      ]
     },
     "execution_count": 5,
     "metadata": {},
     "output_type": "execute_result"
    }
   ],
   "source": [
    "# since n/phi(n) is minimized when n has fewest factors\n",
    "# if n is prime, phi(n) is n-1, and thus not a permutation of n\n",
    "# so we look for n that is composite, with fewest factors.\n",
    "# We can choose 2 prime numbers from near sqrt(1e7)\n",
    "# 1e4 > sqrt(1e7), so we'll search through pairs of primes all lower than 1e4\n",
    "\n",
    "P = PrimesSeq()\n",
    "Ps = P.takeWhileLT(1e4)\n",
    "\n",
    "\n",
    "def is_permutation(a: int, b: int) -> bool:\n",
    "    return sorted(str(a)) == sorted(str(b))\n",
    "\n",
    "\n",
    "def prod_totient(p1, p2) -> tuple[int, int]:\n",
    "    \"\"\"returns the totient of p1*p2 given p1 and p2 are prime\"\"\"\n",
    "    prod = p1 * p2\n",
    "    totient = prod - p1 - p2 + 1\n",
    "    return prod, totient\n",
    "\n",
    "\n",
    "def totient_permutation():\n",
    "    answers = []\n",
    "\n",
    "    for p1, p2 in combinations(Ps, 2):\n",
    "        n, totient = prod_totient(p1, p2)\n",
    "        if n >= 10 ** 7: continue\n",
    "        if is_permutation(n, totient):\n",
    "            ratio = n / totient\n",
    "            answers.append((ratio, n, totient, (p1, p2)))\n",
    "\n",
    "    return sorted(answers)[0]\n",
    "\n",
    "\n",
    "\n",
    "totient_permutation()[1]"
   ]
  },
  {
   "cell_type": "markdown",
   "metadata": {},
   "source": [
    "## ANSWER = 8319823"
   ]
  }
 ],
 "metadata": {
  "kernelspec": {
   "display_name": "Python 3.10.4 ('project_euler-n_y2k3fO')",
   "language": "python",
   "name": "python3"
  },
  "language_info": {
   "codemirror_mode": {
    "name": "ipython",
    "version": 3
   },
   "file_extension": ".py",
   "mimetype": "text/x-python",
   "name": "python",
   "nbconvert_exporter": "python",
   "pygments_lexer": "ipython3",
   "version": "3.10.4"
  },
  "orig_nbformat": 4,
  "vscode": {
   "interpreter": {
    "hash": "2458aa9317e3ad091dce09405bd27e58e704aecbe1f7d76e8b0c3a84d1557548"
   }
  }
 },
 "nbformat": 4,
 "nbformat_minor": 2
}
