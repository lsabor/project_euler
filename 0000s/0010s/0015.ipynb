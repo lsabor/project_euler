{
 "cells": [
  {
   "cell_type": "markdown",
   "metadata": {},
   "source": [
    "## Lattice paths\n",
    "\n",
    "Problem 15\n",
    "\n",
    "Starting in the top left corner of a 2×2 grid, and only being able to move to the right and down, there are exactly 6 routes to the bottom right corner.\n",
    "\n",
    "How many such routes are there through a 20×20 grid?\n",
    "\n",
    "Link: https://projecteuler.net/problem=15\n",
    "\n",
    "Date solved:  \n",
    "2022/03/06\n",
    "\n",
    "Co-solved with Andrew Roberts  \n",
    "Github: @ajroberts0417"
   ]
  },
  {
   "cell_type": "code",
   "execution_count": 3,
   "metadata": {},
   "outputs": [],
   "source": [
    "# imports\n",
    "import sys\n",
    "sys.path.append('../../modules')\n",
    "\n",
    "\n",
    "import maths\n",
    "\n"
   ]
  },
  {
   "cell_type": "code",
   "execution_count": 6,
   "metadata": {},
   "outputs": [
    {
     "data": {
      "text/plain": [
       "137846528820"
      ]
     },
     "execution_count": 6,
     "metadata": {},
     "output_type": "execute_result"
    }
   ],
   "source": [
    "# %%timeit # results = 6.78 µs ± 296 ns per loop (mean ± std. dev. of 7 runs, 100,000 loops each)\n",
    "\n",
    "n = 40\n",
    "k = 20\n",
    "\n",
    "maths.n_choose_k(n,k)\n"
   ]
  },
  {
   "cell_type": "markdown",
   "metadata": {},
   "source": [
    "## ANSWER = 137846528820"
   ]
  }
 ],
 "metadata": {
  "interpreter": {
   "hash": "fa6d3aa3e59b0d3ec5716a83fdfe307fbe220500d62ba18b8aa8ea0f1364950a"
  },
  "kernelspec": {
   "display_name": "Python 3.9.7 ('project_euler')",
   "language": "python",
   "name": "python3"
  },
  "language_info": {
   "codemirror_mode": {
    "name": "ipython",
    "version": 3
   },
   "file_extension": ".py",
   "mimetype": "text/x-python",
   "name": "python",
   "nbconvert_exporter": "python",
   "pygments_lexer": "ipython3",
   "version": "3.8.8"
  },
  "orig_nbformat": 4
 },
 "nbformat": 4,
 "nbformat_minor": 2
}
