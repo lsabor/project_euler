{
    "cells": [
        {
            "cell_type": "markdown",
            "metadata": {},
            "source": [
                "## Lattice paths\n",
                "\n",
                "Problem 15\n",
                "\n",
                "Starting in the top left corner of a 2×2 grid, and only being able to move to the right and down, there are exactly 6 routes to the bottom right corner.\n",
                "\n",
                "How many such routes are there through a 20×20 grid?\n",
                "\n",
                "Link: https://projecteuler.net/problem=15\n",
                "\n",
                "Date solved:  \n",
                "2022/03/06\n",
                "\n",
                "Co-solved with Andrew Roberts  \n",
                "Github: @ajroberts0417"
            ]
        },
        {
            "cell_type": "code",
            "execution_count": 1,
            "metadata": {},
            "outputs": [],
            "source": [
                "# imports\n",
                "from maths.math import nChoosek"
            ]
        },
        {
            "cell_type": "code",
            "execution_count": 2,
            "metadata": {},
            "outputs": [
                {
                    "data": {
                        "text/plain": [
                            "137846528820"
                        ]
                    },
                    "execution_count": 2,
                    "metadata": {},
                    "output_type": "execute_result"
                }
            ],
            "source": [
                "# in a square lattice path, to get from the top left to bottom right,\n",
                "# at each intersection you can choose to go down or right\n",
                "# thus, of the 40 moves you make, you have to choose\n",
                "# 20 of them to be right hand turns\n",
                "# hence, 40 choose 20 is the correct answer\n",
                "\n",
                "n = 40\n",
                "k = 20\n",
                "\n",
                "nChoosek(n,k)"
            ]
        },
        {
            "cell_type": "markdown",
            "metadata": {},
            "source": [
                "## ANSWER = 137846528820"
            ]
        }
    ],
    "metadata": {
        "kernelspec": {
            "display_name": "Python 3.10.4 ('project_euler-n_y2k3fO')",
            "language": "python",
            "name": "python3"
        },
        "language_info": {
            "codemirror_mode": {
                "name": "ipython",
                "version": 3
            },
            "file_extension": ".py",
            "mimetype": "text/x-python",
            "name": "python",
            "nbconvert_exporter": "python",
            "pygments_lexer": "ipython3",
            "version": "3.10.4"
        },
        "orig_nbformat": 4,
        "vscode": {
            "interpreter": {
                "hash": "2458aa9317e3ad091dce09405bd27e58e704aecbe1f7d76e8b0c3a84d1557548"
            }
        }
    },
    "nbformat": 4,
    "nbformat_minor": 2
}