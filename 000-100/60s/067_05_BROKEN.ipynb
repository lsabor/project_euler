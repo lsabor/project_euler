{
    "cells": [
        {
            "cell_type": "markdown",
            "metadata": {},
            "source": [
                "## Maximum path sum II\n",
                "\n",
                "Problem 67\n",
                "\n",
                "By starting at the top of the triangle below and moving to adjacent numbers on the row below, the maximum total from top to bottom is 23.\n",
                "\n",
                "3\n",
                "7 4\n",
                "2 4 6\n",
                "8 5 9 3\n",
                "\n",
                "That is, 3 + 7 + 4 + 9 = 23.\n",
                "\n",
                "Find the maximum total from top to bottom in triangle.txt (right click and 'Save Link/Target As...'), a 15K text file containing a triangle with one-hundred rows.\n",
                "\n",
                "NOTE: This is a much more difficult version of Problem 18. It is not possible to try every route to solve this problem, as there are 299 altogether! If you could check one trillion (1012) routes every second it would take over twenty billion years to check them all. There is an efficient algorithm to solve it. ;o)\n",
                "\n",
                "\n",
                "\n",
                "Link: https://projecteuler.net/problem=67\n",
                "\n",
                "Date solved:  \n",
                "2022/04/02"
            ]
        },
        {
            "cell_type": "code",
            "execution_count": 1,
            "metadata": {},
            "outputs": [],
            "source": [
                "# imports\n",
                "\n",
                "from maths.parsing import readArrayStr\n",
                "from maths import graphs"
            ]
        },
        {
            "cell_type": "code",
            "execution_count": 2,
            "metadata": {},
            "outputs": [
                {
                    "ename": "TypeError",
                    "evalue": "unhashable type: 'Node'",
                    "output_type": "error",
                    "traceback": [
                        "\u001b[1;31m---------------------------------------------------------------------------\u001b[0m",
                        "\u001b[1;31mTypeError\u001b[0m                                 Traceback (most recent call last)",
                        "\u001b[1;32mc:\\Users\\lukes\\OneDrive\\Documents\\coding\\projecteuler\\000-100\\60s\\067_05_BROKEN.ipynb Cell 3\u001b[0m in \u001b[0;36m<cell line: 12>\u001b[1;34m()\u001b[0m\n\u001b[0;32m     <a href='vscode-notebook-cell:/c%3A/Users/lukes/OneDrive/Documents/coding/projecteuler/000-100/60s/067_05_BROKEN.ipynb#W2sZmlsZQ%3D%3D?line=22'>23</a>\u001b[0m next_node_1  \u001b[39m=\u001b[39m next_row[j] \u001b[39mif\u001b[39;00m i\u001b[39m+\u001b[39m\u001b[39m1\u001b[39m \u001b[39m<\u001b[39m \u001b[39mlen\u001b[39m(array) \u001b[39melse\u001b[39;00m next_row[\u001b[39m0\u001b[39m]\n\u001b[0;32m     <a href='vscode-notebook-cell:/c%3A/Users/lukes/OneDrive/Documents/coding/projecteuler/000-100/60s/067_05_BROKEN.ipynb#W2sZmlsZQ%3D%3D?line=23'>24</a>\u001b[0m next_node_2  \u001b[39m=\u001b[39m next_row[j\u001b[39m+\u001b[39m\u001b[39m1\u001b[39m] \u001b[39mif\u001b[39;00m i\u001b[39m+\u001b[39m\u001b[39m1\u001b[39m \u001b[39m<\u001b[39m \u001b[39mlen\u001b[39m(array) \u001b[39melse\u001b[39;00m next_row[\u001b[39m0\u001b[39m]\n\u001b[1;32m---> <a href='vscode-notebook-cell:/c%3A/Users/lukes/OneDrive/Documents/coding/projecteuler/000-100/60s/067_05_BROKEN.ipynb#W2sZmlsZQ%3D%3D?line=24'>25</a>\u001b[0m new_edge_1 \u001b[39m=\u001b[39m graphs\u001b[39m.\u001b[39;49mEdge(length\u001b[39m=\u001b[39;49m\u001b[39m100\u001b[39;49m\u001b[39m-\u001b[39;49medge_length,node0\u001b[39m=\u001b[39;49mcurrent_node,node1\u001b[39m=\u001b[39;49mnext_node_1)\n\u001b[0;32m     <a href='vscode-notebook-cell:/c%3A/Users/lukes/OneDrive/Documents/coding/projecteuler/000-100/60s/067_05_BROKEN.ipynb#W2sZmlsZQ%3D%3D?line=25'>26</a>\u001b[0m new_edge_2 \u001b[39m=\u001b[39m graphs\u001b[39m.\u001b[39mEdge(length\u001b[39m=\u001b[39m\u001b[39m100\u001b[39m\u001b[39m-\u001b[39medge_length,node0\u001b[39m=\u001b[39mcurrent_node,node1\u001b[39m=\u001b[39mnext_node_2)\n\u001b[0;32m     <a href='vscode-notebook-cell:/c%3A/Users/lukes/OneDrive/Documents/coding/projecteuler/000-100/60s/067_05_BROKEN.ipynb#W2sZmlsZQ%3D%3D?line=26'>27</a>\u001b[0m graph\u001b[39m.\u001b[39maddEdgeSet(\u001b[39mset\u001b[39m([new_edge_1,new_edge_2]))\n",
                        "File \u001b[1;32m~\\OneDrive\\Documents\\coding\\projecteuler\\modules\\maths\\graphs\\graphs.py:35\u001b[0m, in \u001b[0;36mEdge.__init__\u001b[1;34m(self, node0, node1, length, direction, flag)\u001b[0m\n\u001b[0;32m     33\u001b[0m \u001b[39mself\u001b[39m\u001b[39m.\u001b[39mnode1 \u001b[39m=\u001b[39m node1\n\u001b[0;32m     34\u001b[0m \u001b[39mself\u001b[39m\u001b[39m.\u001b[39mlength \u001b[39m=\u001b[39m length\n\u001b[1;32m---> 35\u001b[0m \u001b[39mself\u001b[39m\u001b[39m.\u001b[39mnodes \u001b[39m=\u001b[39m \u001b[39mset\u001b[39;49m((\u001b[39mself\u001b[39;49m\u001b[39m.\u001b[39;49mnode0, \u001b[39mself\u001b[39;49m\u001b[39m.\u001b[39;49mnode1))\n\u001b[0;32m     36\u001b[0m \u001b[39mself\u001b[39m\u001b[39m.\u001b[39mflag \u001b[39m=\u001b[39m flag\n\u001b[0;32m     37\u001b[0m \u001b[39mself\u001b[39m\u001b[39m.\u001b[39mupdateDirection(direction)\n",
                        "\u001b[1;31mTypeError\u001b[0m: unhashable type: 'Node'"
                    ]
                }
            ],
            "source": [
                "file_name = '../../problem_files/p067_triangle.txt'\n",
                "with open(file_name,'r') as f:\n",
                "    triangle = f.read()\n",
                "\n",
                "array = readArrayStr(triangle)\n",
                "\n",
                "graph = graphs.Graph()\n",
                "\n",
                "# makes a graph with edges equal to length of numbers in triangle\n",
                "first_node = graphs.Node('FIRST_NODE')\n",
                "current_row = [first_node]\n",
                "for i,row in enumerate(array):\n",
                "    if i+1 < len(array):\n",
                "        next_row = []\n",
                "        for k in range(i+2):\n",
                "            next_row_node = graphs.Node(value=f'({i},{k})')\n",
                "            next_row.append(next_row_node)\n",
                "    else:\n",
                "        final_node = graphs.Node(value = 'FINAL_NODE')\n",
                "        next_row = [final_node]\n",
                "    for j,edge_length in enumerate(row):\n",
                "        current_node = current_row[j]\n",
                "        next_node_1  = next_row[j] if i+1 < len(array) else next_row[0]\n",
                "        next_node_2  = next_row[j+1] if i+1 < len(array) else next_row[0]\n",
                "        new_edge_1 = graphs.Edge(length=100-edge_length,node0=current_node,node1=next_node_1)\n",
                "        new_edge_2 = graphs.Edge(length=100-edge_length,node0=current_node,node1=next_node_2)\n",
                "        graph.addEdgeSet(set([new_edge_1,new_edge_2]))\n",
                "    current_row = next_row\n",
                "        \n",
                "# finds shortest path from top to bottom, edge_length = 100-number\n",
                "# TODO: takes 5 minutes, should be refactored\n",
                "inverse_path_len,path_nodes = graph.shortestPathDirectional(first_node,final_node)\n",
                "\n",
                "path_length = 0\n",
                "for i in range(len(path_nodes)-1):\n",
                "    genesis = path_nodes[i]\n",
                "    destiny = path_nodes[i+1]\n",
                "    relevant_edges = [edge for edge in graph.edges if edge.doesDirectionallyConnectNodes(genesis,destiny)]\n",
                "    edge = min(relevant_edges,key = lambda x: x.length)\n",
                "    real_length = round(-(edge.length-100))\n",
                "    path_length += real_length\n",
                "\n",
                "path_length"
            ]
        },
        {
            "cell_type": "markdown",
            "metadata": {},
            "source": [
                "## ANSWER = 7273"
            ]
        }
    ],
    "metadata": {
        "kernelspec": {
            "display_name": "Python 3.10.4 ('projecteuler-GuJiYf8I')",
            "language": "python",
            "name": "python3"
        },
        "language_info": {
            "codemirror_mode": {
                "name": "ipython",
                "version": 3
            },
            "file_extension": ".py",
            "mimetype": "text/x-python",
            "name": "python",
            "nbconvert_exporter": "python",
            "pygments_lexer": "ipython3",
            "version": "3.10.4"
        },
        "orig_nbformat": 4,
        "vscode": {
            "interpreter": {
                "hash": "e623ed2e3d07890468d8884af07d1d8dcf18fc6cdd22d6e1e3bd8c90cdbd4ebc"
            }
        }
    },
    "nbformat": 4,
    "nbformat_minor": 2
}
