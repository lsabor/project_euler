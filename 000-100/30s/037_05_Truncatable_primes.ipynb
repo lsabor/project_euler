{
    "cells": [
        {
            "cell_type": "markdown",
            "metadata": {},
            "source": [
                "## Truncatable primes\n",
                "\n",
                "Problem 37\n",
                "\n",
                "The number 3797 has an interesting property. Being prime itself, it is possible to continuously remove digits from left to right, and remain prime at each stage: 3797, 797, 97, and 7. Similarly we can work from right to left: 3797, 379, 37, and 3.\n",
                "\n",
                "Find the sum of the only eleven primes that are both truncatable from left to right and right to left.\n",
                "\n",
                "NOTE: 2, 3, 5, and 7 are not considered to be truncatable primes.\n",
                "\n",
                "\n",
                "Link: https://projecteuler.net/problem=37\n",
                "\n",
                "Date solved:  \n",
                "2022/06/29"
            ]
        },
        {
            "cell_type": "code",
            "execution_count": 1,
            "metadata": {},
            "outputs": [],
            "source": [
                "# imports\n",
                "from maths.sequences import PrimesSeq"
            ]
        },
        {
            "cell_type": "code",
            "execution_count": 2,
            "metadata": {},
            "outputs": [
                {
                    "data": {
                        "text/plain": [
                            "748317"
                        ]
                    },
                    "execution_count": 2,
                    "metadata": {},
                    "output_type": "execute_result"
                }
            ],
            "source": [
                "# %%timeit 53.1 ms ± 3.1 ms per loop (mean ± std. dev. of 7 runs, 10 loops each)\n",
                "\n",
                "P = PrimesSeq()\n",
                "p_list = P.seq\n",
                "p_set = P.set()\n",
                "\n",
                "def is_left_truncated_prime(p):\n",
                "    if p < 10:\n",
                "        return p in set((2,3,5,7))\n",
                "    else:\n",
                "        truncated = int(str(p)[1:])\n",
                "        if truncated in p_set:\n",
                "            return is_left_truncated_prime(truncated)\n",
                "        else:\n",
                "            return False\n",
                "\n",
                "def is_right_truncated_prime(p):\n",
                "    if p < 10:\n",
                "        return p in set((2,3,5,7))\n",
                "    else:\n",
                "        truncated = int(str(p)[:-1])\n",
                "        if truncated in p_set:\n",
                "            return is_right_truncated_prime(truncated)\n",
                "        else:\n",
                "            return False\n",
                "\n",
                "double_truncated_primes = []\n",
                "double_truncated_primes_count = 0\n",
                "for p in p_list[4:]:\n",
                "    if is_left_truncated_prime(p) and is_right_truncated_prime(p):\n",
                "        double_truncated_primes.append(p)\n",
                "        double_truncated_primes_count += 1\n",
                "    if double_truncated_primes_count == 11:\n",
                "        break\n",
                "\n",
                "sum(double_truncated_primes)\n",
                "\n"
            ]
        },
        {
            "cell_type": "markdown",
            "metadata": {},
            "source": [
                "## ANSWER = 748317"
            ]
        }
    ],
    "metadata": {
        "kernelspec": {
            "display_name": "Python 3.10.5 ('project_euler-n_y2k3fO')",
            "language": "python",
            "name": "python3"
        },
        "language_info": {
            "codemirror_mode": {
                "name": "ipython",
                "version": 3
            },
            "file_extension": ".py",
            "mimetype": "text/x-python",
            "name": "python",
            "nbconvert_exporter": "python",
            "pygments_lexer": "ipython3",
            "version": "3.10.4"
        },
        "orig_nbformat": 4,
        "vscode": {
            "interpreter": {
                "hash": "2458aa9317e3ad091dce09405bd27e58e704aecbe1f7d76e8b0c3a84d1557548"
            }
        }
    },
    "nbformat": 4,
    "nbformat_minor": 2
}
