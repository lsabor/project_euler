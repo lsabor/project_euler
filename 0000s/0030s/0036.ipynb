{
 "cells": [
  {
   "cell_type": "markdown",
   "metadata": {},
   "source": [
    "## Double-base palindromes\n",
    "Problem 36\n",
    "\n",
    "The decimal number, 585 = 1001001001_2 (binary), is palindromic in both bases.\n",
    "\n",
    "Find the sum of all numbers, less than one million, which are palindromic in base 10 and base 2.\n",
    "\n",
    "(Please note that the palindromic number, in either base, may not include leading zeros.)\n",
    "\n",
    "\n",
    "Link: https://projecteuler.net/problem=36\n",
    "\n",
    "Date solved:  \n",
    "2022/06/13"
   ]
  },
  {
   "cell_type": "code",
   "execution_count": 3,
   "metadata": {},
   "outputs": [],
   "source": [
    "# imports\n"
   ]
  },
  {
   "cell_type": "code",
   "execution_count": 16,
   "metadata": {},
   "outputs": [
    {
     "data": {
      "text/plain": [
       "872187"
      ]
     },
     "execution_count": 16,
     "metadata": {},
     "output_type": "execute_result"
    }
   ],
   "source": [
    "max_value = int(1e6)\n",
    "\n",
    "sum_db_palendromes = 0\n",
    "for n in range(max_value):\n",
    "    decimal_strint = str(n)\n",
    "    if decimal_strint == decimal_strint[::-1]:\n",
    "        binary_strint = bin(n)[2:]\n",
    "        if binary_strint == binary_strint[::-1]:\n",
    "            sum_db_palendromes += n\n",
    "\n",
    "sum_db_palendromes"
   ]
  },
  {
   "cell_type": "markdown",
   "metadata": {},
   "source": [
    "## ANSWER = 872187"
   ]
  }
 ],
 "metadata": {
  "interpreter": {
   "hash": "fbcbf67343b13381930d1067ff70a24a78f610e673a8197754ee4c9242023545"
  },
  "kernelspec": {
   "display_name": "Python 3.10.0 ('euler_project')",
   "language": "python",
   "name": "python3"
  },
  "language_info": {
   "codemirror_mode": {
    "name": "ipython",
    "version": 3
   },
   "file_extension": ".py",
   "mimetype": "text/x-python",
   "name": "python",
   "nbconvert_exporter": "python",
   "pygments_lexer": "ipython3",
   "version": "3.10.0"
  },
  "orig_nbformat": 4
 },
 "nbformat": 4,
 "nbformat_minor": 2
}
