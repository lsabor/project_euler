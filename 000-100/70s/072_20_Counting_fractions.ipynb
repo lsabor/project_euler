{
    "cells": [
        {
            "cell_type": "markdown",
            "metadata": {},
            "source": [
                "## Counting fractions\n",
                "Problem 72\n",
                "\n",
                "Consider the fraction, n/d, where n and d are positive integers. If n<d and HCF(n,d)=1, it is called a reduced proper fraction.\n",
                "\n",
                "If we list the set of reduced proper fractions for d ≤ 8 in ascending order of size, we get:\n",
                "\n",
                "1/8, 1/7, 1/6, 1/5, 1/4, 2/7, 1/3, 3/8, 2/5, 3/7, 1/2, 4/7, 3/5, 5/8, 2/3, 5/7, 3/4, 4/5, 5/6, 6/7, 7/8\n",
                "\n",
                "It can be seen that there are 21 elements in this set.\n",
                "\n",
                "How many elements would be contained in the set of reduced proper fractions for d ≤ 1,000,000?\n",
                "\n",
                "Link: https://projecteuler.net/problem=72\n",
                "\n",
                "Date solved:  \n",
                "2022/08/16"
            ]
        },
        {
            "cell_type": "code",
            "execution_count": 5,
            "metadata": {},
            "outputs": [],
            "source": [
                "# imports\n",
                "from maths.sequences import PrimesSeq"
            ]
        },
        {
            "cell_type": "code",
            "execution_count": 18,
            "metadata": {},
            "outputs": [
                {
                    "data": {
                        "text/plain": [
                            "303963552391"
                        ]
                    },
                    "execution_count": 18,
                    "metadata": {},
                    "output_type": "execute_result"
                }
            ],
            "source": [
                "# is equivalent to sum of totients from 1 -> 1e6, which sucks to compute\n",
                "# we will use a seiving tactic to calculate the totients of all numbers in the range\n",
                "\n",
                "threshold = int(1e6)\n",
                "ps = PrimesSeq().takeWhileLE(threshold)\n",
                "\n",
                "def count_unique_fractions(threshold):\n",
                "    totients = list(range(2,threshold+1))\n",
                "    for p in ps:\n",
                "        current = p\n",
                "        ratio = 1-1/p\n",
                "        while current <= threshold:\n",
                "            totients[current-2] *= ratio\n",
                "            current += p\n",
                "    return int(sum(totients))\n",
                "\n",
                "\n",
                "count_unique_fractions(threshold)"
            ]
        },
        {
            "cell_type": "markdown",
            "metadata": {},
            "source": [
                "## ANSWER = 303963552391"
            ]
        }
    ],
    "metadata": {
        "kernelspec": {
            "display_name": "Python 3.10.4 ('project_euler-n_y2k3fO')",
            "language": "python",
            "name": "python3"
        },
        "language_info": {
            "codemirror_mode": {
                "name": "ipython",
                "version": 3
            },
            "file_extension": ".py",
            "mimetype": "text/x-python",
            "name": "python",
            "nbconvert_exporter": "python",
            "pygments_lexer": "ipython3",
            "version": "3.10.4"
        },
        "orig_nbformat": 4,
        "vscode": {
            "interpreter": {
                "hash": "2458aa9317e3ad091dce09405bd27e58e704aecbe1f7d76e8b0c3a84d1557548"
            }
        }
    },
    "nbformat": 4,
    "nbformat_minor": 2
}