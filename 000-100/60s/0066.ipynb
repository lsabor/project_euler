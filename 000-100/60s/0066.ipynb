{
 "cells": [
  {
   "cell_type": "markdown",
   "metadata": {},
   "source": [
    "## Diophantine equation\n",
    "Problem 66\n",
    "\n",
    "Consider quadratic Diophantine equations of the form:\n",
    "\n",
    "x2 – Dy2 = 1\n",
    "\n",
    "For example, when D=13, the minimal solution in x is 6492 – 13×1802 = 1.\n",
    "\n",
    "It can be assumed that there are no solutions in positive integers when D is square.\n",
    "\n",
    "By finding minimal solutions in x for D = {2, 3, 5, 6, 7}, we obtain the following:\n",
    "\n",
    "3^2 – 2×2^2 = 1  \n",
    "2^2 – 3×1^2 = 1  \n",
    "9^2 – 5×4^2 = 1  \n",
    "5^2 – 6×2^2 = 1  \n",
    "8^2 – 7×3^2 = 1  \n",
    "\n",
    "Hence, by considering minimal solutions in x for D ≤ 7, the largest x is obtained when D=5.\n",
    "\n",
    "Find the value of D ≤ 1000 in minimal solutions of x for which the largest value of x is obtained.\n",
    "\n",
    "\n",
    "Link: https://projecteuler.net/problem=66\n",
    "\n",
    "Date solved:  \n",
    "2022/"
   ]
  },
  {
   "cell_type": "code",
   "execution_count": 1,
   "metadata": {},
   "outputs": [],
   "source": [
    "# imports\n",
    "from math import sqrt"
   ]
  },
  {
   "cell_type": "code",
   "execution_count": 2,
   "metadata": {},
   "outputs": [
    {
     "data": {
      "text/plain": [
       "661"
      ]
     },
     "execution_count": 2,
     "metadata": {},
     "output_type": "execute_result"
    }
   ],
   "source": [
    "threshold = 1000\n",
    "\n",
    "def find_diophantine_solutions(threshold):\n",
    "    # finding solutions using continued fractions\n",
    "\n",
    "    biggest_D = 0\n",
    "    biggest_x = 0\n",
    "\n",
    "    for D in range(2,threshold+1):\n",
    "        limit = sqrt(D)\n",
    "        if limit%1 == 0:\n",
    "            continue\n",
    "        limit = int(limit)\n",
    "\n",
    "        m = 0\n",
    "        d = 1\n",
    "        a = limit\n",
    "\n",
    "        x1 = 1\n",
    "        x = a\n",
    "\n",
    "        y1 = 0\n",
    "        y = 1\n",
    "\n",
    "        while (((x**2) - (D * (y**2))) != 1):\n",
    "            m = d*a - m\n",
    "            d = int((D-m**2)/d)\n",
    "            a = int((limit + m)/d)\n",
    "\n",
    "            x2 = x1\n",
    "            x1 = x\n",
    "            y2 = y1\n",
    "            y1 = y\n",
    "\n",
    "            x = a*x1 + x2\n",
    "            y = a*y1 + y2\n",
    "\n",
    "        if x>biggest_x:\n",
    "            biggest_x = x\n",
    "            biggest_D = D\n",
    "        \n",
    "    return biggest_D\n",
    "    \n",
    "find_diophantine_solutions(threshold)\n"
   ]
  },
  {
   "cell_type": "markdown",
   "metadata": {},
   "source": [
    "## ANSWER = 661"
   ]
  }
 ],
 "metadata": {
  "kernelspec": {
   "display_name": "Python 3.10.4 ('project_euler-n_y2k3fO')",
   "language": "python",
   "name": "python3"
  },
  "language_info": {
   "codemirror_mode": {
    "name": "ipython",
    "version": 3
   },
   "file_extension": ".py",
   "mimetype": "text/x-python",
   "name": "python",
   "nbconvert_exporter": "python",
   "pygments_lexer": "ipython3",
   "version": "3.10.4"
  },
  "orig_nbformat": 4,
  "vscode": {
   "interpreter": {
    "hash": "2458aa9317e3ad091dce09405bd27e58e704aecbe1f7d76e8b0c3a84d1557548"
   }
  }
 },
 "nbformat": 4,
 "nbformat_minor": 2
}
