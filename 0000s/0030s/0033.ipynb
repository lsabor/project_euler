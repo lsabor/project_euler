{
 "cells": [
  {
   "cell_type": "markdown",
   "metadata": {},
   "source": [
    "## Digit cancelling fractions\n",
    "Problem 33\n",
    "\n",
    "The fraction 49/98 is a curious fraction, as an inexperienced mathematician in attempting to simplify it may incorrectly believe that 49/98 = 4/8, which is correct, is obtained by cancelling the 9s.\n",
    "\n",
    "We shall consider fractions like, 30/50 = 3/5, to be trivial examples.\n",
    "\n",
    "There are exactly four non-trivial examples of this type of fraction, less than one in value, and containing two digits in the numerator and denominator.\n",
    "\n",
    "If the product of these four fractions is given in its lowest common terms, find the value of the denominator.\n",
    "\n",
    "\n",
    "Link: https://projecteuler.net/problem=33\n",
    "\n",
    "Date solved:  \n",
    "2022/06/07"
   ]
  },
  {
   "cell_type": "code",
   "execution_count": 1,
   "metadata": {},
   "outputs": [],
   "source": [
    "# imports\n",
    "import sys\n",
    "sys.path.append('../../modules')\n",
    "\n",
    "from itertools import product"
   ]
  },
  {
   "cell_type": "code",
   "execution_count": 11,
   "metadata": {},
   "outputs": [
    {
     "data": {
      "text/plain": [
       "[0.25, 0.2, 0.4, 0.5]"
      ]
     },
     "execution_count": 11,
     "metadata": {},
     "output_type": "execute_result"
    }
   ],
   "source": [
    "r = range(1,10)\n",
    "# there can never be a zero anywhere\n",
    "\n",
    "\n",
    "reducibles = []\n",
    "for i,j,d in product(r,r,r):\n",
    "    # cases\n",
    "    # id / jd\n",
    "    if i != j:\n",
    "        num = 10*i + d\n",
    "        den = 10*j + d\n",
    "        if num/den == i/j and num/den < 1:\n",
    "            reducibles.append(num/den)\n",
    "            # reducibles.append([i,d,j,d])\n",
    "    # id / dj\n",
    "    if i != d or j != d:\n",
    "        num = 10*i + d\n",
    "        den = 10*d + j\n",
    "        if num/den == i/j and num/den < 1:\n",
    "            reducibles.append(num/den)\n",
    "            # reducibles.append([i,d,d,j])\n",
    "    # di / jd\n",
    "    if i != d or j != d:\n",
    "        num = 10*d + i\n",
    "        den = 10*j + d\n",
    "        if num/den == i/j and num/den < 1:\n",
    "            reducibles.append(num/den)\n",
    "            # reducibles.append([d,i,j,d])\n",
    "    # di / dj\n",
    "    if i != j:\n",
    "        num = 10*d + i\n",
    "        den = 10*d + j\n",
    "        if num/den == i/j and num/den < 1:\n",
    "            reducibles.append(num/den)\n",
    "            # reducibles.append([d,i,d,j])\n",
    "\n",
    "reducibles\n"
   ]
  },
  {
   "cell_type": "code",
   "execution_count": 10,
   "metadata": {},
   "outputs": [
    {
     "data": {
      "text/plain": [
       "100"
      ]
     },
     "execution_count": 10,
     "metadata": {},
     "output_type": "execute_result"
    }
   ],
   "source": [
    "# 1/4 * 1/5 * 2/5 * 1/2\n",
    "# 2 / 200\n",
    "# 1 / 100\n",
    "100"
   ]
  },
  {
   "cell_type": "markdown",
   "metadata": {},
   "source": [
    "## ANSWER = 100"
   ]
  }
 ],
 "metadata": {
  "interpreter": {
   "hash": "fbcbf67343b13381930d1067ff70a24a78f610e673a8197754ee4c9242023545"
  },
  "kernelspec": {
   "display_name": "Python 3.10.0 ('euler_project')",
   "language": "python",
   "name": "python3"
  },
  "language_info": {
   "codemirror_mode": {
    "name": "ipython",
    "version": 3
   },
   "file_extension": ".py",
   "mimetype": "text/x-python",
   "name": "python",
   "nbconvert_exporter": "python",
   "pygments_lexer": "ipython3",
   "version": "3.10.0"
  },
  "orig_nbformat": 4
 },
 "nbformat": 4,
 "nbformat_minor": 2
}
