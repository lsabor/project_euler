{
 "cells": [
  {
   "cell_type": "markdown",
   "metadata": {},
   "source": [
    "## Special Pythagorean triplet\n",
    " \n",
    "Problem 9\n",
    "\n",
    "A Pythagorean triplet is a set of three natural numbers, a < b < c, for which,\n",
    "a2 + b2 = c2\n",
    "\n",
    "For example, 32 + 42 = 9 + 16 = 25 = 52.\n",
    "\n",
    "There exists exactly one Pythagorean triplet for which a + b + c = 1000.\n",
    "Find the product abc.\n",
    "\n",
    "\n",
    "Link: https://projecteuler.net/problem=9\n",
    "\n",
    "Date solved:  \n",
    "2022/03/05"
   ]
  },
  {
   "cell_type": "code",
   "execution_count": 1,
   "metadata": {},
   "outputs": [],
   "source": [
    "# imports\n",
    "import sys\n",
    "sys.path.append('../../modules')\n",
    "\n"
   ]
  },
  {
   "cell_type": "code",
   "execution_count": 13,
   "metadata": {},
   "outputs": [
    {
     "data": {
      "text/plain": [
       "31875000"
      ]
     },
     "execution_count": 13,
     "metadata": {},
     "output_type": "execute_result"
    }
   ],
   "source": [
    "# %%timeit # results = 76.8 ms ± 3.24 ms per loop (mean ± std. dev. of 7 runs, 10 loops each)\n",
    "# solution\n",
    "\n",
    "\n",
    "def is_pythagorean_triple(a,b,c):\n",
    "    return a**2 + b**2 == c**2\n",
    "\n",
    "def find_pythagorean(n):\n",
    "    a = 1\n",
    "    b = 2\n",
    "    c = n - b - a\n",
    "    while n//3 < c:\n",
    "        while  a < b:\n",
    "            if is_pythagorean_triple(a,b,c):\n",
    "                return a*b*c\n",
    "            a += 1\n",
    "            b -= 1\n",
    "        a  = 1\n",
    "        c -= 1\n",
    "        b  = n-c-a\n",
    "    \n",
    "find_pythagorean(1000)"
   ]
  },
  {
   "cell_type": "markdown",
   "metadata": {},
   "source": [
    "## ANSWER = 31875000"
   ]
  }
 ],
 "metadata": {
  "interpreter": {
   "hash": "fa6d3aa3e59b0d3ec5716a83fdfe307fbe220500d62ba18b8aa8ea0f1364950a"
  },
  "kernelspec": {
   "display_name": "Python 3.9.7 ('project_euler')",
   "language": "python",
   "name": "python3"
  },
  "language_info": {
   "codemirror_mode": {
    "name": "ipython",
    "version": 3
   },
   "file_extension": ".py",
   "mimetype": "text/x-python",
   "name": "python",
   "nbconvert_exporter": "python",
   "pygments_lexer": "ipython3",
   "version": "3.10.0"
  },
  "orig_nbformat": 4
 },
 "nbformat": 4,
 "nbformat_minor": 2
}
